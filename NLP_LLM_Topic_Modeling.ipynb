{
  "nbformat": 4,
  "nbformat_minor": 0,
  "metadata": {
    "colab": {
      "provenance": [],
      "toc_visible": true
    },
    "kernelspec": {
      "name": "python3",
      "display_name": "Python 3"
    },
    "language_info": {
      "name": "python"
    }
  },
  "cells": [
    {
      "cell_type": "markdown",
      "source": [
        "Заша задача - выделить основные тренды в видео генерации в 2024 году.\n",
        "\n",
        "- Получить метаданные статей с arXiv (любым способом) по теме “видео генерация”, выпущенных в 2024 году.\n",
        "- Написать код для выделения основных тем/трендов.\n",
        "Будет плюсом, если каждая тема будет представлена связным словосочетанием/предложением\n",
        "- Представить визуализацию результатов.\n"
      ],
      "metadata": {
        "id": "oVERdSvXwSe-"
      }
    },
    {
      "cell_type": "markdown",
      "source": [
        "# Импорт библиотек"
      ],
      "metadata": {
        "id": "WOJbxYITwLtc"
      }
    },
    {
      "cell_type": "code",
      "source": [
        "#!pip install numpy==1.24.0"
      ],
      "metadata": {
        "id": "wYiPAkVCTqd4"
      },
      "execution_count": null,
      "outputs": []
    },
    {
      "cell_type": "code",
      "execution_count": null,
      "metadata": {
        "id": "CXi4nJD8wIA-"
      },
      "outputs": [],
      "source": [
        "from bs4 import BeautifulSoup\n",
        "import requests\n",
        "import pandas as pd\n",
        "import re\n",
        "\n",
        "\n",
        "import matplotlib.pyplot as plt\n",
        "import matplotlib.mlab as mlab\n",
        "import seaborn as sb"
      ]
    },
    {
      "cell_type": "markdown",
      "source": [
        "# Парсинг"
      ],
      "metadata": {
        "id": "nDZxxE39wPvX"
      }
    },
    {
      "cell_type": "code",
      "source": [
        "url='https://arxiv.org/search/advanced?advanced=1&terms-0-operator=AND&terms-0-term=video+generation&terms-0-field=title&classification-computer_science=y&classification-physics_archives=all&classification-include_cross_list=include&date-filter_by=specific_year&date-year=2024&date-from_date=&date-to_date=&date-date_type=submitted_date&abstracts=show&size=200&order=-announced_date_first&start=0'\n",
        "url2='https://arxiv.org/search/advanced?advanced=1&terms-0-operator=AND&terms-0-term=video+generation&terms-0-field=title&classification-computer_science=y&classification-physics_archives=all&classification-include_cross_list=include&date-filter_by=specific_year&date-year=2024&date-from_date=&date-to_date=&date-date_type=submitted_date&abstracts=show&size=200&order=-announced_date_first&start=200'\n",
        "url3='https://arxiv.org/search/advanced?advanced=1&terms-0-operator=AND&terms-0-term=video+generation&terms-0-field=title&classification-computer_science=y&classification-physics_archives=all&classification-include_cross_list=include&date-filter_by=specific_year&date-year=2024&date-from_date=&date-to_date=&date-date_type=submitted_date&abstracts=show&size=200&order=-announced_date_first&start=400'\n",
        "urls = [url, url2, url3]"
      ],
      "metadata": {
        "id": "TCyRwnPlPTVt"
      },
      "execution_count": null,
      "outputs": []
    },
    {
      "cell_type": "code",
      "source": [
        "def get_dict_article(urls):\n",
        "  result = {}\n",
        "  for i in urls:\n",
        "    response = requests.get(i)\n",
        "    response.raise_for_status()  # Проверяем успешность запроса\n",
        "    soup = BeautifulSoup(response.text, 'html.parser')\n",
        "    articles = soup.find_all('li', class_='arxiv-result')\n",
        "    for index, article in enumerate(articles):\n",
        "          # Извлекаем заголовок\n",
        "          title_tag = article.find('p', class_='title')\n",
        "          title = title_tag.get_text(strip=True) if title_tag else \"\"\n",
        "\n",
        "          # Извлекаем аннотацию\n",
        "          abstract_tag = article.find('p', class_='abstract')\n",
        "          abstract = \"\"\n",
        "          if abstract_tag:\n",
        "              # Пытаемся получить полную аннотацию\n",
        "              full_abstract = abstract_tag.find('span', class_='abstract-full')\n",
        "              if full_abstract:\n",
        "                  abstract = full_abstract.get_text(strip=True)\n",
        "              else:\n",
        "                  # Если полной нет, берем сокращенную\n",
        "                  short_abstract = abstract_tag.find('span', class_='abstract-short')\n",
        "                  if short_abstract:\n",
        "                      abstract = short_abstract.get_text(strip=False)\n",
        "                      # Удаляем \"▽ More\" и все после него\n",
        "                      abstract = abstract.split('▽ More')[0].strip()\n",
        "\n",
        "              # Удаляем метку \"Abstract:\" если она есть\n",
        "              abstract = abstract.replace(\"Abstract:\", \"\").strip()\n",
        "\n",
        "          result[title] = [abstract]\n",
        "  return result"
      ],
      "metadata": {
        "id": "0Yrf4ML-PM4N"
      },
      "execution_count": null,
      "outputs": []
    },
    {
      "cell_type": "code",
      "source": [
        "result = get_dict_article(urls)"
      ],
      "metadata": {
        "id": "lXKH9mTJo3Eq"
      },
      "execution_count": null,
      "outputs": []
    },
    {
      "cell_type": "code",
      "source": [
        "data = pd.DataFrame()"
      ],
      "metadata": {
        "id": "XF4t-kIkWvGw"
      },
      "execution_count": null,
      "outputs": []
    },
    {
      "cell_type": "code",
      "source": [
        "data['abstract'] = result.values()"
      ],
      "metadata": {
        "id": "lOoim3MGP-ru"
      },
      "execution_count": null,
      "outputs": []
    },
    {
      "cell_type": "code",
      "source": [
        "data.shape"
      ],
      "metadata": {
        "colab": {
          "base_uri": "https://localhost:8080/"
        },
        "id": "L9DBsG7DYnvk",
        "outputId": "befe7dc3-8a76-4854-9a2d-d6c1bc5bc64c"
      },
      "execution_count": null,
      "outputs": [
        {
          "output_type": "execute_result",
          "data": {
            "text/plain": [
              "(444, 1)"
            ]
          },
          "metadata": {},
          "execution_count": 8
        }
      ]
    },
    {
      "cell_type": "markdown",
      "source": [
        "# EDA и Preproccesing"
      ],
      "metadata": {
        "id": "xdLxw1inMKgE"
      }
    },
    {
      "cell_type": "code",
      "source": [
        "data['abstract'] = data['abstract'].apply(lambda x: ' '.join(str(item) for item in x))"
      ],
      "metadata": {
        "id": "uZwxsQGTrJz_"
      },
      "execution_count": null,
      "outputs": []
    },
    {
      "cell_type": "code",
      "source": [
        "data['length'] = data.abstract.apply(lambda row: len(row.split()))\n",
        "print('Mean length: ', data['length'].mean())"
      ],
      "metadata": {
        "colab": {
          "base_uri": "https://localhost:8080/"
        },
        "id": "CzjKfGd5Y4VN",
        "outputId": "b99860cc-72cf-4800-874b-c26071fee27d"
      },
      "execution_count": null,
      "outputs": [
        {
          "output_type": "stream",
          "name": "stdout",
          "text": [
            "Mean length:  183.18018018018017\n"
          ]
        }
      ]
    },
    {
      "cell_type": "code",
      "source": [
        "import seaborn as sns\n",
        "sns.set_style(style=\"darkgrid\");\n",
        "\n",
        "sns.displot(data['length']);"
      ],
      "metadata": {
        "colab": {
          "base_uri": "https://localhost:8080/",
          "height": 506
        },
        "id": "skVk9pA9ZBkn",
        "outputId": "f17d7ba9-09bb-4b35-ec1c-0454a591b50e"
      },
      "execution_count": null,
      "outputs": [
        {
          "output_type": "display_data",
          "data": {
            "text/plain": [
              "<Figure size 500x500 with 1 Axes>"
            ],
            "image/png": "[encoded data removed]"
          },
          "metadata": {}
        }
      ]
    },
    {
      "cell_type": "code",
      "source": [
        "pd.set_option('display.width', None)"
      ],
      "metadata": {
        "id": "YKEvOhQEaf8y"
      },
      "execution_count": null,
      "outputs": []
    },
    {
      "cell_type": "code",
      "source": [
        "data['abstract']"
      ],
      "metadata": {
        "colab": {
          "base_uri": "https://localhost:8080/",
          "height": 458
        },
        "id": "CsWN0Xrxb5Y1",
        "outputId": "da76f2c9-01e3-4bda-b040-d9c53d1dabf7"
      },
      "execution_count": null,
      "outputs": [
        {
          "output_type": "execute_result",
          "data": {
            "text/plain": [
              "0      Multimodal representation learning, with contr...\n",
              "1      Video-to-audio (V2A) generation utilizes visua...\n",
              "2      Large-scale video generation models have the i...\n",
              "3      Zero-shot customized video generation has gain...\n",
              "4      The rapid growth of user-generated content (UG...\n",
              "                             ...                        \n",
              "439    In this paper, we present StyleLipSync, a styl...\n",
              "440    Generating text-editable and pose-controllable...\n",
              "441    Video Anomaly Detection (VAD) serves as a pivo...\n",
              "442    This paper tackles recipe generation from unse...\n",
              "443    We propose StyleTalker, a novel audio-driven t...\n",
              "Name: abstract, Length: 444, dtype: object"
            ],
            "text/html": [
              "<div>\n",
              "<style scoped>\n",
              "    .dataframe tbody tr th:only-of-type {\n",
              "        vertical-align: middle;\n",
              "    }\n",
              "\n",
              "    .dataframe tbody tr th {\n",
              "        vertical-align: top;\n",
              "    }\n",
              "\n",
              "    .dataframe thead th {\n",
              "        text-align: right;\n",
              "    }\n",
              "</style>\n",
              "<table border=\"1\" class=\"dataframe\">\n",
              "  <thead>\n",
              "    <tr style=\"text-align: right;\">\n",
              "      <th></th>\n",
              "      <th>abstract</th>\n",
              "    </tr>\n",
              "  </thead>\n",
              "  <tbody>\n",
              "    <tr>\n",
              "      <th>0</th>\n",
              "      <td>Multimodal representation learning, with contr...</td>\n",
              "    </tr>\n",
              "    <tr>\n",
              "      <th>1</th>\n",
              "      <td>Video-to-audio (V2A) generation utilizes visua...</td>\n",
              "    </tr>\n",
              "    <tr>\n",
              "      <th>2</th>\n",
              "      <td>Large-scale video generation models have the i...</td>\n",
              "    </tr>\n",
              "    <tr>\n",
              "      <th>3</th>\n",
              "      <td>Zero-shot customized video generation has gain...</td>\n",
              "    </tr>\n",
              "    <tr>\n",
              "      <th>4</th>\n",
              "      <td>The rapid growth of user-generated content (UG...</td>\n",
              "    </tr>\n",
              "    <tr>\n",
              "      <th>...</th>\n",
              "      <td>...</td>\n",
              "    </tr>\n",
              "    <tr>\n",
              "      <th>439</th>\n",
              "      <td>In this paper, we present StyleLipSync, a styl...</td>\n",
              "    </tr>\n",
              "    <tr>\n",
              "      <th>440</th>\n",
              "      <td>Generating text-editable and pose-controllable...</td>\n",
              "    </tr>\n",
              "    <tr>\n",
              "      <th>441</th>\n",
              "      <td>Video Anomaly Detection (VAD) serves as a pivo...</td>\n",
              "    </tr>\n",
              "    <tr>\n",
              "      <th>442</th>\n",
              "      <td>This paper tackles recipe generation from unse...</td>\n",
              "    </tr>\n",
              "    <tr>\n",
              "      <th>443</th>\n",
              "      <td>We propose StyleTalker, a novel audio-driven t...</td>\n",
              "    </tr>\n",
              "  </tbody>\n",
              "</table>\n",
              "<p>444 rows × 1 columns</p>\n",
              "</div><br><label><b>dtype:</b> object</label>"
            ]
          },
          "metadata": {},
          "execution_count": 13
        }
      ]
    },
    {
      "cell_type": "code",
      "source": [
        "def preprocess_text(text):\n",
        "    # Приведение к нижнему регистру\n",
        "    text = text.lower().strip()\n",
        "    # Удаление HTML-тегов\n",
        "    text = re.sub('<[^>]+>', '', text)\n",
        "    # Удаление URL\n",
        "    text = re.sub(r'http\\S+|www\\S+|https\\S+', '<URL>', text)\n",
        "    # Удаление знаков препинания\n",
        "    text = re.sub(r'[^\\w\\s]', '', text)\n",
        "    # Удаление цифр\n",
        "    text = re.sub(r'\\d+', '', text)\n",
        "    # Удаление пробелов\n",
        "    text = text.strip()\n",
        "\n",
        "    return text"
      ],
      "metadata": {
        "id": "pQIcNoR-eO_m"
      },
      "execution_count": null,
      "outputs": []
    },
    {
      "cell_type": "code",
      "source": [
        "data['abstract'] = data['abstract'].apply(preprocess_text)"
      ],
      "metadata": {
        "id": "iNVOGv4grCKZ"
      },
      "execution_count": null,
      "outputs": []
    },
    {
      "cell_type": "markdown",
      "source": [
        "Токинизируем"
      ],
      "metadata": {
        "id": "dWd4_63zfK9X"
      }
    },
    {
      "cell_type": "code",
      "source": [
        "import nltk\n",
        "from nltk.tokenize import word_tokenize\n",
        "from nltk.util import ngrams\n",
        "nltk.download('punkt_tab')\n",
        "\n",
        "def tokenize_and_ngram(text):\n",
        "\n",
        "    tokens = word_tokenize(text)\n",
        "\n",
        "\n",
        "    # unigrams = list(ngrams(tokens, 1))\n",
        "    # bigrams = list(ngrams(tokens, 2))\n",
        "    # trigrams = list(ngrams(tokens, 3))\n",
        "\n",
        "    # all_ngrams = unigrams + bigrams + trigrams\n",
        "    # all_ngrams = [' '.join(gram) for gram in all_ngrams]\n",
        "\n",
        "    return tokens\n",
        "\n",
        "\n",
        "data['abstract'] = data['abstract'].apply(tokenize_and_ngram)"
      ],
      "metadata": {
        "colab": {
          "base_uri": "https://localhost:8080/"
        },
        "id": "TT4lNMZ-fLwH",
        "outputId": "47285568-3c4e-4c0f-beac-88336342b952"
      },
      "execution_count": null,
      "outputs": [
        {
          "output_type": "stream",
          "name": "stderr",
          "text": [
            "[nltk_data] Downloading package punkt_tab to /root/nltk_data...\n",
            "[nltk_data]   Unzipping tokenizers/punkt_tab.zip.\n"
          ]
        }
      ]
    },
    {
      "cell_type": "code",
      "source": [
        "data"
      ],
      "metadata": {
        "colab": {
          "base_uri": "https://localhost:8080/",
          "height": 423
        },
        "id": "nnanQHDtRC4_",
        "outputId": "60a30110-d125-4e73-a8cc-c8a6007bcd1e"
      },
      "execution_count": null,
      "outputs": [
        {
          "output_type": "execute_result",
          "data": {
            "text/plain": [
              "                                              abstract  length\n",
              "0    [multimodal, representation, learning, with, c...     198\n",
              "1    [videotoaudio, va, generation, utilizes, visua...     146\n",
              "2    [largescale, video, generation, models, have, ...     202\n",
              "3    [zeroshot, customized, video, generation, has,...     182\n",
              "4    [the, rapid, growth, of, usergenerated, conten...     160\n",
              "..                                                 ...     ...\n",
              "439  [in, this, paper, we, present, stylelipsync, a...     151\n",
              "440  [generating, texteditable, and, posecontrollab...     165\n",
              "441  [video, anomaly, detection, vad, serves, as, a...     153\n",
              "442  [this, paper, tackles, recipe, generation, fro...     225\n",
              "443  [we, propose, styletalker, a, novel, audiodriv...     201\n",
              "\n",
              "[444 rows x 2 columns]"
            ],
            "text/html": [
              "\n",
              "  <div id=\"df-d6526d9a-4395-425d-9f20-07cb8dafd5f6\" class=\"colab-df-container\">\n",
              "    <div>\n",
              "<style scoped>\n",
              "    .dataframe tbody tr th:only-of-type {\n",
              "        vertical-align: middle;\n",
              "    }\n",
              "\n",
              "    .dataframe tbody tr th {\n",
              "        vertical-align: top;\n",
              "    }\n",
              "\n",
              "    .dataframe thead th {\n",
              "        text-align: right;\n",
              "    }\n",
              "</style>\n",
              "<table border=\"1\" class=\"dataframe\">\n",
              "  <thead>\n",
              "    <tr style=\"text-align: right;\">\n",
              "      <th></th>\n",
              "      <th>abstract</th>\n",
              "      <th>length</th>\n",
              "    </tr>\n",
              "  </thead>\n",
              "  <tbody>\n",
              "    <tr>\n",
              "      <th>0</th>\n",
              "      <td>[multimodal, representation, learning, with, c...</td>\n",
              "      <td>198</td>\n",
              "    </tr>\n",
              "    <tr>\n",
              "      <th>1</th>\n",
              "      <td>[videotoaudio, va, generation, utilizes, visua...</td>\n",
              "      <td>146</td>\n",
              "    </tr>\n",
              "    <tr>\n",
              "      <th>2</th>\n",
              "      <td>[largescale, video, generation, models, have, ...</td>\n",
              "      <td>202</td>\n",
              "    </tr>\n",
              "    <tr>\n",
              "      <th>3</th>\n",
              "      <td>[zeroshot, customized, video, generation, has,...</td>\n",
              "      <td>182</td>\n",
              "    </tr>\n",
              "    <tr>\n",
              "      <th>4</th>\n",
              "      <td>[the, rapid, growth, of, usergenerated, conten...</td>\n",
              "      <td>160</td>\n",
              "    </tr>\n",
              "    <tr>\n",
              "      <th>...</th>\n",
              "      <td>...</td>\n",
              "      <td>...</td>\n",
              "    </tr>\n",
              "    <tr>\n",
              "      <th>439</th>\n",
              "      <td>[in, this, paper, we, present, stylelipsync, a...</td>\n",
              "      <td>151</td>\n",
              "    </tr>\n",
              "    <tr>\n",
              "      <th>440</th>\n",
              "      <td>[generating, texteditable, and, posecontrollab...</td>\n",
              "      <td>165</td>\n",
              "    </tr>\n",
              "    <tr>\n",
              "      <th>441</th>\n",
              "      <td>[video, anomaly, detection, vad, serves, as, a...</td>\n",
              "      <td>153</td>\n",
              "    </tr>\n",
              "    <tr>\n",
              "      <th>442</th>\n",
              "      <td>[this, paper, tackles, recipe, generation, fro...</td>\n",
              "      <td>225</td>\n",
              "    </tr>\n",
              "    <tr>\n",
              "      <th>443</th>\n",
              "      <td>[we, propose, styletalker, a, novel, audiodriv...</td>\n",
              "      <td>201</td>\n",
              "    </tr>\n",
              "  </tbody>\n",
              "</table>\n",
              "<p>444 rows × 2 columns</p>\n",
              "</div>\n",
              "    <div class=\"colab-df-buttons\">\n",
              "\n",
              "  <div class=\"colab-df-container\">\n",
              "    <button class=\"colab-df-convert\" onclick=\"convertToInteractive('df-d6526d9a-4395-425d-9f20-07cb8dafd5f6')\"\n",
              "            title=\"Convert this dataframe to an interactive table.\"\n",
              "            style=\"display:none;\">\n",
              "\n",
              "  <svg xmlns=\"http://www.w3.org/2000/svg\" height=\"24px\" viewBox=\"0 -960 960 960\">\n",
              "    <path d=\"M120-120v-720h720v720H120Zm60-500h600v-160H180v160Zm220 220h160v-160H400v160Zm0 220h160v-160H400v160ZM180-400h160v-160H180v160Zm440 0h160v-160H620v160ZM180-180h160v-160H180v160Zm440 0h160v-160H620v160Z\"/>\n",
              "  </svg>\n",
              "    </button>\n",
              "\n",
              "  <style>\n",
              "    .colab-df-container {\n",
              "      display:flex;\n",
              "      gap: 12px;\n",
              "    }\n",
              "\n",
              "    .colab-df-convert {\n",
              "      background-color: #E8F0FE;\n",
              "      border: none;\n",
              "      border-radius: 50%;\n",
              "      cursor: pointer;\n",
              "      display: none;\n",
              "      fill: #1967D2;\n",
              "      height: 32px;\n",
              "      padding: 0 0 0 0;\n",
              "      width: 32px;\n",
              "    }\n",
              "\n",
              "    .colab-df-convert:hover {\n",
              "      background-color: #E2EBFA;\n",
              "      box-shadow: 0px 1px 2px rgba(60, 64, 67, 0.3), 0px 1px 3px 1px rgba(60, 64, 67, 0.15);\n",
              "      fill: #174EA6;\n",
              "    }\n",
              "\n",
              "    .colab-df-buttons div {\n",
              "      margin-bottom: 4px;\n",
              "    }\n",
              "\n",
              "    [theme=dark] .colab-df-convert {\n",
              "      background-color: #3B4455;\n",
              "      fill: #D2E3FC;\n",
              "    }\n",
              "\n",
              "    [theme=dark] .colab-df-convert:hover {\n",
              "      background-color: #434B5C;\n",
              "      box-shadow: 0px 1px 3px 1px rgba(0, 0, 0, 0.15);\n",
              "      filter: drop-shadow(0px 1px 2px rgba(0, 0, 0, 0.3));\n",
              "      fill: #FFFFFF;\n",
              "    }\n",
              "  </style>\n",
              "\n",
              "    <script>\n",
              "      const buttonEl =\n",
              "        document.querySelector('#df-d6526d9a-4395-425d-9f20-07cb8dafd5f6 button.colab-df-convert');\n",
              "      buttonEl.style.display =\n",
              "        google.colab.kernel.accessAllowed ? 'block' : 'none';\n",
              "\n",
              "      async function convertToInteractive(key) {\n",
              "        const element = document.querySelector('#df-d6526d9a-4395-425d-9f20-07cb8dafd5f6');\n",
              "        const dataTable =\n",
              "          await google.colab.kernel.invokeFunction('convertToInteractive',\n",
              "                                                    [key], {});\n",
              "        if (!dataTable) return;\n",
              "\n",
              "        const docLinkHtml = 'Like what you see? Visit the ' +\n",
              "          '<a target=\"_blank\" href=https://colab.research.google.com/notebooks/data_table.ipynb>data table notebook</a>'\n",
              "          + ' to learn more about interactive tables.';\n",
              "        element.innerHTML = '';\n",
              "        dataTable['output_type'] = 'display_data';\n",
              "        await google.colab.output.renderOutput(dataTable, element);\n",
              "        const docLink = document.createElement('div');\n",
              "        docLink.innerHTML = docLinkHtml;\n",
              "        element.appendChild(docLink);\n",
              "      }\n",
              "    </script>\n",
              "  </div>\n",
              "\n",
              "\n",
              "<div id=\"df-b207742e-01a3-443b-b277-45b2c7b8f0b0\">\n",
              "  <button class=\"colab-df-quickchart\" onclick=\"quickchart('df-b207742e-01a3-443b-b277-45b2c7b8f0b0')\"\n",
              "            title=\"Suggest charts\"\n",
              "            style=\"display:none;\">\n",
              "\n",
              "<svg xmlns=\"http://www.w3.org/2000/svg\" height=\"24px\"viewBox=\"0 0 24 24\"\n",
              "     width=\"24px\">\n",
              "    <g>\n",
              "        <path d=\"M19 3H5c-1.1 0-2 .9-2 2v14c0 1.1.9 2 2 2h14c1.1 0 2-.9 2-2V5c0-1.1-.9-2-2-2zM9 17H7v-7h2v7zm4 0h-2V7h2v10zm4 0h-2v-4h2v4z\"/>\n",
              "    </g>\n",
              "</svg>\n",
              "  </button>\n",
              "\n",
              "<style>\n",
              "  .colab-df-quickchart {\n",
              "      --bg-color: #E8F0FE;\n",
              "      --fill-color: #1967D2;\n",
              "      --hover-bg-color: #E2EBFA;\n",
              "      --hover-fill-color: #174EA6;\n",
              "      --disabled-fill-color: #AAA;\n",
              "      --disabled-bg-color: #DDD;\n",
              "  }\n",
              "\n",
              "  [theme=dark] .colab-df-quickchart {\n",
              "      --bg-color: #3B4455;\n",
              "      --fill-color: #D2E3FC;\n",
              "      --hover-bg-color: #434B5C;\n",
              "      --hover-fill-color: #FFFFFF;\n",
              "      --disabled-bg-color: #3B4455;\n",
              "      --disabled-fill-color: #666;\n",
              "  }\n",
              "\n",
              "  .colab-df-quickchart {\n",
              "    background-color: var(--bg-color);\n",
              "    border: none;\n",
              "    border-radius: 50%;\n",
              "    cursor: pointer;\n",
              "    display: none;\n",
              "    fill: var(--fill-color);\n",
              "    height: 32px;\n",
              "    padding: 0;\n",
              "    width: 32px;\n",
              "  }\n",
              "\n",
              "  .colab-df-quickchart:hover {\n",
              "    background-color: var(--hover-bg-color);\n",
              "    box-shadow: 0 1px 2px rgba(60, 64, 67, 0.3), 0 1px 3px 1px rgba(60, 64, 67, 0.15);\n",
              "    fill: var(--button-hover-fill-color);\n",
              "  }\n",
              "\n",
              "  .colab-df-quickchart-complete:disabled,\n",
              "  .colab-df-quickchart-complete:disabled:hover {\n",
              "    background-color: var(--disabled-bg-color);\n",
              "    fill: var(--disabled-fill-color);\n",
              "    box-shadow: none;\n",
              "  }\n",
              "\n",
              "  .colab-df-spinner {\n",
              "    border: 2px solid var(--fill-color);\n",
              "    border-color: transparent;\n",
              "    border-bottom-color: var(--fill-color);\n",
              "    animation:\n",
              "      spin 1s steps(1) infinite;\n",
              "  }\n",
              "\n",
              "  @keyframes spin {\n",
              "    0% {\n",
              "      border-color: transparent;\n",
              "      border-bottom-color: var(--fill-color);\n",
              "      border-left-color: var(--fill-color);\n",
              "    }\n",
              "    20% {\n",
              "      border-color: transparent;\n",
              "      border-left-color: var(--fill-color);\n",
              "      border-top-color: var(--fill-color);\n",
              "    }\n",
              "    30% {\n",
              "      border-color: transparent;\n",
              "      border-left-color: var(--fill-color);\n",
              "      border-top-color: var(--fill-color);\n",
              "      border-right-color: var(--fill-color);\n",
              "    }\n",
              "    40% {\n",
              "      border-color: transparent;\n",
              "      border-right-color: var(--fill-color);\n",
              "      border-top-color: var(--fill-color);\n",
              "    }\n",
              "    60% {\n",
              "      border-color: transparent;\n",
              "      border-right-color: var(--fill-color);\n",
              "    }\n",
              "    80% {\n",
              "      border-color: transparent;\n",
              "      border-right-color: var(--fill-color);\n",
              "      border-bottom-color: var(--fill-color);\n",
              "    }\n",
              "    90% {\n",
              "      border-color: transparent;\n",
              "      border-bottom-color: var(--fill-color);\n",
              "    }\n",
              "  }\n",
              "</style>\n",
              "\n",
              "  <script>\n",
              "    async function quickchart(key) {\n",
              "      const quickchartButtonEl =\n",
              "        document.querySelector('#' + key + ' button');\n",
              "      quickchartButtonEl.disabled = true;  // To prevent multiple clicks.\n",
              "      quickchartButtonEl.classList.add('colab-df-spinner');\n",
              "      try {\n",
              "        const charts = await google.colab.kernel.invokeFunction(\n",
              "            'suggestCharts', [key], {});\n",
              "      } catch (error) {\n",
              "        console.error('Error during call to suggestCharts:', error);\n",
              "      }\n",
              "      quickchartButtonEl.classList.remove('colab-df-spinner');\n",
              "      quickchartButtonEl.classList.add('colab-df-quickchart-complete');\n",
              "    }\n",
              "    (() => {\n",
              "      let quickchartButtonEl =\n",
              "        document.querySelector('#df-b207742e-01a3-443b-b277-45b2c7b8f0b0 button');\n",
              "      quickchartButtonEl.style.display =\n",
              "        google.colab.kernel.accessAllowed ? 'block' : 'none';\n",
              "    })();\n",
              "  </script>\n",
              "</div>\n",
              "    </div>\n",
              "  </div>\n"
            ],
            "application/vnd.google.colaboratory.intrinsic+json": {
              "type": "dataframe",
              "variable_name": "data",
              "summary": "{\n  \"name\": \"data\",\n  \"rows\": 444,\n  \"fields\": [\n    {\n      \"column\": \"abstract\",\n      \"properties\": {\n        \"dtype\": \"object\",\n        \"semantic_type\": \"\",\n        \"description\": \"\"\n      }\n    },\n    {\n      \"column\": \"length\",\n      \"properties\": {\n        \"dtype\": \"number\",\n        \"std\": 39,\n        \"min\": 91,\n        \"max\": 281,\n        \"num_unique_values\": 153,\n        \"samples\": [\n          143,\n          191,\n          149\n        ],\n        \"semantic_type\": \"\",\n        \"description\": \"\"\n      }\n    }\n  ]\n}"
            }
          },
          "metadata": {},
          "execution_count": 17
        }
      ]
    },
    {
      "cell_type": "markdown",
      "source": [
        "Удалим стоп-слова"
      ],
      "metadata": {
        "id": "ZuQMgxzffFYg"
      }
    },
    {
      "cell_type": "code",
      "source": [
        "from nltk.corpus import stopwords\n",
        "nltk.download('stopwords')"
      ],
      "metadata": {
        "colab": {
          "base_uri": "https://localhost:8080/"
        },
        "id": "psUAt_0PUB-D",
        "outputId": "ea14c26e-f106-4248-8890-5e703c38dd36"
      },
      "execution_count": null,
      "outputs": [
        {
          "output_type": "stream",
          "name": "stderr",
          "text": [
            "[nltk_data] Downloading package stopwords to /root/nltk_data...\n",
            "[nltk_data]   Unzipping corpora/stopwords.zip.\n"
          ]
        },
        {
          "output_type": "execute_result",
          "data": {
            "text/plain": [
              "True"
            ]
          },
          "metadata": {},
          "execution_count": 23
        }
      ]
    },
    {
      "cell_type": "code",
      "source": [
        "def remove_stopwords(tokens):\n",
        "    stop_words = stopwords.words('english')\n",
        "    # ещё удалим два токена video и deneration, так как оно встречается в каждом title\n",
        "    # delete_tokens = ['video', 'generation', 'video generation']\n",
        "    # stop_words = set(stop_words + delete_tokens)\n",
        "    return [word for word in tokens if word not in stop_words]"
      ],
      "metadata": {
        "id": "X3942pS3fJ4a"
      },
      "execution_count": null,
      "outputs": []
    },
    {
      "cell_type": "code",
      "source": [
        "data['abstract'] = data['abstract'].apply(remove_stopwords)"
      ],
      "metadata": {
        "id": "evdQlQfPrqh9"
      },
      "execution_count": null,
      "outputs": []
    },
    {
      "cell_type": "markdown",
      "source": [
        "Лематизация"
      ],
      "metadata": {
        "id": "PLycCgpuhtHt"
      }
    },
    {
      "cell_type": "code",
      "source": [
        "from nltk.stem import WordNetLemmatizer\n",
        "nltk.download('wordnet')"
      ],
      "metadata": {
        "colab": {
          "base_uri": "https://localhost:8080/"
        },
        "id": "3GcGeEFOhwud",
        "outputId": "97851ad9-8841-482a-86af-46ff27f02771"
      },
      "execution_count": null,
      "outputs": [
        {
          "output_type": "stream",
          "name": "stderr",
          "text": [
            "[nltk_data] Downloading package wordnet to /root/nltk_data...\n"
          ]
        },
        {
          "output_type": "execute_result",
          "data": {
            "text/plain": [
              "True"
            ]
          },
          "metadata": {},
          "execution_count": 26
        }
      ]
    },
    {
      "cell_type": "code",
      "source": [
        "lemmatizer = WordNetLemmatizer()"
      ],
      "metadata": {
        "id": "w-cdBsPVhGkG"
      },
      "execution_count": null,
      "outputs": []
    },
    {
      "cell_type": "code",
      "source": [
        "data['abstract'] =  data['abstract'].apply(lambda sentence: [lemmatizer.lemmatize(word) for word in sentence])"
      ],
      "metadata": {
        "id": "93-NCTRarwqT"
      },
      "execution_count": null,
      "outputs": []
    },
    {
      "cell_type": "code",
      "source": [
        "data"
      ],
      "metadata": {
        "colab": {
          "base_uri": "https://localhost:8080/",
          "height": 423
        },
        "id": "Rud_Xf6YiHQN",
        "outputId": "899fcfd8-d897-4901-80aa-9c7ba442bbf3"
      },
      "execution_count": null,
      "outputs": [
        {
          "output_type": "execute_result",
          "data": {
            "text/plain": [
              "                                              abstract  length\n",
              "0    [multimodal, representation, learning, contras...     198\n",
              "1    [videotoaudio, va, generation, utilizes, visua...     146\n",
              "2    [largescale, video, generation, model, inheren...     202\n",
              "3    [zeroshot, customized, video, generation, gain...     182\n",
              "4    [rapid, growth, usergenerated, content, ugc, v...     160\n",
              "..                                                 ...     ...\n",
              "439  [paper, present, stylelipsync, stylebased, per...     151\n",
              "440  [generating, texteditable, posecontrollable, c...     165\n",
              "441  [video, anomaly, detection, vad, serf, pivotal...     153\n",
              "442  [paper, tackle, recipe, generation, unsegmente...     225\n",
              "443  [propose, styletalker, novel, audiodriven, tal...     201\n",
              "\n",
              "[444 rows x 2 columns]"
            ],
            "text/html": [
              "\n",
              "  <div id=\"df-4ebc98c5-175d-47ff-96b4-2425843f4332\" class=\"colab-df-container\">\n",
              "    <div>\n",
              "<style scoped>\n",
              "    .dataframe tbody tr th:only-of-type {\n",
              "        vertical-align: middle;\n",
              "    }\n",
              "\n",
              "    .dataframe tbody tr th {\n",
              "        vertical-align: top;\n",
              "    }\n",
              "\n",
              "    .dataframe thead th {\n",
              "        text-align: right;\n",
              "    }\n",
              "</style>\n",
              "<table border=\"1\" class=\"dataframe\">\n",
              "  <thead>\n",
              "    <tr style=\"text-align: right;\">\n",
              "      <th></th>\n",
              "      <th>abstract</th>\n",
              "      <th>length</th>\n",
              "    </tr>\n",
              "  </thead>\n",
              "  <tbody>\n",
              "    <tr>\n",
              "      <th>0</th>\n",
              "      <td>[multimodal, representation, learning, contras...</td>\n",
              "      <td>198</td>\n",
              "    </tr>\n",
              "    <tr>\n",
              "      <th>1</th>\n",
              "      <td>[videotoaudio, va, generation, utilizes, visua...</td>\n",
              "      <td>146</td>\n",
              "    </tr>\n",
              "    <tr>\n",
              "      <th>2</th>\n",
              "      <td>[largescale, video, generation, model, inheren...</td>\n",
              "      <td>202</td>\n",
              "    </tr>\n",
              "    <tr>\n",
              "      <th>3</th>\n",
              "      <td>[zeroshot, customized, video, generation, gain...</td>\n",
              "      <td>182</td>\n",
              "    </tr>\n",
              "    <tr>\n",
              "      <th>4</th>\n",
              "      <td>[rapid, growth, usergenerated, content, ugc, v...</td>\n",
              "      <td>160</td>\n",
              "    </tr>\n",
              "    <tr>\n",
              "      <th>...</th>\n",
              "      <td>...</td>\n",
              "      <td>...</td>\n",
              "    </tr>\n",
              "    <tr>\n",
              "      <th>439</th>\n",
              "      <td>[paper, present, stylelipsync, stylebased, per...</td>\n",
              "      <td>151</td>\n",
              "    </tr>\n",
              "    <tr>\n",
              "      <th>440</th>\n",
              "      <td>[generating, texteditable, posecontrollable, c...</td>\n",
              "      <td>165</td>\n",
              "    </tr>\n",
              "    <tr>\n",
              "      <th>441</th>\n",
              "      <td>[video, anomaly, detection, vad, serf, pivotal...</td>\n",
              "      <td>153</td>\n",
              "    </tr>\n",
              "    <tr>\n",
              "      <th>442</th>\n",
              "      <td>[paper, tackle, recipe, generation, unsegmente...</td>\n",
              "      <td>225</td>\n",
              "    </tr>\n",
              "    <tr>\n",
              "      <th>443</th>\n",
              "      <td>[propose, styletalker, novel, audiodriven, tal...</td>\n",
              "      <td>201</td>\n",
              "    </tr>\n",
              "  </tbody>\n",
              "</table>\n",
              "<p>444 rows × 2 columns</p>\n",
              "</div>\n",
              "    <div class=\"colab-df-buttons\">\n",
              "\n",
              "  <div class=\"colab-df-container\">\n",
              "    <button class=\"colab-df-convert\" onclick=\"convertToInteractive('df-4ebc98c5-175d-47ff-96b4-2425843f4332')\"\n",
              "            title=\"Convert this dataframe to an interactive table.\"\n",
              "            style=\"display:none;\">\n",
              "\n",
              "  <svg xmlns=\"http://www.w3.org/2000/svg\" height=\"24px\" viewBox=\"0 -960 960 960\">\n",
              "    <path d=\"M120-120v-720h720v720H120Zm60-500h600v-160H180v160Zm220 220h160v-160H400v160Zm0 220h160v-160H400v160ZM180-400h160v-160H180v160Zm440 0h160v-160H620v160ZM180-180h160v-160H180v160Zm440 0h160v-160H620v160Z\"/>\n",
              "  </svg>\n",
              "    </button>\n",
              "\n",
              "  <style>\n",
              "    .colab-df-container {\n",
              "      display:flex;\n",
              "      gap: 12px;\n",
              "    }\n",
              "\n",
              "    .colab-df-convert {\n",
              "      background-color: #E8F0FE;\n",
              "      border: none;\n",
              "      border-radius: 50%;\n",
              "      cursor: pointer;\n",
              "      display: none;\n",
              "      fill: #1967D2;\n",
              "      height: 32px;\n",
              "      padding: 0 0 0 0;\n",
              "      width: 32px;\n",
              "    }\n",
              "\n",
              "    .colab-df-convert:hover {\n",
              "      background-color: #E2EBFA;\n",
              "      box-shadow: 0px 1px 2px rgba(60, 64, 67, 0.3), 0px 1px 3px 1px rgba(60, 64, 67, 0.15);\n",
              "      fill: #174EA6;\n",
              "    }\n",
              "\n",
              "    .colab-df-buttons div {\n",
              "      margin-bottom: 4px;\n",
              "    }\n",
              "\n",
              "    [theme=dark] .colab-df-convert {\n",
              "      background-color: #3B4455;\n",
              "      fill: #D2E3FC;\n",
              "    }\n",
              "\n",
              "    [theme=dark] .colab-df-convert:hover {\n",
              "      background-color: #434B5C;\n",
              "      box-shadow: 0px 1px 3px 1px rgba(0, 0, 0, 0.15);\n",
              "      filter: drop-shadow(0px 1px 2px rgba(0, 0, 0, 0.3));\n",
              "      fill: #FFFFFF;\n",
              "    }\n",
              "  </style>\n",
              "\n",
              "    <script>\n",
              "      const buttonEl =\n",
              "        document.querySelector('#df-4ebc98c5-175d-47ff-96b4-2425843f4332 button.colab-df-convert');\n",
              "      buttonEl.style.display =\n",
              "        google.colab.kernel.accessAllowed ? 'block' : 'none';\n",
              "\n",
              "      async function convertToInteractive(key) {\n",
              "        const element = document.querySelector('#df-4ebc98c5-175d-47ff-96b4-2425843f4332');\n",
              "        const dataTable =\n",
              "          await google.colab.kernel.invokeFunction('convertToInteractive',\n",
              "                                                    [key], {});\n",
              "        if (!dataTable) return;\n",
              "\n",
              "        const docLinkHtml = 'Like what you see? Visit the ' +\n",
              "          '<a target=\"_blank\" href=https://colab.research.google.com/notebooks/data_table.ipynb>data table notebook</a>'\n",
              "          + ' to learn more about interactive tables.';\n",
              "        element.innerHTML = '';\n",
              "        dataTable['output_type'] = 'display_data';\n",
              "        await google.colab.output.renderOutput(dataTable, element);\n",
              "        const docLink = document.createElement('div');\n",
              "        docLink.innerHTML = docLinkHtml;\n",
              "        element.appendChild(docLink);\n",
              "      }\n",
              "    </script>\n",
              "  </div>\n",
              "\n",
              "\n",
              "<div id=\"df-816363db-f06d-4df7-86d3-4b376ba00e03\">\n",
              "  <button class=\"colab-df-quickchart\" onclick=\"quickchart('df-816363db-f06d-4df7-86d3-4b376ba00e03')\"\n",
              "            title=\"Suggest charts\"\n",
              "            style=\"display:none;\">\n",
              "\n",
              "<svg xmlns=\"http://www.w3.org/2000/svg\" height=\"24px\"viewBox=\"0 0 24 24\"\n",
              "     width=\"24px\">\n",
              "    <g>\n",
              "        <path d=\"M19 3H5c-1.1 0-2 .9-2 2v14c0 1.1.9 2 2 2h14c1.1 0 2-.9 2-2V5c0-1.1-.9-2-2-2zM9 17H7v-7h2v7zm4 0h-2V7h2v10zm4 0h-2v-4h2v4z\"/>\n",
              "    </g>\n",
              "</svg>\n",
              "  </button>\n",
              "\n",
              "<style>\n",
              "  .colab-df-quickchart {\n",
              "      --bg-color: #E8F0FE;\n",
              "      --fill-color: #1967D2;\n",
              "      --hover-bg-color: #E2EBFA;\n",
              "      --hover-fill-color: #174EA6;\n",
              "      --disabled-fill-color: #AAA;\n",
              "      --disabled-bg-color: #DDD;\n",
              "  }\n",
              "\n",
              "  [theme=dark] .colab-df-quickchart {\n",
              "      --bg-color: #3B4455;\n",
              "      --fill-color: #D2E3FC;\n",
              "      --hover-bg-color: #434B5C;\n",
              "      --hover-fill-color: #FFFFFF;\n",
              "      --disabled-bg-color: #3B4455;\n",
              "      --disabled-fill-color: #666;\n",
              "  }\n",
              "\n",
              "  .colab-df-quickchart {\n",
              "    background-color: var(--bg-color);\n",
              "    border: none;\n",
              "    border-radius: 50%;\n",
              "    cursor: pointer;\n",
              "    display: none;\n",
              "    fill: var(--fill-color);\n",
              "    height: 32px;\n",
              "    padding: 0;\n",
              "    width: 32px;\n",
              "  }\n",
              "\n",
              "  .colab-df-quickchart:hover {\n",
              "    background-color: var(--hover-bg-color);\n",
              "    box-shadow: 0 1px 2px rgba(60, 64, 67, 0.3), 0 1px 3px 1px rgba(60, 64, 67, 0.15);\n",
              "    fill: var(--button-hover-fill-color);\n",
              "  }\n",
              "\n",
              "  .colab-df-quickchart-complete:disabled,\n",
              "  .colab-df-quickchart-complete:disabled:hover {\n",
              "    background-color: var(--disabled-bg-color);\n",
              "    fill: var(--disabled-fill-color);\n",
              "    box-shadow: none;\n",
              "  }\n",
              "\n",
              "  .colab-df-spinner {\n",
              "    border: 2px solid var(--fill-color);\n",
              "    border-color: transparent;\n",
              "    border-bottom-color: var(--fill-color);\n",
              "    animation:\n",
              "      spin 1s steps(1) infinite;\n",
              "  }\n",
              "\n",
              "  @keyframes spin {\n",
              "    0% {\n",
              "      border-color: transparent;\n",
              "      border-bottom-color: var(--fill-color);\n",
              "      border-left-color: var(--fill-color);\n",
              "    }\n",
              "    20% {\n",
              "      border-color: transparent;\n",
              "      border-left-color: var(--fill-color);\n",
              "      border-top-color: var(--fill-color);\n",
              "    }\n",
              "    30% {\n",
              "      border-color: transparent;\n",
              "      border-left-color: var(--fill-color);\n",
              "      border-top-color: var(--fill-color);\n",
              "      border-right-color: var(--fill-color);\n",
              "    }\n",
              "    40% {\n",
              "      border-color: transparent;\n",
              "      border-right-color: var(--fill-color);\n",
              "      border-top-color: var(--fill-color);\n",
              "    }\n",
              "    60% {\n",
              "      border-color: transparent;\n",
              "      border-right-color: var(--fill-color);\n",
              "    }\n",
              "    80% {\n",
              "      border-color: transparent;\n",
              "      border-right-color: var(--fill-color);\n",
              "      border-bottom-color: var(--fill-color);\n",
              "    }\n",
              "    90% {\n",
              "      border-color: transparent;\n",
              "      border-bottom-color: var(--fill-color);\n",
              "    }\n",
              "  }\n",
              "</style>\n",
              "\n",
              "  <script>\n",
              "    async function quickchart(key) {\n",
              "      const quickchartButtonEl =\n",
              "        document.querySelector('#' + key + ' button');\n",
              "      quickchartButtonEl.disabled = true;  // To prevent multiple clicks.\n",
              "      quickchartButtonEl.classList.add('colab-df-spinner');\n",
              "      try {\n",
              "        const charts = await google.colab.kernel.invokeFunction(\n",
              "            'suggestCharts', [key], {});\n",
              "      } catch (error) {\n",
              "        console.error('Error during call to suggestCharts:', error);\n",
              "      }\n",
              "      quickchartButtonEl.classList.remove('colab-df-spinner');\n",
              "      quickchartButtonEl.classList.add('colab-df-quickchart-complete');\n",
              "    }\n",
              "    (() => {\n",
              "      let quickchartButtonEl =\n",
              "        document.querySelector('#df-816363db-f06d-4df7-86d3-4b376ba00e03 button');\n",
              "      quickchartButtonEl.style.display =\n",
              "        google.colab.kernel.accessAllowed ? 'block' : 'none';\n",
              "    })();\n",
              "  </script>\n",
              "</div>\n",
              "    </div>\n",
              "  </div>\n"
            ],
            "application/vnd.google.colaboratory.intrinsic+json": {
              "type": "dataframe",
              "variable_name": "data",
              "summary": "{\n  \"name\": \"data\",\n  \"rows\": 444,\n  \"fields\": [\n    {\n      \"column\": \"abstract\",\n      \"properties\": {\n        \"dtype\": \"object\",\n        \"semantic_type\": \"\",\n        \"description\": \"\"\n      }\n    },\n    {\n      \"column\": \"length\",\n      \"properties\": {\n        \"dtype\": \"number\",\n        \"std\": 39,\n        \"min\": 91,\n        \"max\": 281,\n        \"num_unique_values\": 153,\n        \"samples\": [\n          143,\n          191,\n          149\n        ],\n        \"semantic_type\": \"\",\n        \"description\": \"\"\n      }\n    }\n  ]\n}"
            }
          },
          "metadata": {},
          "execution_count": 29
        }
      ]
    },
    {
      "cell_type": "markdown",
      "source": [
        "# Модель"
      ],
      "metadata": {
        "id": "mfZKoMMSih13"
      }
    },
    {
      "cell_type": "code",
      "source": [
        "!pip install gensim"
      ],
      "metadata": {
        "id": "tVkyqucnqAwB",
        "colab": {
          "base_uri": "https://localhost:8080/"
        },
        "collapsed": true,
        "outputId": "3bcc4927-ed3d-453a-dc65-d147033ecf37"
      },
      "execution_count": null,
      "outputs": [
        {
          "output_type": "stream",
          "name": "stdout",
          "text": [
            "Collecting gensim\n",
            "  Downloading gensim-4.3.3-cp311-cp311-manylinux_2_17_x86_64.manylinux2014_x86_64.whl.metadata (8.1 kB)\n",
            "Requirement already satisfied: numpy<2.0,>=1.18.5 in /usr/local/lib/python3.11/dist-packages (from gensim) (1.24.0)\n",
            "Collecting scipy<1.14.0,>=1.7.0 (from gensim)\n",
            "  Downloading scipy-1.13.1-cp311-cp311-manylinux_2_17_x86_64.manylinux2014_x86_64.whl.metadata (60 kB)\n",
            "\u001b[2K     \u001b[90m━━━━━━━━━━━━━━━━━━━━━━━━━━━━━━━━━━━━━━━━\u001b[0m \u001b[32m60.6/60.6 kB\u001b[0m \u001b[31m2.2 MB/s\u001b[0m eta \u001b[36m0:00:00\u001b[0m\n",
            "\u001b[?25hRequirement already satisfied: smart-open>=1.8.1 in /usr/local/lib/python3.11/dist-packages (from gensim) (7.1.0)\n",
            "Requirement already satisfied: wrapt in /usr/local/lib/python3.11/dist-packages (from smart-open>=1.8.1->gensim) (1.17.2)\n",
            "Downloading gensim-4.3.3-cp311-cp311-manylinux_2_17_x86_64.manylinux2014_x86_64.whl (26.7 MB)\n",
            "\u001b[2K   \u001b[90m━━━━━━━━━━━━━━━━━━━━━━━━━━━━━━━━━━━━━━━━\u001b[0m \u001b[32m26.7/26.7 MB\u001b[0m \u001b[31m63.3 MB/s\u001b[0m eta \u001b[36m0:00:00\u001b[0m\n",
            "\u001b[?25hDownloading scipy-1.13.1-cp311-cp311-manylinux_2_17_x86_64.manylinux2014_x86_64.whl (38.6 MB)\n",
            "\u001b[2K   \u001b[90m━━━━━━━━━━━━━━━━━━━━━━━━━━━━━━━━━━━━━━━━\u001b[0m \u001b[32m38.6/38.6 MB\u001b[0m \u001b[31m17.5 MB/s\u001b[0m eta \u001b[36m0:00:00\u001b[0m\n",
            "\u001b[?25hInstalling collected packages: scipy, gensim\n",
            "  Attempting uninstall: scipy\n",
            "    Found existing installation: scipy 1.14.1\n",
            "    Uninstalling scipy-1.14.1:\n",
            "      Successfully uninstalled scipy-1.14.1\n",
            "\u001b[31mERROR: pip's dependency resolver does not currently take into account all the packages that are installed. This behaviour is the source of the following dependency conflicts.\n",
            "jax 0.5.2 requires numpy>=1.25, but you have numpy 1.24.0 which is incompatible.\n",
            "albumentations 2.0.5 requires numpy>=1.24.4, but you have numpy 1.24.0 which is incompatible.\n",
            "imbalanced-learn 0.13.0 requires numpy<3,>=1.24.3, but you have numpy 1.24.0 which is incompatible.\n",
            "chex 0.1.89 requires numpy>=1.24.1, but you have numpy 1.24.0 which is incompatible.\n",
            "pymc 5.21.1 requires numpy>=1.25.0, but you have numpy 1.24.0 which is incompatible.\n",
            "jaxlib 0.5.1 requires numpy>=1.25, but you have numpy 1.24.0 which is incompatible.\u001b[0m\u001b[31m\n",
            "\u001b[0mSuccessfully installed gensim-4.3.3 scipy-1.13.1\n"
          ]
        }
      ]
    },
    {
      "cell_type": "code",
      "source": [
        "from gensim.models.ldamulticore import LdaMulticore\n",
        "from gensim.models.coherencemodel import CoherenceModel\n",
        "import gensim\n",
        "from gensim import corpora, models"
      ],
      "metadata": {
        "id": "SopKF7R-p-vx"
      },
      "execution_count": null,
      "outputs": []
    },
    {
      "cell_type": "code",
      "source": [
        "id2word = corpora.Dictionary(data['abstract'])\n",
        "texts = data['abstract']\n",
        "corpus = [id2word.doc2bow(text) for text in texts]"
      ],
      "metadata": {
        "id": "wgzviX42p3Oz"
      },
      "execution_count": null,
      "outputs": []
    },
    {
      "cell_type": "code",
      "source": [
        "tfidf = models.TfidfModel(corpus)\n",
        "corpus_tfidf = tfidf[corpus]"
      ],
      "metadata": {
        "id": "hUv9YyIbr603"
      },
      "execution_count": null,
      "outputs": []
    },
    {
      "cell_type": "markdown",
      "source": [
        "coherence — это метрика, которая оценивает смысловую согласованность слов внутри тем. В отличие от перплексии, которая измеряет \"техническое\" качество модели, coherence показывает, насколько темы интерпретируемы человеком.\n",
        "\n",
        "Попытаемся найти оптимальное соотношение между coherence и perplexity"
      ],
      "metadata": {
        "id": "RJNXI3rPgTJq"
      }
    },
    {
      "cell_type": "code",
      "source": [
        "from gensim.models.ldamulticore import LdaMulticore\n",
        "\n",
        "def calc_coherence_values(dictionary, corpus, texts, limit, start, step):\n",
        "    coherence_values = []\n",
        "    model_list = []\n",
        "    for num_topics in range(start, limit, step):\n",
        "        print(f\"\\nTraining model with {num_topics} topics...\")\n",
        "        model = LdaMulticore(corpus=corpus,id2word = dictionary, num_topics = num_topics, random_state = 42, passes = 20)\n",
        "        model_list.append(model)\n",
        "        coherencemodel = CoherenceModel(model = model, texts = texts, dictionary = dictionary, coherence = 'c_v')\n",
        "        print(coherencemodel.get_coherence())\n",
        "        coherence_values.append(coherencemodel.get_coherence())\n",
        "    return model_list, coherence_values\n",
        "\n",
        "model_list, coherence_values = calc_coherence_values(dictionary = id2word, corpus = corpus_tfidf, texts = texts, start = 2, limit = 50, step = 2)"
      ],
      "metadata": {
        "colab": {
          "base_uri": "https://localhost:8080/"
        },
        "id": "INg0WLzdr9jn",
        "outputId": "49e46460-eb5e-4dd4-a46f-012dccb218e6",
        "collapsed": true
      },
      "execution_count": null,
      "outputs": [
        {
          "output_type": "stream",
          "name": "stdout",
          "text": [
            "\n",
            "Training model with 2 topics...\n",
            "0.385642784785891\n",
            "\n",
            "Training model with 4 topics...\n",
            "0.3736361107452387\n",
            "\n",
            "Training model with 6 topics...\n",
            "0.6566094457642794\n",
            "\n",
            "Training model with 8 topics...\n",
            "0.5836897227483651\n",
            "\n",
            "Training model with 10 topics...\n",
            "0.6819118772885164\n",
            "\n",
            "Training model with 12 topics...\n",
            "0.6241730331349352\n",
            "\n",
            "Training model with 14 topics...\n",
            "0.663116347168541\n",
            "\n",
            "Training model with 16 topics...\n",
            "0.6585618024192186\n",
            "\n",
            "Training model with 18 topics...\n",
            "0.6119361179516478\n",
            "\n",
            "Training model with 20 topics...\n",
            "0.6118339003777067\n",
            "\n",
            "Training model with 22 topics...\n",
            "0.6067969273896695\n",
            "\n",
            "Training model with 24 topics...\n",
            "0.6028676359957003\n",
            "\n",
            "Training model with 26 topics...\n",
            "0.6060778279987526\n",
            "\n",
            "Training model with 28 topics...\n",
            "0.5832598764087924\n",
            "\n",
            "Training model with 30 topics...\n",
            "0.5607407940252316\n",
            "\n",
            "Training model with 32 topics...\n",
            "0.5609107767718982\n",
            "\n",
            "Training model with 34 topics...\n",
            "0.5615870633048435\n",
            "\n",
            "Training model with 36 topics...\n",
            "0.538449807121323\n",
            "\n",
            "Training model with 38 topics...\n",
            "0.5519689713154751\n",
            "\n",
            "Training model with 40 topics...\n",
            "0.5390155379430303\n",
            "\n",
            "Training model with 42 topics...\n",
            "0.5266336604769319\n",
            "\n",
            "Training model with 44 topics...\n",
            "0.5113792513221566\n",
            "\n",
            "Training model with 46 topics...\n",
            "0.5197185517180225\n",
            "\n",
            "Training model with 48 topics...\n",
            "0.5050656650331927\n"
          ]
        }
      ]
    },
    {
      "cell_type": "code",
      "source": [
        "limit, start, step = 50, 2, 2\n",
        "x = range(start, limit, step)\n",
        "plt.plot(x, coherence_values)\n",
        "plt.xlabel(\"Number of topics\")\n",
        "plt.ylabel(\"Coherence\")\n",
        "plt.legend((\"coherence_values\"), loc='best')\n",
        "plt.show()"
      ],
      "metadata": {
        "colab": {
          "base_uri": "https://localhost:8080/",
          "height": 449
        },
        "id": "U1It8-pNsQrX",
        "outputId": "af01feba-86cb-47ed-8be1-06e6c2ff6f8f"
      },
      "execution_count": null,
      "outputs": [
        {
          "output_type": "display_data",
          "data": {
            "text/plain": [
              "<Figure size 640x480 with 1 Axes>"
            ],
            "image/png": "[encoded data removed]"
          },
          "metadata": {}
        }
      ]
    },
    {
      "cell_type": "code",
      "source": [
        "d = dict(zip(range(start, limit, step), coherence_values))"
      ],
      "metadata": {
        "id": "ur_Hq2yeukOi"
      },
      "execution_count": null,
      "outputs": []
    },
    {
      "cell_type": "code",
      "source": [
        "for key, value in d.items():\n",
        "  m = max(d.values())\n",
        "  if m == value:\n",
        "    print(\"Максимальное coherence: \", m)\n",
        "    optimum_num_topic = key\n",
        "    print(\"Оптимальное кол-во тем: \", key)"
      ],
      "metadata": {
        "colab": {
          "base_uri": "https://localhost:8080/"
        },
        "id": "x0qq-tc2IvOh",
        "outputId": "d79fcf91-03b5-4405-cbb2-ca95bdf33e56"
      },
      "execution_count": null,
      "outputs": [
        {
          "output_type": "stream",
          "name": "stdout",
          "text": [
            "Максимальное coherence:  0.6819118772885164\n",
            "Оптимальное кол-во тем:  10\n"
          ]
        }
      ]
    },
    {
      "cell_type": "markdown",
      "source": [
        "Найдём оптимальное значение eta и alpha для 10 тем, опирась на coherence:"
      ],
      "metadata": {
        "id": "yWCrXH5RLcWg"
      }
    },
    {
      "cell_type": "code",
      "source": [
        "def evaluate_models(dictionary, corpus, texts, start_alpha=0.1, end_alpha=1.0, step_alpha=0.1,\n",
        "                    start_eta=0.1, end_eta=1.0, step_eta=0.1, num_topics=10, random_state=42,\n",
        "                    passes=20, iterations=100, eval_every=0):\n",
        "    \"\"\"\n",
        "    Перебирает значения alpha и eta для LDA\n",
        "\n",
        "    Args:\n",
        "        dictionary (gensim.corpora.Dictionary): Словарь.\n",
        "        corpus (list of list of (int, float)):  Корпус в формате bag-of-words.\n",
        "        texts (list of list of str):  Список списков токенов (тексты).\n",
        "        start_alpha (float): Начальное значение alpha.\n",
        "        end_alpha (float): Конечное значение alpha.\n",
        "        step_alpha (float): Шаг для alpha.\n",
        "        start_eta (float): Начальное значение eta.\n",
        "        end_eta (float): Конечное значение eta.\n",
        "        step_eta (float): Шаг для eta.\n",
        "        num_topics (int): Количество тем.\n",
        "        random_state (int): Зерно для воспроизводимости.\n",
        "        passes (int): Количество проходов по корпусу.\n",
        "        iterations (int): Количество итераций для каждой темы.\n",
        "        eval_every (int):  Оценивать perplexity каждые `eval_every` проходов.  0 - отключает.\n",
        "\n",
        "    Returns:\n",
        "        tuple:  (best_alpha, best_eta, best_model, coherence_scores, perplexity_scores, alpha_grid, eta_grid)\n",
        "    \"\"\"\n",
        "    alpha_grid = np.arange(start_alpha, end_alpha + step_alpha, step_alpha)\n",
        "    eta_grid = np.arange(start_eta, end_eta + step_eta, step_eta)\n",
        "\n",
        "    coherence_scores = np.zeros((len(alpha_grid), len(eta_grid)))\n",
        "    perplexity_scores = np.zeros((len(alpha_grid), len(eta_grid)))\n",
        "    best_coherence = -float('inf')\n",
        "    best_alpha = None\n",
        "    best_eta = None\n",
        "    best_model = None\n",
        "\n",
        "\n",
        "    for i, alpha in enumerate(alpha_grid):\n",
        "        for j, eta in enumerate(eta_grid):\n",
        "            model = LdaMulticore(\n",
        "                corpus=corpus,\n",
        "                id2word=dictionary,\n",
        "                num_topics=num_topics,\n",
        "                alpha=alpha,\n",
        "                eta=eta,\n",
        "                random_state=random_state,\n",
        "                eval_every=eval_every,\n",
        "                passes=passes,\n",
        "                iterations=iterations\n",
        "            )\n",
        "\n",
        "            # Оценка coherence\n",
        "            coherence_model = CoherenceModel(model=model, texts=texts, dictionary=dictionary, coherence='c_v')\n",
        "            coherence_score = coherence_model.get_coherence()\n",
        "            coherence_scores[i, j] = coherence_score\n",
        "\n",
        "            # Получение perplexity (если eval_every > 0, то он уже есть)\n",
        "            if eval_every > 0:\n",
        "                perplexity_score = model.log_perplexity(corpus)\n",
        "                perplexity_scores[i, j] = np.exp(perplexity_score)\n",
        "            else:\n",
        "                perplexity_scores[i, j] = np.nan\n",
        "\n",
        "            print(f'Alpha: {alpha:.2f}, Eta: {eta:.2f}, Coherence: {coherence_score:.3f}')\n",
        "\n",
        "            if coherence_score > best_coherence:\n",
        "                best_coherence = coherence_score\n",
        "                best_alpha = alpha\n",
        "                best_eta = eta\n",
        "                best_model = model\n",
        "\n",
        "    print(f\"Оптимальные параметры: alpha = {best_alpha:.2f}, eta = {best_eta:.2f}, Coherence: {best_coherence:.3f}\")\n",
        "    return best_alpha, best_eta, best_model, coherence_scores, perplexity_scores, alpha_grid, eta_grid\n",
        "\n",
        "\n",
        "def plot_coherence_perplexity(coherence_scores, perplexity_scores, alpha_grid, eta_grid):\n",
        "    \"\"\"Строит графики когерентности и perplexity.\"\"\"\n",
        "\n",
        "    fig, axes = plt.subplots(1, 2, figsize=(12, 5))\n",
        "\n",
        "    # График coherence\n",
        "    im1 = axes[0].imshow(coherence_scores, cmap=\"viridis\", extent=[eta_grid[0], eta_grid[-1], alpha_grid[-1], alpha_grid[0]])\n",
        "    axes[0].set_xlabel(\"Eta\")\n",
        "    axes[0].set_ylabel(\"Alpha\")\n",
        "    axes[0].set_title(\"Coherence Scores\")\n",
        "    fig.colorbar(im1, ax=axes[0], label=\"Coherence\")\n",
        "\n",
        "    # График perplexity\n",
        "    if not np.all(np.isnan(perplexity_scores)):\n",
        "        im2 = axes[1].imshow(perplexity_scores, cmap=\"viridis\", extent=[eta_grid[0], eta_grid[-1], alpha_grid[-1], alpha_grid[0]])\n",
        "        axes[1].set_xlabel(\"Eta\")\n",
        "        axes[1].set_ylabel(\"Alpha\")\n",
        "        axes[1].set_title(\"Perplexity Scores\")\n",
        "        fig.colorbar(im2, ax=axes[1], label=\"Perplexity\")\n",
        "    else:\n",
        "         axes[1].set_title(\"Perplexity Scores (Не рассчитывался)\")\n",
        "    plt.tight_layout()\n",
        "    plt.show()\n",
        "\n",
        "\n",
        "# Параметры перебора\n",
        "start_alpha = 0.1\n",
        "end_alpha = 1.0\n",
        "step_alpha = 0.2\n",
        "start_eta = 0.1\n",
        "end_eta = 1.0\n",
        "step_eta = 0.2\n",
        "num_topics = 10\n",
        "random_state = 42\n",
        "passes = 20\n",
        "iterations = 100\n",
        "eval_every = 5\n",
        "\n",
        "\n",
        "best_alpha, best_eta, best_model, coherence_scores, perplexity_scores, alpha_grid, eta_grid = evaluate_models(\n",
        "    dictionary=id2word,\n",
        "    corpus=corpus,\n",
        "    texts=texts,\n",
        "    start_alpha=start_alpha,\n",
        "    end_alpha=end_alpha,\n",
        "    step_alpha=step_alpha,\n",
        "    start_eta=start_eta,\n",
        "    end_eta=end_eta,\n",
        "    step_eta=step_eta,\n",
        "    num_topics=num_topics,\n",
        "    random_state=random_state,\n",
        "    passes=passes,\n",
        "    iterations=iterations,\n",
        "    eval_every=eval_every\n",
        ")\n",
        "\n",
        "plot_coherence_perplexity(coherence_scores, perplexity_scores, alpha_grid, eta_grid)"
      ],
      "metadata": {
        "colab": {
          "base_uri": "https://localhost:8080/",
          "height": 1000
        },
        "id": "G5wAdeafmvgb",
        "outputId": "24005322-d7b5-42f0-c226-5331f72aea69"
      },
      "execution_count": null,
      "outputs": [
        {
          "output_type": "stream",
          "name": "stdout",
          "text": [
            "Alpha: 0.10, Eta: 0.10, Coherence: 0.291\n",
            "Alpha: 0.10, Eta: 0.30, Coherence: 0.416\n",
            "Alpha: 0.10, Eta: 0.50, Coherence: 0.528\n",
            "Alpha: 0.10, Eta: 0.70, Coherence: 0.488\n",
            "Alpha: 0.10, Eta: 0.90, Coherence: 0.412\n",
            "Alpha: 0.10, Eta: 1.10, Coherence: 0.451\n",
            "Alpha: 0.30, Eta: 0.10, Coherence: 0.294\n",
            "Alpha: 0.30, Eta: 0.30, Coherence: 0.412\n",
            "Alpha: 0.30, Eta: 0.50, Coherence: 0.472\n",
            "Alpha: 0.30, Eta: 0.70, Coherence: 0.401\n",
            "Alpha: 0.30, Eta: 0.90, Coherence: 0.397\n",
            "Alpha: 0.30, Eta: 1.10, Coherence: 0.395\n",
            "Alpha: 0.50, Eta: 0.10, Coherence: 0.290\n",
            "Alpha: 0.50, Eta: 0.30, Coherence: 0.404\n",
            "Alpha: 0.50, Eta: 0.50, Coherence: 0.390\n",
            "Alpha: 0.50, Eta: 0.70, Coherence: 0.366\n",
            "Alpha: 0.50, Eta: 0.90, Coherence: 0.351\n",
            "Alpha: 0.50, Eta: 1.10, Coherence: 0.333\n",
            "Alpha: 0.70, Eta: 0.10, Coherence: 0.259\n",
            "Alpha: 0.70, Eta: 0.30, Coherence: 0.352\n",
            "Alpha: 0.70, Eta: 0.50, Coherence: 0.357\n",
            "Alpha: 0.70, Eta: 0.70, Coherence: 0.359\n",
            "Alpha: 0.70, Eta: 0.90, Coherence: 0.360\n",
            "Alpha: 0.70, Eta: 1.10, Coherence: 0.303\n",
            "Alpha: 0.90, Eta: 0.10, Coherence: 0.274\n",
            "Alpha: 0.90, Eta: 0.30, Coherence: 0.348\n",
            "Alpha: 0.90, Eta: 0.50, Coherence: 0.353\n",
            "Alpha: 0.90, Eta: 0.70, Coherence: 0.416\n",
            "Alpha: 0.90, Eta: 0.90, Coherence: 0.336\n",
            "Alpha: 0.90, Eta: 1.10, Coherence: 0.313\n",
            "Alpha: 1.10, Eta: 0.10, Coherence: 0.272\n",
            "Alpha: 1.10, Eta: 0.30, Coherence: 0.332\n",
            "Alpha: 1.10, Eta: 0.50, Coherence: 0.356\n",
            "Alpha: 1.10, Eta: 0.70, Coherence: 0.405\n",
            "Alpha: 1.10, Eta: 0.90, Coherence: 0.332\n",
            "Alpha: 1.10, Eta: 1.10, Coherence: 0.371\n",
            "Оптимальные параметры: alpha = 0.10, eta = 0.50, Coherence: 0.528\n"
          ]
        },
        {
          "output_type": "display_data",
          "data": {
            "text/plain": [
              "<Figure size 1200x500 with 4 Axes>"
            ],
            "image/png": "[encoded data removed]"
          },
          "metadata": {}
        }
      ]
    },
    {
      "cell_type": "code",
      "source": [
        "final_model = LdaMulticore(corpus=corpus,\n",
        "                           id2word = id2word,\n",
        "                           num_topics = 10,\n",
        "                           alpha = 0.10,\n",
        "                           eta = 0.50,\n",
        "                           random_state = 42,\n",
        "                           passes = 50,\n",
        "                           iterations=100)"
      ],
      "metadata": {
        "id": "EncsKUkQZxDE"
      },
      "execution_count": null,
      "outputs": []
    },
    {
      "cell_type": "code",
      "source": [
        "log_perplexity = final_model.log_perplexity(corpus)\n",
        "perplexity = 2 ** (-log_perplexity)\n",
        "print(\"Perplexity:\", perplexity)"
      ],
      "metadata": {
        "colab": {
          "base_uri": "https://localhost:8080/"
        },
        "id": "OW7otmWJbnT0",
        "outputId": "596fd387-dcf4-4e0c-fb9d-a9756f95bfca"
      },
      "execution_count": null,
      "outputs": [
        {
          "output_type": "stream",
          "name": "stdout",
          "text": [
            "Perplexity: 169.25264517162958\n"
          ]
        }
      ]
    },
    {
      "cell_type": "code",
      "source": [
        "coherence = CoherenceModel(model = final_model, texts = texts, dictionary = id2word, coherence = 'c_v')\n",
        "print(f\"Coherence: {coherence.get_coherence():.3f}\")"
      ],
      "metadata": {
        "colab": {
          "base_uri": "https://localhost:8080/"
        },
        "id": "j50lFlXmcC2e",
        "outputId": "9371d33d-e66f-4db8-80fd-29310e93fb19"
      },
      "execution_count": null,
      "outputs": [
        {
          "output_type": "stream",
          "name": "stdout",
          "text": [
            "Coherence: 0.518\n"
          ]
        }
      ]
    },
    {
      "cell_type": "code",
      "source": [
        "topics =final_model.print_topics()"
      ],
      "metadata": {
        "id": "7KbyjVUpv_Vt"
      },
      "execution_count": null,
      "outputs": []
    },
    {
      "cell_type": "code",
      "source": [
        "topics"
      ],
      "metadata": {
        "colab": {
          "base_uri": "https://localhost:8080/"
        },
        "id": "IBOpt3Gru98v",
        "outputId": "ec6178b4-3c1a-4566-8872-c097887bb2b7"
      },
      "execution_count": null,
      "outputs": [
        {
          "output_type": "execute_result",
          "data": {
            "text/plain": [
              "[(0,\n",
              "  '0.005*\"agent\" + 0.003*\"ffa\" + 0.002*\"radar\" + 0.002*\"mesh\" + 0.002*\"cf\" + 0.002*\"retinal\" + 0.001*\"panacea\" + 0.001*\"redesign\" + 0.001*\"crossdomain\" + 0.001*\"handobject\"'),\n",
              " (1,\n",
              "  '0.003*\"gfvc\" + 0.003*\"meeting\" + 0.002*\"sei\" + 0.002*\"scenespecific\" + 0.002*\"expression\" + 0.001*\"coding\" + 0.001*\"blendshapes\" + 0.001*\"ssms\" + 0.001*\"potential\" + 0.001*\"technology\"'),\n",
              " (2,\n",
              "  '0.003*\"panoramic\" + 0.003*\"emotional\" + 0.003*\"retrieval\" + 0.002*\"emotion\" + 0.002*\"grounding\" + 0.002*\"rpm\" + 0.002*\"cue\" + 0.002*\"sam\" + 0.002*\"segment\" + 0.001*\"qoe\"'),\n",
              " (3,\n",
              "  '0.004*\"game\" + 0.003*\"disease\" + 0.003*\"narrative\" + 0.002*\"pangea\" + 0.002*\"cache\" + 0.002*\"llm\" + 0.001*\"response\" + 0.001*\"progression\" + 0.001*\"medical\" + 0.001*\"mcts\"'),\n",
              " (4,\n",
              "  '0.004*\"unsafe\" + 0.002*\"forgery\" + 0.002*\"embodied\" + 0.002*\"unknown\" + 0.001*\"defense\" + 0.001*\"sharegptvideo\" + 0.001*\"vsr\" + 0.001*\"curve\" + 0.001*\"echocardiography\" + 0.001*\"predictive\"'),\n",
              " (5,\n",
              "  '0.030*\"video\" + 0.018*\"model\" + 0.013*\"generation\" + 0.009*\"audio\" + 0.007*\"less\" + 0.006*\"task\" + 0.005*\"dataset\" + 0.005*\"evaluation\" + 0.005*\"visual\" + 0.005*\"content\"'),\n",
              " (6,\n",
              "  '0.003*\"evaluation\" + 0.003*\"quality\" + 0.003*\"metric\" + 0.002*\"benchmark\" + 0.002*\"assessment\" + 0.002*\"physical\" + 0.002*\"sora\" + 0.002*\"stereoscopic\" + 0.002*\"graph\" + 0.002*\"tv\"'),\n",
              " (7,\n",
              "  '0.002*\"pain\" + 0.001*\"ethical\" + 0.000*\"opening\" + 0.000*\"recognizing\" + 0.000*\"patientcomputer\" + 0.000*\"ffhquv\" + 0.000*\"anonymizing\" + 0.000*\"logistical\" + 0.000*\"privacypreserving\" + 0.000*\"demographic\"'),\n",
              " (8,\n",
              "  '0.002*\"plane\" + 0.002*\"pedestrian\" + 0.002*\"law\" + 0.002*\"alphatablets\" + 0.002*\"speech\" + 0.002*\"kt\" + 0.001*\"panorama\" + 0.001*\"production\" + 0.001*\"system\" + 0.001*\"panoramic\"'),\n",
              " (9,\n",
              "  '0.046*\"video\" + 0.024*\"model\" + 0.020*\"generation\" + 0.010*\"method\" + 0.009*\"motion\" + 0.009*\"image\" + 0.009*\"less\" + 0.007*\"diffusion\" + 0.006*\"propose\" + 0.005*\"approach\"')]"
            ]
          },
          "metadata": {},
          "execution_count": 145
        }
      ]
    },
    {
      "cell_type": "code",
      "source": [
        "def connect_high_weight_words(topic_string, threshold=0.0005):\n",
        "    \"\"\"\n",
        "    Извлекает слова с весом больше заданного порога и соединяет их в строку.\n",
        "\n",
        "    Args:\n",
        "        topic_string (str): Строка, представляющая тему (например, из вывода LDA).\n",
        "        threshold (float): Порог для веса слова.\n",
        "\n",
        "    Returns:\n",
        "        str: Строка, содержащая слова с весом больше порога, разделенные запятыми.\n",
        "    \"\"\"\n",
        "    words = []\n",
        "    keywords_with_weights = [s.split('*') for s in topic_string.split('+')]\n",
        "    keywords_with_weights = [(float(weight.replace('\"', '')), word.strip().replace('\"','')) for weight, word in keywords_with_weights]\n",
        "\n",
        "    for weight, word in keywords_with_weights:\n",
        "        if weight > threshold:\n",
        "            words.append(word)\n",
        "\n",
        "    return \", \".join(words)"
      ],
      "metadata": {
        "id": "atia0GCSuRx1"
      },
      "execution_count": null,
      "outputs": []
    },
    {
      "cell_type": "markdown",
      "source": [
        "Давайте попробуем объединить ручным способом"
      ],
      "metadata": {
        "id": "GEneH7kmy755"
      }
    },
    {
      "cell_type": "code",
      "source": [
        "def extract_keywords(topic_str, threshold= 0.000):\n",
        "    \"\"\"Извлекает ключевые слова с весом выше threshold.\"\"\"\n",
        "    keywords = []\n",
        "    for part in topic_str.split(' + '):\n",
        "        weight, word = part.split('*\"')\n",
        "        word = word.rstrip('\"')\n",
        "        weight = float(weight)\n",
        "        if weight >= threshold:\n",
        "            keywords.append((word, weight))\n",
        "    return keywords\n",
        "\n",
        "def group_phrases(keywords, top_n=5):\n",
        "    \"\"\"Группирует ключевые слова в словосочетания.\"\"\"\n",
        "    # Сортируем слова по весу\n",
        "    keywords_sorted = sorted(keywords, key=lambda x: -x[1])\n",
        "    # Берем top_n слов для формирования фраз\n",
        "    top_words = [word for word, weight in keywords_sorted[:top_n]]\n",
        "    # Формируем возможные сочетания\n",
        "    phrases = []\n",
        "    if len(top_words) >= 3:\n",
        "        phrases.append(f\"{top_words[0]} {top_words[1]}\")\n",
        "    elif len(top_words) >= 3:\n",
        "        phrases.append(f\"{top_words[1]} {top_words[2]}\")\n",
        "    elif len(top_words) >= 3:\n",
        "        phrases.append(f\"{top_words[1]} {top_words[2]} {top_words[3]}\")\n",
        "    return phrases\n",
        "\n",
        "\n",
        "topics_words = []\n",
        "# Обрабатываем все топики\n",
        "for topic_id, topic_str in final_model.print_topics():\n",
        "\n",
        "    keywords = extract_keywords(topic_str)\n",
        "    phrases = group_phrases(keywords)\n",
        "    topics_words.append([word for word, weight in keywords])\n",
        "\n",
        "    print(f\"\\nТопик {topic_id}:\")\n",
        "    print(\"Ключевые слова:\", [word for word, weight in keywords])\n",
        "    print(\"Возможные словосочетания:\", phrases)"
      ],
      "metadata": {
        "colab": {
          "base_uri": "https://localhost:8080/"
        },
        "collapsed": true,
        "id": "-sAsjMyjyrXK",
        "outputId": "5cfae366-f8f6-4022-f180-b67f5ac2998b"
      },
      "execution_count": null,
      "outputs": [
        {
          "output_type": "stream",
          "name": "stdout",
          "text": [
            "\n",
            "Топик 0:\n",
            "Ключевые слова: ['agent', 'ffa', 'radar', 'mesh', 'cf', 'retinal', 'panacea', 'redesign', 'crossdomain', 'handobject']\n",
            "Возможные словосочетания: ['agent ffa']\n",
            "\n",
            "Топик 1:\n",
            "Ключевые слова: ['gfvc', 'meeting', 'sei', 'scenespecific', 'expression', 'coding', 'blendshapes', 'ssms', 'potential', 'technology']\n",
            "Возможные словосочетания: ['gfvc meeting']\n",
            "\n",
            "Топик 2:\n",
            "Ключевые слова: ['panoramic', 'emotional', 'retrieval', 'emotion', 'grounding', 'rpm', 'cue', 'sam', 'segment', 'qoe']\n",
            "Возможные словосочетания: ['panoramic emotional']\n",
            "\n",
            "Топик 3:\n",
            "Ключевые слова: ['game', 'disease', 'narrative', 'pangea', 'cache', 'llm', 'response', 'progression', 'medical', 'mcts']\n",
            "Возможные словосочетания: ['game disease']\n",
            "\n",
            "Топик 4:\n",
            "Ключевые слова: ['unsafe', 'forgery', 'embodied', 'unknown', 'defense', 'sharegptvideo', 'vsr', 'curve', 'echocardiography', 'predictive']\n",
            "Возможные словосочетания: ['unsafe forgery']\n",
            "\n",
            "Топик 5:\n",
            "Ключевые слова: ['video', 'model', 'generation', 'audio', 'less', 'task', 'dataset', 'evaluation', 'visual', 'content']\n",
            "Возможные словосочетания: ['video model']\n",
            "\n",
            "Топик 6:\n",
            "Ключевые слова: ['evaluation', 'quality', 'metric', 'benchmark', 'assessment', 'physical', 'sora', 'stereoscopic', 'graph', 'tv']\n",
            "Возможные словосочетания: ['evaluation quality']\n",
            "\n",
            "Топик 7:\n",
            "Ключевые слова: ['pain', 'ethical', 'opening', 'recognizing', 'patientcomputer', 'ffhquv', 'anonymizing', 'logistical', 'privacypreserving', 'demographic']\n",
            "Возможные словосочетания: ['pain ethical']\n",
            "\n",
            "Топик 8:\n",
            "Ключевые слова: ['plane', 'pedestrian', 'law', 'alphatablets', 'speech', 'kt', 'panorama', 'production', 'system', 'panoramic']\n",
            "Возможные словосочетания: ['plane pedestrian']\n",
            "\n",
            "Топик 9:\n",
            "Ключевые слова: ['video', 'model', 'generation', 'method', 'motion', 'image', 'less', 'diffusion', 'propose', 'approach']\n",
            "Возможные словосочетания: ['video model']\n"
          ]
        }
      ]
    },
    {
      "cell_type": "code",
      "source": [
        "def extract_keywords(topic_str, threshold=0.000):\n",
        "    \"\"\"Извлекает ключевые слова с весом выше threshold.\"\"\"\n",
        "    keywords = []\n",
        "    for part in topic_str.split(' + '):\n",
        "        weight, word = part.split('*\"')\n",
        "        word = word.rstrip('\"')\n",
        "        weight = float(weight)\n",
        "        if weight >= threshold:\n",
        "            keywords.append((word, weight))\n",
        "    return keywords\n",
        "\n",
        "def group_phrases(keywords, phrase_length=4):\n",
        "    \"\"\"Группирует ключевые слова в содержательные словосочетания.\"\"\"\n",
        "    # Сортируем слова по весу\n",
        "    keywords_sorted = sorted(keywords, key=lambda x: -x[1])\n",
        "\n",
        "    # Берем топ-N слов для формирования фраз\n",
        "    top_words = [word for word, weight in keywords_sorted[:max(5, phrase_length + 2)]]\n",
        "\n",
        "    # Формируем сочетания разной длины\n",
        "    phrases = []\n",
        "\n",
        "    # Основное сочетание из 4-5 ключевых слов\n",
        "    if len(top_words) >= phrase_length:\n",
        "        main_phrase = \" \".join(top_words[:phrase_length])\n",
        "        phrases.append(main_phrase)\n",
        "\n",
        "    # Дополнительные вариации\n",
        "    if len(top_words) >= 5:\n",
        "        # Вариант с пропуском 1 слова\n",
        "        phrases.append(f\"{top_words[0]} {top_words[2]} {top_words[3]} {top_words[4]}\")\n",
        "        # Вариант с перестановкой\n",
        "        phrases.append(f\"{top_words[1]} {top_words[0]} {top_words[2]} {top_words[3]}\")\n",
        "\n",
        "    # Удаляем дубликаты\n",
        "    unique_phrases = []\n",
        "    seen = set()\n",
        "    for phrase in phrases:\n",
        "        if phrase not in seen:\n",
        "            seen.add(phrase)\n",
        "            unique_phrases.append(phrase)\n",
        "\n",
        "    return unique_phrases[:3]  # Возвращаем не более 3 вариантов\n",
        "\n",
        "topics_words = []\n",
        "phrases = []\n",
        "\n",
        "# Обрабатываем все топики\n",
        "for topic_id, topic_str in final_model.print_topics():\n",
        "    keywords = extract_keywords(topic_str)\n",
        "    phrase = group_phrases(keywords, phrase_length=4)\n",
        "    topics_words.append([word for word, weight in keywords])\n",
        "    phrases.append(phrase)\n",
        "\n",
        "    print(f\"\\nТопик {topic_id}:\")\n",
        "    print(\"Ключевые слова:\", [word for word, weight in keywords])\n",
        "    print(\"Словосочетания:\", phrase)"
      ],
      "metadata": {
        "colab": {
          "base_uri": "https://localhost:8080/"
        },
        "id": "L1XXozAzw7pQ",
        "outputId": "b0f8b672-56d9-4fe4-d945-ecb73e0efb73"
      },
      "execution_count": null,
      "outputs": [
        {
          "output_type": "stream",
          "name": "stdout",
          "text": [
            "\n",
            "Топик 0:\n",
            "Ключевые слова: ['agent', 'ffa', 'radar', 'mesh', 'cf', 'retinal', 'panacea', 'redesign', 'crossdomain', 'handobject']\n",
            "Словосочетания: ['agent ffa radar mesh', 'agent radar mesh cf', 'ffa agent radar mesh']\n",
            "\n",
            "Топик 1:\n",
            "Ключевые слова: ['gfvc', 'meeting', 'sei', 'scenespecific', 'expression', 'coding', 'blendshapes', 'ssms', 'potential', 'technology']\n",
            "Словосочетания: ['gfvc meeting sei scenespecific', 'gfvc sei scenespecific expression', 'meeting gfvc sei scenespecific']\n",
            "\n",
            "Топик 2:\n",
            "Ключевые слова: ['panoramic', 'emotional', 'retrieval', 'emotion', 'grounding', 'rpm', 'cue', 'sam', 'segment', 'qoe']\n",
            "Словосочетания: ['panoramic emotional retrieval emotion', 'panoramic retrieval emotion grounding', 'emotional panoramic retrieval emotion']\n",
            "\n",
            "Топик 3:\n",
            "Ключевые слова: ['game', 'disease', 'narrative', 'pangea', 'cache', 'llm', 'response', 'progression', 'medical', 'mcts']\n",
            "Словосочетания: ['game disease narrative pangea', 'game narrative pangea cache', 'disease game narrative pangea']\n",
            "\n",
            "Топик 4:\n",
            "Ключевые слова: ['unsafe', 'forgery', 'embodied', 'unknown', 'defense', 'sharegptvideo', 'vsr', 'curve', 'echocardiography', 'predictive']\n",
            "Словосочетания: ['unsafe forgery embodied unknown', 'unsafe embodied unknown defense', 'forgery unsafe embodied unknown']\n",
            "\n",
            "Топик 5:\n",
            "Ключевые слова: ['video', 'model', 'generation', 'audio', 'less', 'task', 'dataset', 'evaluation', 'visual', 'content']\n",
            "Словосочетания: ['video model generation audio', 'video generation audio less', 'model video generation audio']\n",
            "\n",
            "Топик 6:\n",
            "Ключевые слова: ['evaluation', 'quality', 'metric', 'benchmark', 'assessment', 'physical', 'sora', 'stereoscopic', 'graph', 'tv']\n",
            "Словосочетания: ['evaluation quality metric benchmark', 'evaluation metric benchmark assessment', 'quality evaluation metric benchmark']\n",
            "\n",
            "Топик 7:\n",
            "Ключевые слова: ['pain', 'ethical', 'opening', 'recognizing', 'patientcomputer', 'ffhquv', 'anonymizing', 'logistical', 'privacypreserving', 'demographic']\n",
            "Словосочетания: ['pain ethical opening recognizing', 'pain opening recognizing patientcomputer', 'ethical pain opening recognizing']\n",
            "\n",
            "Топик 8:\n",
            "Ключевые слова: ['plane', 'pedestrian', 'law', 'alphatablets', 'speech', 'kt', 'panorama', 'production', 'system', 'panoramic']\n",
            "Словосочетания: ['plane pedestrian law alphatablets', 'plane law alphatablets speech', 'pedestrian plane law alphatablets']\n",
            "\n",
            "Топик 9:\n",
            "Ключевые слова: ['video', 'model', 'generation', 'method', 'motion', 'image', 'less', 'diffusion', 'propose', 'approach']\n",
            "Словосочетания: ['video model generation method', 'video generation method motion', 'model video generation method']\n"
          ]
        }
      ]
    },
    {
      "cell_type": "markdown",
      "source": [
        "Таким образом, темы"
      ],
      "metadata": {
        "id": "6L_dXXcdKT-0"
      }
    },
    {
      "cell_type": "code",
      "source": [
        "num_topc = 1\n",
        "for topic in phrases:\n",
        "  print(num_topc, 'Video generation:', topic[0])\n",
        "  num_topc+=1"
      ],
      "metadata": {
        "colab": {
          "base_uri": "https://localhost:8080/"
        },
        "id": "MIwvKFWjnM-x",
        "outputId": "25b3150c-55df-4fae-8696-dbfa7d628793"
      },
      "execution_count": null,
      "outputs": [
        {
          "output_type": "stream",
          "name": "stdout",
          "text": [
            "1 Video generation: agent ffa radar mesh\n",
            "2 Video generation: gfvc meeting sei scenespecific\n",
            "3 Video generation: panoramic emotional retrieval emotion\n",
            "4 Video generation: game disease narrative pangea\n",
            "5 Video generation: unsafe forgery embodied unknown\n",
            "6 Video generation: video model generation audio\n",
            "7 Video generation: evaluation quality metric benchmark\n",
            "8 Video generation: pain ethical opening recognizing\n",
            "9 Video generation: plane pedestrian law alphatablets\n",
            "10 Video generation: video model generation method\n"
          ]
        }
      ]
    },
    {
      "cell_type": "code",
      "source": [
        "#!pip install pyLDAvis"
      ],
      "metadata": {
        "id": "hQnUaJ-OvTRn"
      },
      "execution_count": null,
      "outputs": []
    },
    {
      "cell_type": "code",
      "source": [
        "import pyLDAvis.gensim\n",
        "\n",
        "lda_display = pyLDAvis.gensim.prepare(final_model, corpus, id2word, sort_topics = False)\n",
        "pyLDAvis.display(lda_display)"
      ],
      "metadata": {
        "colab": {
          "base_uri": "https://localhost:8080/",
          "height": 861
        },
        "id": "IsuDdobmT9Mv",
        "outputId": "ad1db2df-983f-4874-f04f-a2f53caff2b4"
      },
      "execution_count": null,
      "outputs": [
        {
          "output_type": "execute_result",
          "data": {
            "text/plain": [
              "<IPython.core.display.HTML object>"
            ],
            "text/html": [
              "\n",
              "<link rel=\"stylesheet\" type=\"text/css\" href=\"https://cdn.jsdelivr.net/gh/bmabey/pyLDAvis@3.4.0/pyLDAvis/js/ldavis.v1.0.0.css\">\n",
              "\n",
              "\n",
              "<div id=\"ldavis_el8371333167593017922507403572\" style=\"background-color:white;\"></div>\n",
              "<script type=\"text/javascript\">\n",
              "\n",
              "var ldavis_el8371333167593017922507403572_data = {\"mdsDat\": {\"x\": [0.053555330799407046, 0.045518712056795745, 0.05633917414735668, 0.04755657789254755, 0.048258617483570375, -0.14779311691840802, 0.03883472407443192, 0.04240240148793423, 0.050015531216188194, -0.23468795223982364], \"y\": [0.009066039105940659, 0.01182580637002049, 0.0022140550990577294, 0.00202805812342881, 0.0021373580212593855, -0.045207692681283676, -0.021513419315864046, 0.0008680019904962657, 0.006405952188394789, 0.0321758410985498], \"topics\": [1, 2, 3, 4, 5, 6, 7, 8, 9, 10], \"cluster\": [1, 1, 1, 1, 1, 1, 1, 1, 1, 1], \"Freq\": [1.0645053223936378, 0.6849349322956336, 1.3472252680519703, 0.785259353305091, 0.47101803835848866, 20.109513207805385, 2.1038497055532157, 0.11325214158834672, 0.7297651394137088, 72.59067689123452]}, \"tinfo\": {\"Term\": [\"video\", \"model\", \"audio\", \"evaluation\", \"quality\", \"generation\", \"metric\", \"benchmark\", \"motion\", \"task\", \"dataset\", \"tv\", \"llm\", \"physical\", \"music\", \"potential\", \"visual\", \"system\", \"content\", \"action\", \"feature\", \"current\", \"research\", \"less\", \"technique\", \"learning\", \"multimodal\", \"comprehensive\", \"pose\", \"game\", \"radar\", \"panacea\", \"cf\", \"redesign\", \"crossdomain\", \"handobject\", \"vi\", \"oran\", \"glsmec\", \"fundusvideo\", \"programmer\", \"retinal\", \"spotting\", \"vidu\", \"odv\", \"omnidirectional\", \"vertex\", \"copyright\", \"skinning\", \"glspsnr\", \"tight\", \"genmac\", \"vlm\", \"software\", \"dreammeshd\", \"reflection\", \"vimts\", \"tasksaware\", \"objectlevel\", \"omnidrag\", \"agent\", \"ffa\", \"fundus\", \"mesh\", \"surface\", \"correction\", \"latency\", \"setup\", \"people\", \"industry\", \"compositional\", \"point\", \"ai\", \"sora\", \"gfvc\", \"sei\", \"scenespecific\", \"meeting\", \"blendshapes\", \"ssms\", \"supplemental\", \"dualmodal\", \"videodepth\", \"coexplorer\", \"isoiec\", \"itut\", \"seibased\", \"jvet\", \"standardization\", \"multireference\", \"bitrates\", \"longtime\", \"vaid\", \"emotivetalk\", \"pseudogeneralized\", \"corner\", \"idol\", \"liftimaged\", \"lvdms\", \"geometrically\", \"ssmbased\", \"genai\", \"vertex\", \"attendee\", \"coding\", \"expression\", \"message\", \"coded\", \"bitrate\", \"technology\", \"potential\", \"phase\", \"gain\", \"drift\", \"traditional\", \"concern\", \"panoramic\", \"rpm\", \"emotional\", \"city\", \"gsvit\", \"mha\", \"qoe\", \"storyagent\", \"transmitted\", \"crossspecies\", \"multicharacter\", \"rpmspecific\", \"pom\", \"viewport\", \"mixer\", \"guitar\", \"csvg\", \"mavin\", \"infilling\", \"dvd\", \"textttdreamfactory\", \"opensora\", \"viewing\", \"factual\", \"evc\", \"gvt\", \"remote\", \"physiological\", \"guideline\", \"adacache\", \"sam\", \"grounding\", \"emotion\", \"retrieval\", \"surgery\", \"cue\", \"panorama\", \"segment\", \"moment\", \"surgical\", \"adaptive\", \"lipsync\", \"transformer\", \"pangea\", \"mcts\", \"cache\", \"gvgp\", \"mvg\", \"videomr\", \"percentage\", \"npc\", \"assist\", \"exercise\", \"fifodiffusion\", \"diagonal\", \"tail\", \"cavdm\", \"ear\", \"musician\", \"freeform\", \"disease\", \"approaching\", \"avoidance\", \"breadthfirst\", \"competition\", \"deterministic\", \"gvgai\", \"knowledgebased\", \"montecarlo\", \"ngram\", \"noveltybased\", \"pruning\", \"sixty\", \"progression\", \"game\", \"patient\", \"server\", \"playing\", \"narrative\", \"mixed\", \"scope\", \"procedural\", \"designer\", \"interface\", \"response\", \"tree\", \"foreground\", \"medical\", \"llm\", \"search\", \"enhancement\", \"level\", \"avatar\", \"increase\", \"domainspecific\", \"unsafe\", \"unknown\", \"defense\", \"sharegptvideo\", \"vsr\", \"embodied\", \"unsynchronized\", \"terrifying\", \"lvd\", \"sharecaptionervideo\", \"tivdiffusion\", \"textualdescribed\", \"misaligned\", \"textualvisual\", \"manipulative\", \"worldsimbench\", \"tiv\", \"gptv\", \"curve\", \"echocardiography\", \"forgery\", \"offset\", \"violent\", \"approval\", \"distortedweird\", \"pornographic\", \"violentbloody\", \"lexica\", \"thematic\", \"choose\", \"predictive\", \"vgms\", \"filtering\", \"negative\", \"simulator\", \"captioning\", \"created\", \"heart\", \"annotated\", \"sound\", \"music\", \"videotoaudio\", \"va\", \"audiovisual\", \"fm\", \"usergenerated\", \"texttoaudio\", \"dance\", \"narration\", \"vatt\", \"audio\", \"lmms\", \"latte\", \"surgical\", \"news\", \"videomusic\", \"game\", \"comment\", \"thumbnail\", \"panda\", \"red\", \"spagent\", \"vta\", \"library\", \"jersey\", \"song\", \"loudness\", \"offscreen\", \"rhythm\", \"audiovideo\", \"synchronized\", \"perceptual\", \"retrieval\", \"crossmodal\", \"grounded\", \"vqa\", \"medical\", \"safety\", \"ugc\", \"modality\", \"aligned\", \"evaluation\", \"multimodal\", \"metric\", \"tool\", \"world\", \"dataset\", \"semantic\", \"synchronization\", \"visual\", \"video\", \"task\", \"feature\", \"model\", \"content\", \"generation\", \"alignment\", \"learning\", \"less\", \"quality\", \"introduce\", \"temporal\", \"generated\", \"comprehensive\", \"text\", \"method\", \"generate\", \"existing\", \"propose\", \"first\", \"show\", \"performance\", \"approach\", \"result\", \"commonsense\", \"vamp\", \"phygenbench\", \"fetal\", \"aqa\", \"chronomagicbench\", \"genai\", \"gvseg\", \"interactivities\", \"stiv\", \"diffusiongenerated\", \"mmsummary\", \"gaia\", \"finevq\", \"finevd\", \"hyperglm\", \"hypergraph\", \"storyeval\", \"tsvg\", \"aigcbench\", \"lidar\", \"crafted\", \"empower\", \"endoscopy\", \"recommendation\", \"stereoscopic\", \"disinformation\", \"fullyunsupervised\", \"categorized\", \"reasoning\", \"measure\", \"openai\", \"ultrasound\", \"graph\", \"keyframe\", \"assessment\", \"sora\", \"survey\", \"evaluates\", \"evaluation\", \"physical\", \"benchmark\", \"ugc\", \"metric\", \"quality\", \"aigenerated\", \"assess\", \"future\", \"action\", \"tv\", \"current\", \"research\", \"medical\", \"algorithm\", \"development\", \"evaluate\", \"pain\", \"opening\", \"patientcomputer\", \"ffhquv\", \"anonymizing\", \"logistical\", \"recognizing\", \"privacypreserving\", \"demographic\", \"ethical\", \"genuine\", \"violent\", \"approval\", \"distortedweird\", \"pornographic\", \"violentbloody\", \"lexica\", \"thematic\", \"choose\", \"duplicate\", \"political\", \"chan\", \"irb\", \"computing\", \"indeed\", \"recruit\", \"attendee\", \"intentional\", \"stay\", \"trust\", \"celebvhq\", \"raise\", \"angle\", \"pool\", \"privacy\", \"replacement\", \"onto\", \"videobased\", \"synthesizes\", \"reflecting\", \"participant\", \"bridging\", \"nuanced\", \"avenue\", \"small\", \"encourage\", \"varied\", \"concern\", \"alternative\", \"facial\", \"plane\", \"pedestrian\", \"alphatablets\", \"kt\", \"pedgen\", \"special\", \"virbo\", \"mora\", \"eskt\", \"law\", \"planar\", \"combinatorial\", \"vsflow\", \"wideangle\", \"panning\", \"stationary\", \"urban\", \"citywalkers\", \"gameplaying\", \"log\", \"lkt\", \"team\", \"humanintheloop\", \"videophy\", \"copilot\", \"codex\", \"blendergpt\", \"panoramic\", \"forth\", \"voice\", \"multiagent\", \"panorama\", \"multilingual\", \"speech\", \"production\", \"intelligent\", \"professional\", \"label\", \"surface\", \"system\", \"factor\", \"scaling\", \"avatar\", \"marketing\", \"speaker\", \"motion\", \"camera\", \"appearance\", \"multiview\", \"technique\", \"trajectory\", \"pose\", \"subject\", \"synthetic\", \"denoising\", \"view\", \"stable\", \"ti\", \"customized\", \"target\", \"movement\", \"optical\", \"spatialtemporal\", \"animation\", \"depth\", \"iv\", \"synthesis\", \"gaussian\", \"single\", \"noise\", \"shape\", \"transition\", \"imagetovideo\", \"personalized\", \"object\", \"consistency\", \"image\", \"prior\", \"fidelity\", \"diffusion\", \"frame\", \"video\", \"method\", \"generation\", \"model\", \"training\", \"control\", \"reference\", \"attention\", \"texttovideo\", \"design\", \"propose\", \"less\", \"approach\", \"data\", \"demonstrate\", \"module\", \"framework\", \"generative\", \"novel\", \"result\", \"dynamic\", \"generate\", \"temporal\", \"existing\", \"scene\", \"however\", \"prompt\", \"generating\", \"performance\", \"quality\", \"generated\", \"text\", \"task\"], \"Freq\": [2157.0, 1129.0, 120.0, 130.0, 199.0, 941.0, 77.0, 67.0, 374.0, 208.0, 150.0, 95.0, 55.0, 41.0, 54.0, 74.0, 169.0, 57.0, 181.0, 71.0, 141.0, 68.0, 65.0, 412.0, 79.0, 122.0, 74.0, 63.0, 64.0, 17.0, 1.2043908900593177, 0.8552505691290352, 0.9766936876545089, 0.7212234815846693, 0.708481136570343, 0.7042448319589918, 0.6937008403141269, 0.5623615858948348, 0.5623615183570969, 0.5604135611509925, 0.5598175068449346, 0.870667476102933, 0.5473633453583345, 0.5467337923342658, 0.5466159389815866, 0.5466123257126075, 0.5583143869496738, 0.4020044384562077, 0.7009732363961625, 0.40120310319572655, 0.3999914424084815, 0.39892238755486525, 0.3986787113964316, 0.3986375809140352, 0.3982632192327164, 0.6929088252614795, 0.38636590639530866, 0.3863644543339433, 0.38561647388642295, 0.3856163050420781, 2.7220790806169566, 1.5162239723994226, 0.6602121854262338, 1.0369792908189392, 0.6699595694522723, 0.6386716317546682, 0.540499248670925, 0.509633219222139, 0.6846493651396687, 0.6466312918578295, 0.6069211956277532, 0.6671642500172907, 0.6057396229027537, 0.5972146719331595, 1.2605634142119322, 0.7121558691047682, 0.5943974520439258, 1.1529368963435163, 0.4894322992056692, 0.46171508825321084, 0.3824696559607327, 0.358875577046655, 0.35885261064366303, 0.2744739156835721, 0.27320494043859395, 0.27320494043859395, 0.27320494043859395, 0.27320494043859395, 0.2723995084683853, 0.2715338684540036, 0.2715338684540036, 0.2664457563875426, 0.2664457129317186, 0.26644569120380657, 0.2651250687119864, 0.2596652572548118, 0.24956890492642964, 0.24637372855406822, 0.2463211035511859, 0.2652326870601599, 0.243328300951263, 0.3842822418362283, 0.2690777235527557, 0.16466766454651266, 0.5549982726564205, 0.5695152555943912, 0.2654467069934345, 0.2652264076935897, 0.26990575255145227, 0.38428267639446845, 0.4194320934724127, 0.2744749803512605, 0.27541788482074103, 0.27003344749032077, 0.2820492001096278, 0.2744755452769727, 2.40437362637686, 1.6456924341298587, 2.3923334529280997, 1.0552244194895801, 0.8701288266226381, 0.8676269746196478, 1.0591059227799042, 0.8627450724279571, 0.861299178048641, 0.8564730055291726, 0.8315280794375882, 0.6745144290736329, 0.6734024853528642, 0.6725099985852105, 0.6712406527303966, 0.6687871368158139, 0.6685369088780362, 0.6662221188193077, 0.6662221188193077, 0.6656871310609642, 0.6542545990843344, 0.7700367967619745, 0.8667329920402397, 0.8672758434946638, 0.48227919849033385, 0.4803085733475617, 0.4803085733475617, 0.48030853061008305, 0.48030853061008305, 0.4797728163146016, 1.1517002603276776, 1.7530737683572803, 1.7635526562342394, 2.2206894814814033, 0.8589410094490338, 1.5475405148521766, 0.8937955602013179, 1.1039148015956062, 0.7995679671676158, 0.8656450667824994, 0.8601949270740379, 0.760114692757495, 0.8261111894875539, 1.051112520765138, 0.5567135199030684, 0.6721517431037316, 0.4329125554245155, 0.4303310343465968, 0.4302830567952992, 0.3091129610214151, 0.3083142568535779, 0.30746256813142603, 0.30650052605919714, 0.30449667861294566, 0.30449667861294566, 0.30449667861294566, 0.30227745530557315, 0.2983886580518777, 0.2983886580518777, 0.431999935710425, 1.0823170603439773, 0.18532164934718615, 0.18532164934718615, 0.18532164934718615, 0.18532164934718615, 0.18532164934718615, 0.18532164934718615, 0.18532164934718615, 0.18532164934718615, 0.18532164934718615, 0.18532164934718615, 0.18532164934718615, 0.18532164934718615, 0.6318977306093226, 1.7941131074553267, 0.30574678527666216, 0.30118333795973073, 0.30908102580814223, 1.0777316419988816, 0.28746771188922343, 0.3006555599849945, 0.5209983431883728, 0.3083144810477428, 0.3074443087622146, 0.6322225132229353, 0.43080522991591186, 0.5067212103765368, 0.6245091378885689, 0.6633031481599501, 0.3907177189546665, 0.39719538587279823, 0.3571716207857847, 0.35069529903264257, 0.32866762447598546, 0.3091132848574311, 0.8986391299649226, 0.41967035596634633, 0.3505494228567371, 0.34872423824246224, 0.3443770379372921, 0.4906471942643263, 0.2610482875657831, 0.19396608889777223, 0.19396592453672407, 0.19216110575050974, 0.18921714536511497, 0.18921711548128803, 0.18921660745623, 0.18921624885030672, 0.18768896116489747, 0.18768867726854152, 0.2584707178406037, 0.19153599585854886, 0.2950740726889516, 0.29277824768417604, 0.49725244641701793, 0.2525057864477861, 0.11572049530847674, 0.11572048783752001, 0.11572048783752001, 0.11572048783752001, 0.11572047289560654, 0.11572045048273633, 0.11572045048273633, 0.11572045048273633, 0.2799459530925634, 0.2718094835312197, 0.24432874959136938, 0.2321903724032503, 0.2544768639051891, 0.21513707690764122, 0.16377551941469978, 0.1254235722005279, 0.1308758764259922, 29.725244361279753, 52.884710390681654, 16.612644303584425, 12.751812133683732, 15.567586438213072, 9.660387495828532, 11.361481978053655, 8.86224905707463, 8.108128781309617, 7.335737669827309, 6.565333697525175, 103.7369786554364, 5.7791289385926286, 5.769311258983356, 10.373452774412653, 5.022250590196641, 5.01707414047673, 14.855583306253346, 5.016554868793692, 4.249833323752411, 4.24983172893766, 4.24983140997471, 4.249832685826511, 4.2498301341229086, 4.249827263456356, 4.2498266255304555, 4.2498231169380025, 4.249816418716047, 4.249815142864246, 4.248579480394905, 6.546519348940623, 10.38441489308749, 7.846342491580139, 11.198877217710246, 11.714697721625871, 9.55637176396819, 7.394157010020833, 14.334845669496378, 6.519293947357483, 7.2612158040524175, 18.251898249011443, 10.94058102058261, 58.58332797721925, 35.94784917911165, 36.837495536594055, 16.346616444542274, 28.35022825481798, 58.67486779224278, 28.177184475038175, 10.889541845132404, 56.45728425975827, 332.94451002282966, 65.14790190499689, 48.90506834936125, 197.78462839278868, 52.99194318285841, 141.10394248266218, 30.503988576805515, 39.91974679999952, 73.41368641751353, 47.33510719110242, 40.90745512691256, 45.63708113245889, 37.82362946238456, 23.790106816155273, 36.88392633533878, 50.735272654596166, 35.90215837441155, 35.158683806074706, 38.164133894462665, 28.524045200789235, 27.096678343225754, 30.488879939777185, 33.2137140796295, 30.592573519057755, 2.0790759515080963, 1.7403055054597591, 1.4805968869670108, 1.2130160695065728, 1.2123807088221332, 1.2099920996943918, 1.48233892316294, 1.202753125744976, 1.188405053044875, 1.184570597922627, 1.1815367506544274, 0.9427981715078717, 0.9421642123543535, 0.9384055733810052, 0.9384054399018698, 0.9371503355918305, 0.9371502021126952, 0.9369431759737107, 0.9355049382899212, 0.9314819438889398, 0.9309746564349034, 0.9300801460091108, 0.925026425724675, 1.4632851770239237, 0.9381368131419044, 2.468417103663774, 0.6740634269220176, 0.6731127217802272, 0.6718131689181043, 2.014330962534928, 1.6612571592968446, 0.9304061020577247, 0.942542025047065, 2.098970749679183, 1.4633404373859735, 2.7839689875907654, 2.4796838105234777, 1.8337425019799323, 1.3625903859962452, 3.852641120527786, 2.5784335435903043, 2.8412499567922564, 1.5090220697223777, 2.91941213497534, 3.325680176726786, 1.8445733994625988, 1.5489016310018018, 1.8066674606789996, 2.0125467469322165, 2.0805926749234933, 1.8822549598196132, 1.868837770609698, 1.4882240182421307, 1.3922785483306392, 1.405738050426472, 1.3718894769212164, 0.10786339271973552, 0.027861011211007, 0.02786092498736907, 0.027860914209414327, 0.027860847745360087, 0.027860840560056926, 0.027860960913884875, 0.027322047009867022, 0.025695633879758564, 0.04700263548005724, 0.019821801233216165, 0.010020315718657285, 0.010020315718657285, 0.010020315718657285, 0.010020315718657285, 0.010020315718657285, 0.010020315718657285, 0.010020315718657285, 0.010020315718657285, 0.010020315718657285, 0.010020315718657285, 0.010020315718657285, 0.010020315718657285, 0.010020315718657285, 0.010020315718657285, 0.010020315718657285, 0.010020315718657285, 0.010020315718657285, 0.010020315718657285, 0.010020315718657285, 0.01628107604226435, 0.016267795805696768, 0.016255877184078223, 0.01527034100249582, 0.013219855770631164, 0.01266924060041539, 0.012043645893550189, 0.011951109068626512, 0.01199584476610779, 0.011805846489106365, 0.01258124937790403, 0.011941474475250314, 0.011658580108167154, 0.011717982805726116, 0.012188135154817618, 0.011447224415682127, 0.011509965584722334, 0.011535726692880824, 0.011032874927265852, 0.011103610644235727, 0.9869188108866276, 0.9814548452752508, 0.7542870904460649, 0.6313907843687308, 0.5162085817255989, 0.405594854753078, 0.405594854753078, 0.5058459282385783, 0.398796103996035, 0.9525030318281547, 0.2890385581922561, 0.28725049521606927, 0.28724806446161555, 0.2863777386169569, 0.2863777386169569, 0.2863777386169569, 0.283650779370473, 0.28365070992034574, 0.28254849010079836, 0.2825483743505863, 0.2825483280505014, 0.2892068358505836, 0.2793137578239449, 0.27294096784737054, 0.2686871475532883, 0.26868686975277933, 0.26868670770248243, 0.5162777077522553, 0.1730138213303869, 0.1730138213303869, 0.3835838175732517, 0.5772847830327557, 0.4921658273731493, 0.6438890755687835, 0.5602920499977407, 0.3706179186664226, 0.38171433589788517, 0.4458582419258583, 0.3483174596563018, 0.5243270701007373, 0.347630204347075, 0.32106948933108015, 0.29931428327000165, 0.28925739554322183, 0.2868371280586754, 372.9106026191977, 116.3347225077621, 74.52450075077031, 68.09520532228692, 77.8454233489908, 53.077381285965586, 63.30809415115649, 61.11497809509586, 45.71206735863791, 37.398606271897044, 48.833671873660464, 33.66583424463696, 29.19626508562196, 31.679110364287595, 34.36222707065003, 61.16859566348142, 33.57177092074873, 28.1098438268767, 37.006369488018926, 28.867778033885482, 27.137169922880332, 59.10827082450212, 24.446986032298028, 70.55385775722043, 50.10932971266637, 24.419394308178642, 25.83921902084657, 48.25693990160665, 22.571271519718927, 180.46608720280264, 180.6656724066814, 341.6414557198323, 69.10493991798562, 47.2518983399386, 287.9359033086349, 200.43088953220936, 1823.7175561531499, 409.862898591462, 799.6434801760628, 930.7914813615558, 170.23753893623234, 132.62054538839553, 74.66934924272138, 77.83378978278724, 111.67541016029865, 75.49050124327462, 223.75677006701346, 338.46470920633186, 200.96245968708493, 172.57810560811777, 145.01391334097312, 105.0097083237411, 158.4557299658556, 155.84713992944808, 150.06620626524497, 162.47792264527902, 126.86855286830296, 168.04160429643593, 184.9654495287895, 161.40966098730203, 127.14552017010428, 132.929779026231, 123.20178728238473, 129.26596097885997, 131.91345852409083, 148.181347474876, 136.0336752823253, 135.50128534329124, 143.1516584868382], \"Total\": [2157.0, 1129.0, 120.0, 130.0, 199.0, 941.0, 77.0, 67.0, 374.0, 208.0, 150.0, 95.0, 55.0, 41.0, 54.0, 74.0, 169.0, 57.0, 181.0, 71.0, 141.0, 68.0, 65.0, 412.0, 79.0, 122.0, 74.0, 63.0, 64.0, 17.0, 2.534958411622437, 2.33487813341741, 2.689530776083268, 2.0499011197896375, 2.109004052680676, 2.128791791194829, 2.178294146254876, 1.8781574330141122, 1.8781572221730718, 1.887090159564189, 1.8898258288789411, 3.038242195131285, 1.9475989378076943, 1.950587917515229, 1.951070515026724, 1.951087723062154, 2.155508179413576, 1.7132846317272574, 2.9932500266060442, 1.7169449265353025, 1.7224941286150552, 1.7274001944697444, 1.728521983034494, 1.7287090512468664, 1.7304275642983695, 3.108109467125876, 1.7856321165951559, 1.7856388978853657, 1.7891141982058945, 1.7891149880451005, 13.893292329036283, 7.697288491713797, 3.381782529128344, 8.253059397556319, 5.0621063637686365, 5.220846935461805, 3.8326862563787407, 3.4693131427680637, 8.58813130156531, 8.54929042968074, 12.716008858759746, 23.96763118493966, 27.527505752731045, 23.911830113615558, 2.61061399153089, 2.0570489172848605, 2.0048433698629, 4.335429480407136, 1.8598539594668773, 2.0635621627677123, 1.729524675811922, 1.9023751426974123, 1.9025462013131307, 1.6067269612238027, 1.6158197142695587, 1.6158197259385796, 1.6158197387337978, 1.6158198299909916, 1.6216093778155642, 1.6278459843515962, 1.6278460010364881, 1.664727101917749, 1.6647273018845739, 1.664727440963877, 1.6743314390022952, 1.7143330229876264, 1.7888639417529548, 1.8124071058733375, 1.8127987152177498, 1.990401218356336, 1.8348658290419284, 3.0762209652452333, 2.155508179413576, 1.496920670506447, 5.475927551289095, 12.274134954238907, 2.596229558012311, 2.59847618549012, 2.8481082392812054, 19.12578095023438, 74.83323225791739, 5.284697887445363, 8.913877817897479, 3.971314262386996, 36.03982334287156, 9.046007517688416, 4.318434797301306, 2.9600807669460987, 5.325572700653085, 2.4057420238584415, 2.1780200408599963, 2.1871360249941207, 2.6844816341758717, 2.2050116417299943, 2.2042491749915607, 2.228138585100549, 2.320927688638756, 1.988786672390145, 1.9928368398041922, 1.996095946306574, 2.0007379399828213, 2.0061022196136555, 2.0106518078809676, 2.0191593027898156, 2.019159323210186, 2.021127597276992, 2.053516355966506, 2.551287451273146, 2.962055498945684, 2.9791433813945494, 1.7872562397371539, 1.7944216726643973, 1.7944216726643973, 1.794421631924874, 1.7944216361545346, 1.7963726628299423, 4.6650901993391845, 7.508718555804917, 8.273861838450612, 14.576984936683901, 4.149560351114172, 11.364338748041916, 5.285367086173249, 11.112881523413249, 4.319940530597073, 12.251920166495236, 13.128834719086774, 6.298987311726505, 43.91723859740725, 2.38469793869797, 1.8844459049273596, 2.282327574665711, 1.7606399391321803, 1.7767981796084986, 1.7770927500641371, 1.6368266360842252, 1.6418162785351709, 1.6471450788764874, 1.6531732003500643, 1.6657891923926227, 1.665789264354013, 1.665789269785991, 1.6797901275386269, 1.6921276768478097, 1.6921276768478097, 2.8218836403726155, 8.690402724423567, 1.5129697675834208, 1.5129697675834208, 1.5129697675834208, 1.5129697675834208, 1.5129697675834208, 1.5129697675834208, 1.5129697675834208, 1.5129697675834208, 1.5129697675834208, 1.5129697675834208, 1.5129697675834208, 1.5129697675834208, 5.434558070681729, 17.914729459132534, 2.6510681248984853, 2.611295487845458, 2.6918616474097656, 15.292291694265675, 2.70030098898016, 2.919297177937866, 6.4119649332989255, 3.1863771015732003, 3.2202224490036264, 11.733250459489444, 6.560694076722437, 10.391745409407653, 20.399208402030695, 55.68436239079521, 8.125643335488036, 17.999030521550612, 11.776162251713671, 12.640610661319375, 15.334545760391537, 4.72663899459915, 2.2670257744292477, 2.0219120140368756, 1.7188415512249025, 1.738067555603223, 1.7842253577867098, 2.9643145044903814, 1.9304880881510016, 1.5620754382136575, 1.5620768403183043, 1.5810872206741262, 1.6123212125959299, 1.6123218303646158, 1.6123269966353488, 1.6123309068635043, 1.616925893082095, 1.6169286675351144, 2.4896400123779148, 1.8825045990938682, 3.243461702437613, 3.2688312804964426, 5.844510283249152, 2.998515521522195, 1.48321670320898, 1.4832167317187184, 1.4832168396608039, 1.4832168563456958, 1.4832170046223663, 1.4832170901515815, 1.4832171207002987, 1.4832171261322766, 4.060625806278045, 3.9706432486756413, 3.7462053707112286, 5.5840797239290065, 10.650902543666843, 13.615574784277863, 5.827260389155014, 3.665496117537664, 10.374306650498768, 30.76195941533857, 54.859463623330385, 17.618044309809935, 13.752878024211252, 16.896698080065015, 10.661078166374972, 12.585140926048785, 9.892049871201845, 9.116221924543025, 8.343190292072078, 7.566356501266364, 120.37307658131891, 6.799067573305007, 6.800689094655912, 12.251920166495236, 6.023011506421904, 6.024341810648257, 17.914729459132534, 6.19092822525275, 5.250521328398857, 5.250519678795711, 5.250519397856607, 5.2505211325835415, 5.250518020516474, 5.250515578186881, 5.250515131965924, 5.250511046562321, 5.250506172393573, 5.250507496135606, 5.250704329724036, 8.119795577382966, 13.283344295505916, 9.948455778742266, 14.576984936683901, 15.385050457646921, 12.493418487663453, 9.48673936155509, 20.399208402030695, 8.501246728677973, 9.652875147561366, 28.23235015973883, 15.761285033119712, 130.6836526602163, 74.64890397842836, 77.07271112824341, 27.215543966351717, 56.81878408076423, 150.8717336437631, 59.55819182740924, 16.34184331661205, 169.80596902982035, 2157.6807680881416, 208.91060025005152, 141.6274143323311, 1129.2441556564506, 181.0721577811699, 941.3409002971046, 77.70624029758287, 122.17872437954738, 412.77249481683157, 199.27081581150168, 170.2473598550545, 231.27119001251816, 174.45623496153962, 63.48769039413667, 172.95581015049626, 461.238734741698, 204.55308719061082, 197.2034097085387, 262.5300900028542, 109.63010706672918, 101.64921046591343, 163.0015759647925, 234.77473460458734, 193.65148552151757, 3.587575082963175, 3.045795261149139, 2.7508957829321017, 2.4745217447238232, 2.4759989328941816, 2.4815622950689944, 3.0762209652452333, 2.497790815234632, 2.5324744338153016, 2.541608448126513, 2.5488346542359106, 2.204283769497225, 2.2057569915102504, 2.2133837502494793, 2.213383904615905, 2.217456449335615, 2.217456340960697, 2.217935533024346, 2.2213121800219437, 2.2307561553886224, 2.231957617568455, 2.2340600269690953, 2.245963267298656, 3.567418243209282, 2.3797135127891154, 6.8218672281599915, 1.9306038887266952, 1.9328110584887257, 1.935829953112957, 5.810510026549065, 4.934066094162111, 2.778148562985609, 2.9793773376098396, 9.410114204782957, 6.085796504458664, 22.31277322456137, 23.911830113615558, 12.260194744796387, 6.518638192639608, 130.6836526602163, 41.68882077923301, 67.59026695297621, 9.652875147561366, 77.07271112824341, 199.27081581150168, 26.61874040121564, 14.092608032838914, 35.298797345762054, 71.12370899980297, 95.86585448170325, 68.75119438233322, 65.87655290716404, 20.399208402030695, 17.23859068590958, 35.49857357240111, 34.45779862714045, 1.5914790475788214, 1.5041812508865113, 1.5041852382607734, 1.5041856874525084, 1.50418875908828, 1.504189003767843, 2.266040018312326, 2.49440200153687, 2.374304781942383, 4.504804232784017, 2.7478437645995513, 1.48321670320898, 1.4832167317187184, 1.4832168396608039, 1.4832168563456958, 1.4832170046223663, 1.4832170901515815, 1.4832171207002987, 1.4832171261322766, 1.483217192661689, 1.483217285661861, 1.4832174485844447, 1.4832175732114221, 1.483217865410873, 1.483217865410873, 1.4832179013915683, 1.496920670506447, 1.496920670506447, 1.496920670506447, 1.496920670506447, 2.953686084269406, 2.95428591183207, 2.9548177120062005, 3.3007602431842695, 4.9241249376705, 4.540527543627607, 4.892096689275582, 5.275791065868369, 5.7216035051393375, 5.446689514584998, 10.196745713178867, 6.5497677779511365, 5.7081960639659775, 6.20949710898309, 9.322102175322922, 5.955070341597368, 6.821110463806957, 9.046007517688416, 9.68938168059925, 28.80668313617084, 2.329198990921609, 2.3662054462175544, 2.0965598182606717, 2.0174823753685156, 1.9008125068803583, 1.7458867592751073, 1.7458868672171928, 2.236791185814812, 1.7846257832109942, 4.8160682768894105, 1.6311829626407808, 1.6432468759976757, 1.6432571857489986, 1.6491482184522583, 1.6491482904136487, 1.6491484037877124, 1.6676734247182763, 1.6676741629597904, 1.6679064882261552, 1.6679069752422162, 1.6679074172657338, 1.749238457553191, 1.697283269454638, 1.7220407174543566, 1.7704166563143053, 1.7704185373555057, 1.770419598648844, 4.318434797301306, 1.512918006861733, 1.512918006861733, 3.4127563233001474, 5.285367086173249, 4.847732135934708, 14.315562137235608, 12.67030530380412, 5.13547445898104, 5.836734580346352, 11.862557566216783, 5.0621063637686365, 57.428033440750006, 11.067735373806867, 5.679514102812731, 12.640610661319375, 2.674703125502754, 3.2132573180369755, 374.8965433604167, 117.27387230082877, 75.49011164239849, 69.03733047817475, 79.097127045308, 54.073172829298294, 64.5405002120008, 62.44634717513672, 46.7105326769789, 38.359532565592595, 50.32905251935042, 34.716613379167, 30.123407629708346, 32.68937883751293, 35.46156469402098, 63.135658983008156, 34.722641353609, 29.08944296408051, 38.31035140943474, 29.89194168383057, 28.11821493538525, 61.35182755352591, 25.396463721334886, 73.30358117695678, 52.0710027802946, 25.37757478442765, 26.89217627692739, 50.27586765410129, 23.533584171583882, 188.16365120471448, 189.0022768609035, 361.9374745654819, 72.23345903335156, 49.29770635502314, 308.9609771370726, 214.71151673994717, 2157.6807680881416, 461.238734741698, 941.3409002971046, 1129.2441556564506, 189.6325525735335, 146.2427108290519, 80.11947966729002, 83.77621845754719, 123.54774174425711, 81.09930119219393, 262.5300900028542, 412.77249481683157, 234.77473460458734, 199.94611831068516, 165.98187707256918, 116.7673928372989, 185.99417875121506, 183.8471853632815, 176.12156326095888, 193.65148552151757, 146.72150756631274, 204.55308719061082, 231.27119001251816, 197.2034097085387, 149.05461927164964, 158.47685624722405, 145.90896964597803, 156.36343909965396, 163.0015759647925, 199.27081581150168, 174.45623496153962, 172.95581015049626, 208.91060025005152], \"Category\": [\"Default\", \"Default\", \"Default\", \"Default\", \"Default\", \"Default\", \"Default\", \"Default\", \"Default\", \"Default\", \"Default\", \"Default\", \"Default\", \"Default\", \"Default\", \"Default\", \"Default\", \"Default\", \"Default\", \"Default\", \"Default\", \"Default\", \"Default\", \"Default\", \"Default\", \"Default\", \"Default\", \"Default\", \"Default\", \"Default\", \"Topic1\", \"Topic1\", \"Topic1\", \"Topic1\", \"Topic1\", \"Topic1\", \"Topic1\", \"Topic1\", \"Topic1\", \"Topic1\", \"Topic1\", \"Topic1\", \"Topic1\", \"Topic1\", \"Topic1\", \"Topic1\", \"Topic1\", \"Topic1\", \"Topic1\", \"Topic1\", \"Topic1\", \"Topic1\", \"Topic1\", \"Topic1\", \"Topic1\", \"Topic1\", \"Topic1\", \"Topic1\", \"Topic1\", \"Topic1\", \"Topic1\", \"Topic1\", \"Topic1\", \"Topic1\", \"Topic1\", \"Topic1\", \"Topic1\", \"Topic1\", \"Topic1\", \"Topic1\", \"Topic1\", \"Topic1\", \"Topic1\", \"Topic1\", \"Topic2\", \"Topic2\", \"Topic2\", \"Topic2\", \"Topic2\", \"Topic2\", \"Topic2\", \"Topic2\", \"Topic2\", \"Topic2\", \"Topic2\", \"Topic2\", \"Topic2\", \"Topic2\", \"Topic2\", \"Topic2\", \"Topic2\", \"Topic2\", \"Topic2\", \"Topic2\", \"Topic2\", \"Topic2\", \"Topic2\", \"Topic2\", \"Topic2\", \"Topic2\", \"Topic2\", \"Topic2\", \"Topic2\", \"Topic2\", \"Topic2\", \"Topic2\", \"Topic2\", \"Topic2\", \"Topic2\", \"Topic2\", \"Topic2\", \"Topic2\", \"Topic2\", \"Topic2\", \"Topic2\", \"Topic2\", \"Topic3\", \"Topic3\", \"Topic3\", \"Topic3\", \"Topic3\", \"Topic3\", \"Topic3\", \"Topic3\", \"Topic3\", \"Topic3\", \"Topic3\", \"Topic3\", \"Topic3\", \"Topic3\", \"Topic3\", \"Topic3\", \"Topic3\", \"Topic3\", \"Topic3\", \"Topic3\", \"Topic3\", \"Topic3\", \"Topic3\", \"Topic3\", \"Topic3\", \"Topic3\", \"Topic3\", \"Topic3\", \"Topic3\", \"Topic3\", \"Topic3\", \"Topic3\", \"Topic3\", \"Topic3\", \"Topic3\", \"Topic3\", \"Topic3\", \"Topic3\", \"Topic3\", \"Topic3\", \"Topic3\", \"Topic3\", \"Topic3\", \"Topic4\", \"Topic4\", \"Topic4\", \"Topic4\", \"Topic4\", \"Topic4\", \"Topic4\", \"Topic4\", \"Topic4\", \"Topic4\", \"Topic4\", \"Topic4\", \"Topic4\", \"Topic4\", \"Topic4\", \"Topic4\", \"Topic4\", \"Topic4\", \"Topic4\", \"Topic4\", \"Topic4\", \"Topic4\", \"Topic4\", \"Topic4\", \"Topic4\", \"Topic4\", \"Topic4\", \"Topic4\", \"Topic4\", \"Topic4\", \"Topic4\", \"Topic4\", \"Topic4\", \"Topic4\", \"Topic4\", \"Topic4\", \"Topic4\", \"Topic4\", \"Topic4\", \"Topic4\", \"Topic4\", \"Topic4\", \"Topic4\", \"Topic4\", \"Topic4\", \"Topic4\", \"Topic4\", \"Topic4\", \"Topic4\", \"Topic4\", \"Topic4\", \"Topic4\", \"Topic5\", \"Topic5\", \"Topic5\", \"Topic5\", \"Topic5\", \"Topic5\", \"Topic5\", \"Topic5\", \"Topic5\", \"Topic5\", \"Topic5\", \"Topic5\", \"Topic5\", \"Topic5\", \"Topic5\", \"Topic5\", \"Topic5\", \"Topic5\", \"Topic5\", \"Topic5\", \"Topic5\", \"Topic5\", \"Topic5\", \"Topic5\", \"Topic5\", \"Topic5\", \"Topic5\", \"Topic5\", \"Topic5\", \"Topic5\", \"Topic5\", \"Topic5\", \"Topic5\", \"Topic5\", \"Topic5\", \"Topic5\", \"Topic5\", \"Topic5\", \"Topic5\", \"Topic6\", \"Topic6\", \"Topic6\", \"Topic6\", \"Topic6\", \"Topic6\", \"Topic6\", \"Topic6\", \"Topic6\", \"Topic6\", \"Topic6\", \"Topic6\", \"Topic6\", \"Topic6\", \"Topic6\", \"Topic6\", \"Topic6\", \"Topic6\", \"Topic6\", \"Topic6\", \"Topic6\", \"Topic6\", \"Topic6\", \"Topic6\", \"Topic6\", \"Topic6\", \"Topic6\", \"Topic6\", \"Topic6\", \"Topic6\", \"Topic6\", \"Topic6\", \"Topic6\", \"Topic6\", \"Topic6\", \"Topic6\", \"Topic6\", \"Topic6\", \"Topic6\", \"Topic6\", \"Topic6\", \"Topic6\", \"Topic6\", \"Topic6\", \"Topic6\", \"Topic6\", \"Topic6\", \"Topic6\", \"Topic6\", \"Topic6\", \"Topic6\", \"Topic6\", \"Topic6\", \"Topic6\", \"Topic6\", \"Topic6\", \"Topic6\", \"Topic6\", \"Topic6\", \"Topic6\", \"Topic6\", \"Topic6\", \"Topic6\", \"Topic6\", \"Topic6\", \"Topic6\", \"Topic6\", \"Topic6\", \"Topic6\", \"Topic6\", \"Topic6\", \"Topic6\", \"Topic6\", \"Topic6\", \"Topic6\", \"Topic7\", \"Topic7\", \"Topic7\", \"Topic7\", \"Topic7\", \"Topic7\", \"Topic7\", \"Topic7\", \"Topic7\", \"Topic7\", \"Topic7\", \"Topic7\", \"Topic7\", \"Topic7\", \"Topic7\", \"Topic7\", \"Topic7\", \"Topic7\", \"Topic7\", \"Topic7\", \"Topic7\", \"Topic7\", \"Topic7\", \"Topic7\", \"Topic7\", \"Topic7\", \"Topic7\", \"Topic7\", \"Topic7\", \"Topic7\", \"Topic7\", \"Topic7\", \"Topic7\", \"Topic7\", \"Topic7\", \"Topic7\", \"Topic7\", \"Topic7\", \"Topic7\", \"Topic7\", \"Topic7\", \"Topic7\", \"Topic7\", \"Topic7\", \"Topic7\", \"Topic7\", \"Topic7\", \"Topic7\", \"Topic7\", \"Topic7\", \"Topic7\", \"Topic7\", \"Topic7\", \"Topic7\", \"Topic7\", \"Topic7\", \"Topic8\", \"Topic8\", \"Topic8\", \"Topic8\", \"Topic8\", \"Topic8\", \"Topic8\", \"Topic8\", \"Topic8\", \"Topic8\", \"Topic8\", \"Topic8\", \"Topic8\", \"Topic8\", \"Topic8\", \"Topic8\", \"Topic8\", \"Topic8\", \"Topic8\", \"Topic8\", \"Topic8\", \"Topic8\", \"Topic8\", \"Topic8\", \"Topic8\", \"Topic8\", \"Topic8\", \"Topic8\", \"Topic8\", \"Topic8\", \"Topic8\", \"Topic8\", \"Topic8\", \"Topic8\", \"Topic8\", \"Topic8\", \"Topic8\", \"Topic8\", \"Topic8\", \"Topic8\", \"Topic8\", \"Topic8\", \"Topic8\", \"Topic8\", \"Topic8\", \"Topic8\", \"Topic8\", \"Topic8\", \"Topic8\", \"Topic8\", \"Topic9\", \"Topic9\", \"Topic9\", \"Topic9\", \"Topic9\", \"Topic9\", \"Topic9\", \"Topic9\", \"Topic9\", \"Topic9\", \"Topic9\", \"Topic9\", \"Topic9\", \"Topic9\", \"Topic9\", \"Topic9\", \"Topic9\", \"Topic9\", \"Topic9\", \"Topic9\", \"Topic9\", \"Topic9\", \"Topic9\", \"Topic9\", \"Topic9\", \"Topic9\", \"Topic9\", \"Topic9\", \"Topic9\", \"Topic9\", \"Topic9\", \"Topic9\", \"Topic9\", \"Topic9\", \"Topic9\", \"Topic9\", \"Topic9\", \"Topic9\", \"Topic9\", \"Topic9\", \"Topic9\", \"Topic9\", \"Topic9\", \"Topic9\", \"Topic9\", \"Topic10\", \"Topic10\", \"Topic10\", \"Topic10\", \"Topic10\", \"Topic10\", \"Topic10\", \"Topic10\", \"Topic10\", \"Topic10\", \"Topic10\", \"Topic10\", \"Topic10\", \"Topic10\", \"Topic10\", \"Topic10\", \"Topic10\", \"Topic10\", \"Topic10\", \"Topic10\", \"Topic10\", \"Topic10\", \"Topic10\", \"Topic10\", \"Topic10\", \"Topic10\", \"Topic10\", \"Topic10\", \"Topic10\", \"Topic10\", \"Topic10\", \"Topic10\", \"Topic10\", \"Topic10\", \"Topic10\", \"Topic10\", \"Topic10\", \"Topic10\", \"Topic10\", \"Topic10\", \"Topic10\", \"Topic10\", \"Topic10\", \"Topic10\", \"Topic10\", \"Topic10\", \"Topic10\", \"Topic10\", \"Topic10\", \"Topic10\", \"Topic10\", \"Topic10\", \"Topic10\", \"Topic10\", \"Topic10\", \"Topic10\", \"Topic10\", \"Topic10\", \"Topic10\", \"Topic10\", \"Topic10\", \"Topic10\", \"Topic10\", \"Topic10\", \"Topic10\", \"Topic10\", \"Topic10\", \"Topic10\", \"Topic10\"], \"logprob\": [30.0, 29.0, 28.0, 27.0, 26.0, 25.0, 24.0, 23.0, 22.0, 21.0, 20.0, 19.0, 18.0, 17.0, 16.0, 15.0, 14.0, 13.0, 12.0, 11.0, 10.0, 9.0, 8.0, 7.0, 6.0, 5.0, 4.0, 3.0, 2.0, 1.0, -6.1773, -6.5196, -6.3869, -6.6901, -6.7079, -6.7139, -6.729, -6.9389, -6.9389, -6.9424, -6.9434, -6.5018, -6.9659, -6.9671, -6.9673, -6.9673, -6.9461, -7.2746, -6.7186, -7.2766, -7.2796, -7.2823, -7.2829, -7.283, -7.2839, -6.7301, -7.3142, -7.3143, -7.3162, -7.3162, -5.3619, -5.9471, -6.7785, -6.327, -6.7638, -6.8116, -6.9785, -7.0373, -6.7421, -6.7993, -6.8626, -6.768, -6.8646, -6.8788, -5.6908, -6.2618, -6.4425, -5.78, -6.6368, -6.6951, -6.8834, -6.9471, -6.9472, -7.2152, -7.2199, -7.2199, -7.2199, -7.2199, -7.2228, -7.226, -7.226, -7.2449, -7.2449, -7.2449, -7.2499, -7.2707, -7.3104, -7.3232, -7.3235, -7.2495, -7.3357, -6.8787, -7.2351, -7.7262, -6.5111, -6.4853, -7.2487, -7.2495, -7.232, -6.8787, -6.7912, -7.2152, -7.2118, -7.2315, -7.188, -7.2152, -5.7215, -6.1007, -5.7265, -6.5451, -6.7379, -6.7408, -6.5414, -6.7465, -6.7481, -6.7537, -6.7833, -6.9926, -6.9942, -6.9956, -6.9974, -7.0011, -7.0015, -7.0049, -7.0049, -7.0058, -7.0231, -6.8601, -6.7418, -6.7412, -7.328, -7.3321, -7.3321, -7.3321, -7.3321, -7.3333, -6.4576, -6.0374, -6.0315, -5.801, -6.7509, -6.1621, -6.7111, -6.5, -6.8225, -6.7431, -6.7494, -6.8731, -6.7898, -6.0092, -6.6447, -6.4563, -6.8962, -6.9022, -6.9023, -7.2331, -7.2357, -7.2384, -7.2416, -7.2481, -7.2481, -7.2481, -7.2554, -7.2684, -7.2684, -6.8984, -5.9799, -7.7447, -7.7447, -7.7447, -7.7447, -7.7447, -7.7447, -7.7447, -7.7447, -7.7447, -7.7447, -7.7447, -7.7447, -6.5181, -5.4745, -7.244, -7.2591, -7.2332, -5.9842, -7.3057, -7.2608, -6.711, -7.2357, -7.2385, -6.5175, -6.9011, -6.7388, -6.5298, -6.4695, -6.9988, -6.9824, -7.0886, -7.1069, -7.1717, -7.2331, -5.6548, -6.4162, -6.5962, -6.6014, -6.6139, -6.2599, -6.891, -7.188, -7.188, -7.1973, -7.2128, -7.2128, -7.2128, -7.2128, -7.2209, -7.2209, -6.9009, -7.2006, -6.7684, -6.7762, -6.2466, -6.9242, -7.7045, -7.7045, -7.7045, -7.7045, -7.7045, -7.7045, -7.7045, -7.7045, -6.8211, -6.8506, -6.9571, -7.0081, -6.9165, -7.0844, -7.3572, -7.624, -7.5814, -5.91, -5.3338, -6.4918, -6.7563, -6.5568, -7.0339, -6.8717, -7.1202, -7.2091, -7.3092, -7.4202, -4.6601, -7.5477, -7.5494, -6.9627, -7.6881, -7.6891, -6.6036, -7.6892, -7.8551, -7.8551, -7.8551, -7.8551, -7.8551, -7.8551, -7.8551, -7.8551, -7.8551, -7.8551, -7.8554, -7.423, -6.9617, -7.2419, -6.8861, -6.8411, -7.0448, -7.3013, -6.6393, -7.4272, -7.3194, -6.3977, -6.9095, -5.2315, -5.7199, -5.6954, -6.5079, -5.9573, -5.2299, -5.9634, -6.9142, -5.2685, -3.494, -5.1253, -5.4121, -4.0148, -5.3318, -4.3525, -5.8841, -5.6151, -5.0059, -5.4447, -5.5906, -5.4812, -5.669, -6.1327, -5.6942, -5.3753, -5.7212, -5.7421, -5.6601, -5.9512, -6.0025, -5.8846, -5.799, -5.8812, -6.3126, -6.4905, -6.6521, -6.8514, -6.852, -6.8539, -6.6509, -6.8599, -6.8719, -6.8752, -6.8777, -7.1034, -7.1041, -7.1081, -7.1081, -7.1094, -7.1094, -7.1097, -7.1112, -7.1155, -7.1161, -7.117, -7.1225, -6.6639, -7.1084, -6.141, -7.439, -7.4404, -7.4423, -6.3442, -6.537, -7.1167, -7.1037, -6.3031, -6.6638, -6.0207, -6.1364, -6.4382, -6.7351, -5.6958, -6.0974, -6.0003, -6.6331, -5.9732, -5.8429, -6.4323, -6.607, -6.4531, -6.3451, -6.3119, -6.4121, -6.4192, -6.647, -6.7136, -6.704, -6.7283, -6.3495, -7.7032, -7.7032, -7.7032, -7.7032, -7.7032, -7.7032, -7.7227, -7.7841, -7.1802, -8.0436, -8.7258, -8.7258, -8.7258, -8.7258, -8.7258, -8.7258, -8.7258, -8.7258, -8.7258, -8.7258, -8.7258, -8.7258, -8.7258, -8.7258, -8.7258, -8.7258, -8.7258, -8.7258, -8.7258, -8.2404, -8.2412, -8.2419, -8.3045, -8.4487, -8.4912, -8.5418, -8.5496, -8.5458, -8.5618, -8.4982, -8.5504, -8.5743, -8.5693, -8.5299, -8.5926, -8.5872, -8.5849, -8.6295, -8.6231, -5.9989, -6.0045, -6.2677, -6.4456, -6.647, -6.8881, -6.8881, -6.6673, -6.905, -6.0344, -7.2269, -7.2331, -7.2331, -7.2362, -7.2362, -7.2362, -7.2457, -7.2457, -7.2496, -7.2496, -7.2496, -7.2263, -7.2612, -7.2842, -7.2999, -7.2999, -7.2999, -6.6468, -7.7401, -7.7401, -6.9439, -6.5352, -6.6947, -6.426, -6.565, -6.9783, -6.9488, -6.7935, -7.0404, -6.6314, -7.0424, -7.1218, -7.192, -7.2262, -7.2346, -4.6643, -5.8291, -6.2745, -6.3647, -6.2309, -6.6139, -6.4376, -6.4728, -6.7632, -6.964, -6.6972, -7.0691, -7.2116, -7.1299, -7.0486, -6.472, -7.0719, -7.2495, -6.9745, -7.2229, -7.2847, -6.5062, -7.3891, -6.3292, -6.6714, -7.3902, -7.3337, -6.7091, -7.4689, -5.3901, -5.389, -4.7518, -6.35, -6.7301, -4.9229, -5.2851, -3.077, -4.5698, -3.9014, -3.7496, -5.4484, -5.6981, -6.2725, -6.231, -5.87, -6.2616, -5.175, -4.7612, -5.2825, -5.4348, -5.6088, -5.9316, -5.5201, -5.5367, -5.5745, -5.4951, -5.7425, -5.4614, -5.3654, -5.5017, -5.7403, -5.6958, -5.7718, -5.7237, -5.7035, -5.5872, -5.6727, -5.6766, -5.6217], \"loglift\": [30.0, 29.0, 28.0, 27.0, 26.0, 25.0, 24.0, 23.0, 22.0, 21.0, 20.0, 19.0, 18.0, 17.0, 16.0, 15.0, 14.0, 13.0, 12.0, 11.0, 10.0, 9.0, 8.0, 7.0, 6.0, 5.0, 4.0, 3.0, 2.0, 1.0, 3.7985, 3.5383, 3.5297, 3.4981, 3.4518, 3.4365, 3.3984, 3.3368, 3.3368, 3.3285, 3.326, 3.2929, 3.2734, 3.2707, 3.2703, 3.2703, 3.1918, 3.093, 3.091, 3.0888, 3.0826, 3.0771, 3.0758, 3.0756, 3.0736, 3.0418, 3.0119, 3.0119, 3.008, 3.008, 2.9126, 2.918, 2.9091, 2.4684, 2.5203, 2.4416, 2.5838, 2.6246, 2.0134, 1.9608, 1.5004, 0.9612, 0.7262, 0.8528, 4.2556, 3.9229, 3.7678, 3.6591, 3.6486, 3.4864, 3.4746, 3.3157, 3.3156, 3.2165, 3.2062, 3.2062, 3.2062, 3.2062, 3.1997, 3.1927, 3.1927, 3.1514, 3.1514, 3.1514, 3.1406, 3.0962, 3.014, 2.988, 2.9876, 2.9681, 2.9633, 2.9035, 2.9028, 2.7764, 2.6944, 1.9131, 2.7032, 2.7015, 2.6273, 1.0762, -0.2005, 2.0259, 1.5065, 2.2953, 0.1333, 1.4884, 3.7215, 3.7201, 3.5069, 3.483, 3.3896, 3.3825, 3.3771, 3.3688, 3.3674, 3.351, 3.2807, 3.2258, 3.2222, 3.2192, 3.215, 3.2086, 3.206, 3.1983, 3.1983, 3.1965, 3.1633, 3.1092, 3.0782, 3.0731, 2.9972, 2.9891, 2.9891, 2.9891, 2.9891, 2.9869, 2.9083, 2.8524, 2.7614, 2.4255, 2.7321, 2.3133, 2.5299, 1.9979, 2.6202, 1.6572, 1.5817, 2.1924, 0.3338, 4.0277, 3.6276, 3.6244, 3.444, 3.4289, 3.4286, 3.1801, 3.1745, 3.1685, 3.1617, 3.1475, 3.1475, 3.1475, 3.1318, 3.1116, 3.1116, 2.9702, 2.7638, 2.7472, 2.7472, 2.7472, 2.7472, 2.7472, 2.7472, 2.7472, 2.7472, 2.7472, 2.7472, 2.7472, 2.7472, 2.6951, 2.5458, 2.687, 2.687, 2.6825, 2.1944, 2.6069, 2.5738, 2.3367, 2.5114, 2.498, 1.926, 2.1237, 1.8261, 1.3606, 0.4167, 1.8121, 1.0333, 1.3513, 1.2622, 1.0041, 2.1196, 4.4327, 3.7857, 3.7681, 3.7518, 3.713, 3.5594, 3.3572, 3.2719, 3.2719, 3.2505, 3.2155, 3.2155, 3.2155, 3.2155, 3.2045, 3.2045, 3.0929, 3.0727, 2.9609, 2.9453, 2.8939, 2.8836, 2.8072, 2.8072, 2.8072, 2.8072, 2.8072, 2.8072, 2.8072, 2.8072, 2.6835, 2.6764, 2.628, 2.1779, 1.6238, 1.2103, 1.7862, 1.983, 0.9852, 1.5697, 1.5673, 1.5452, 1.5284, 1.522, 1.5054, 1.5017, 1.494, 1.4868, 1.4753, 1.4621, 1.4552, 1.4414, 1.4395, 1.4375, 1.4223, 1.421, 1.4167, 1.3936, 1.3925, 1.3925, 1.3925, 1.3925, 1.3925, 1.3925, 1.3925, 1.3925, 1.3925, 1.3925, 1.3922, 1.3886, 1.3578, 1.3666, 1.3403, 1.3314, 1.336, 1.3548, 1.2512, 1.3385, 1.3193, 1.1678, 1.2389, 0.8016, 0.8733, 0.8657, 1.0942, 0.9087, 0.6596, 0.8555, 1.1981, 0.5028, -0.2648, 0.4387, 0.5407, -0.1381, 0.3752, -0.2938, 0.6689, 0.4854, -0.1228, 0.1666, 0.178, -0.0189, 0.0752, 0.6224, 0.0587, -0.6033, -0.1361, -0.1204, -0.3245, 0.2576, 0.2819, -0.0724, -0.3517, -0.2413, 3.3158, 3.3017, 3.2419, 3.1485, 3.1473, 3.1431, 3.1313, 3.1306, 3.1048, 3.098, 3.0926, 3.0121, 3.0108, 3.0033, 3.0033, 3.0001, 3.0001, 2.9997, 2.9966, 2.9881, 2.987, 2.9851, 2.9743, 2.9702, 2.9306, 2.8448, 2.8091, 2.8066, 2.8031, 2.802, 2.7728, 2.7675, 2.7105, 2.3611, 2.4362, 1.7801, 1.5952, 1.9614, 2.2961, 0.3374, 1.0784, 0.6922, 2.0056, 0.588, -0.2316, 1.192, 1.6533, 0.889, 0.2964, 0.0311, 0.2634, 0.2989, 1.2435, 1.3452, 0.6325, 0.6379, 4.0918, 2.7945, 2.7945, 2.7945, 2.7945, 2.7945, 2.3847, 2.2692, 2.2572, 2.2206, 1.8515, 1.786, 1.786, 1.786, 1.786, 1.786, 1.786, 1.786, 1.786, 1.786, 1.786, 1.786, 1.786, 1.786, 1.786, 1.786, 1.7768, 1.7768, 1.7768, 1.7768, 1.5825, 1.5815, 1.5806, 1.4073, 0.8631, 0.9017, 0.7765, 0.6932, 0.6159, 0.6491, 0.0857, 0.4761, 0.5897, 0.5106, 0.1436, 0.5291, 0.3987, 0.1187, 0.0054, -1.0778, 4.0615, 4.0402, 3.8979, 3.7585, 3.6167, 3.4605, 3.4605, 3.4336, 3.4217, 3.2996, 3.1897, 3.1761, 3.1761, 3.1695, 3.1695, 3.1695, 3.1488, 3.1488, 3.1447, 3.1447, 3.1447, 3.1204, 3.1158, 3.0782, 3.0348, 3.0348, 3.0348, 2.7962, 2.7518, 2.7518, 2.7345, 2.7058, 2.6328, 1.8186, 1.8016, 2.2914, 2.1929, 1.6391, 2.2438, 0.224, 1.4596, 2.0472, 1.177, 2.6959, 2.5041, 0.315, 0.3123, 0.3075, 0.3066, 0.3044, 0.3017, 0.3011, 0.2988, 0.2987, 0.295, 0.2902, 0.2896, 0.2891, 0.2889, 0.2888, 0.2887, 0.2866, 0.2861, 0.2857, 0.2855, 0.2848, 0.2831, 0.2822, 0.2821, 0.2819, 0.2818, 0.2804, 0.2793, 0.2786, 0.2786, 0.2752, 0.2626, 0.2761, 0.2779, 0.2499, 0.2515, 0.1522, 0.2022, 0.1572, 0.1271, 0.2124, 0.2226, 0.2499, 0.2468, 0.2193, 0.2487, 0.1605, 0.1219, 0.1648, 0.1731, 0.1853, 0.2142, 0.1601, 0.1551, 0.1602, 0.1448, 0.1749, 0.1237, 0.0969, 0.12, 0.1614, 0.1445, 0.1512, 0.13, 0.1087, 0.0241, 0.0716, 0.0763, -0.0577]}, \"token.table\": {\"Topic\": [6, 7, 10, 3, 6, 10, 1, 3, 6, 10, 1, 6, 7, 10, 7, 10, 6, 7, 10, 6, 7, 10, 6, 10, 6, 10, 9, 6, 10, 10, 6, 10, 6, 10, 10, 10, 6, 10, 7, 6, 7, 10, 6, 7, 10, 6, 10, 6, 10, 6, 10, 6, 10, 10, 6, 10, 6, 7, 10, 6, 10, 10, 10, 6, 10, 4, 10, 10, 3, 6, 7, 10, 7, 10, 10, 1, 10, 7, 3, 10, 10, 10, 10, 2, 6, 10, 6, 7, 10, 1, 10, 6, 7, 10, 6, 7, 10, 6, 10, 6, 7, 10, 6, 10, 10, 10, 1, 10, 7, 10, 6, 10, 1, 10, 6, 10, 3, 10, 3, 10, 3, 6, 10, 6, 7, 10, 10, 10, 6, 6, 10, 6, 10, 6, 10, 6, 10, 10, 10, 6, 10, 6, 6, 7, 10, 6, 10, 7, 10, 4, 6, 10, 7, 6, 6, 10, 10, 3, 10, 6, 10, 10, 10, 3, 6, 10, 3, 10, 10, 7, 10, 10, 6, 7, 10, 6, 10, 6, 10, 6, 7, 10, 6, 7, 10, 6, 7, 10, 6, 10, 2, 6, 10, 6, 10, 6, 10, 3, 6, 10, 6, 10, 7, 1, 6, 10, 10, 6, 10, 10, 7, 7, 6, 10, 6, 4, 6, 10, 6, 10, 6, 10, 6, 10, 6, 7, 1, 6, 10, 1, 6, 7, 10, 7, 6, 10, 4, 6, 10, 7, 6, 10, 6, 10, 6, 10, 6, 10, 6, 10, 10, 10, 2, 1, 10, 7, 10, 3, 6, 10, 3, 6, 10, 3, 3, 7, 10, 1, 10, 10, 6, 10, 10, 7, 7, 10, 6, 10, 6, 10, 6, 10, 1, 6, 10, 3, 10, 6, 7, 10, 7, 10, 6, 10, 6, 10, 10, 6, 6, 7, 10, 9, 6, 10, 1, 10, 6, 6, 7, 9, 10, 6, 10, 6, 10, 6, 10, 6, 7, 10, 10, 3, 10, 4, 6, 10, 6, 10, 10, 6, 10, 6, 3, 10, 4, 6, 7, 10, 4, 6, 7, 10, 2, 10, 1, 10, 10, 6, 10, 6, 7, 10, 3, 10, 10, 3, 10, 7, 6, 10, 6, 10, 6, 10, 3, 6, 10, 9, 10, 6, 10, 6, 10, 6, 10, 3, 10, 10, 6, 10, 10, 6, 10, 6, 4, 6, 10, 6, 10, 6, 6, 10, 6, 10, 10, 6, 10, 10, 1, 10, 6, 6, 10, 1, 10, 10, 10, 7, 10, 10, 3, 10, 6, 10, 1, 10, 1, 10, 6, 4, 3, 9, 10, 3, 9, 10, 6, 10, 6, 10, 10, 9, 10, 9, 10, 1, 10, 6, 10, 6, 10, 10, 6, 10, 7, 6, 7, 10, 9, 6, 1, 6, 10, 3, 10, 6, 10, 6, 7, 10, 6, 10, 6, 10, 6, 10, 6, 10, 4, 10, 6, 7, 9, 10, 6, 10, 1, 4, 6, 10, 6, 10, 6, 10, 10, 3, 10, 6, 7, 10, 1, 10, 6, 7, 10, 6, 10, 7, 6, 1, 6, 10, 10, 1, 10, 10, 6, 7, 10, 4, 6, 10, 6, 10, 1, 6, 10, 3, 6, 10, 6, 3, 3, 6, 10, 3, 6, 10, 10, 6, 10, 2, 10, 10, 6, 10, 3, 6, 10, 2, 6, 10, 10, 1, 10, 10, 10, 10, 6, 10, 10, 6, 10, 1, 10, 6, 10, 6, 1, 6, 7, 10, 6, 6, 10, 3, 6, 10, 6, 9, 10, 1, 10, 10, 10, 6, 10, 7, 10, 7, 10, 3, 10, 7, 6, 10, 1, 7, 10, 3, 6, 10, 3, 6, 10, 6, 7, 10, 6, 10, 6, 10, 6, 10, 6, 10, 10, 6, 9, 10, 6, 10, 6, 10, 10, 6, 10, 6, 10, 6, 10, 6, 10, 6, 6, 10, 3, 10, 10, 10, 6, 10, 7, 10, 10, 6, 7, 10, 6, 10, 6, 10, 10, 3, 6, 10, 10, 3, 6, 10, 7, 6, 7, 10, 6, 7, 6, 7, 10, 5, 10, 10, 6, 6, 10, 7, 10, 6, 10, 6, 1, 10, 6, 10, 1, 10, 6, 7, 10, 10, 10, 6, 10, 6, 1, 10, 6, 10, 3, 6, 3, 10, 6, 10, 6, 7, 10, 10, 6, 6, 10], \"Freq\": [0.2530801648723053, 0.028120018319145033, 0.7170604671381984, 0.07616822219158524, 0.07616822219158524, 0.7616822219158524, 0.21593153940410156, 0.07197717980136718, 0.35988589900683593, 0.35988589900683593, 0.03632730146285733, 0.18163650731428663, 0.03632730146285733, 0.7265460292571465, 0.44827848959842453, 0.44827848959842453, 0.2254051059352902, 0.0751350353117634, 0.6762153178058705, 0.1160187649002394, 0.0580093824501197, 0.754121971851556, 0.6979126370016997, 0.2537864134551635, 0.39893835914957126, 0.6048420283880597, 0.47697184277318194, 0.30961727991444565, 0.6192345598288913, 0.6768607051032199, 0.026102605776508976, 0.9657964137308321, 0.5783519036148345, 0.38556793574322296, 0.6648101802104416, 0.9935076047480208, 0.1405602696371026, 0.8561398241532613, 0.40387739538768924, 0.49671430466869165, 0.14191837276248334, 0.35479593190620834, 0.4929911620260391, 0.13445213509801066, 0.3585390269280284, 0.05968280846352241, 0.9310518120309497, 0.8639805756708564, 0.13292008856474713, 0.8620906688215075, 0.12315580983164393, 0.9469305733098852, 0.05918316083186782, 0.8702111230797029, 0.16104363726223989, 0.6441745490489595, 0.23672047354290662, 0.044385088789294994, 0.7101614206287199, 0.3511102514321493, 0.3511102514321493, 0.5648378501701993, 0.5376766250435318, 0.30535433740608575, 0.6107086748121715, 0.4381491995716121, 0.4381491995716121, 0.989137629074266, 0.0734453018578927, 0.5875624148631416, 0.0734453018578927, 0.22033590557367813, 0.5165742984769537, 0.5953124641024568, 0.6771200266174189, 0.3718120680724421, 0.3718120680724421, 0.40297195117247586, 0.4156721668752135, 0.4156721668752135, 0.5996375204525557, 0.3848409331530517, 0.5648381887673359, 0.1826174635500042, 0.1826174635500042, 0.7304698542000168, 0.8076333334967505, 0.5574796216803051, 0.27873981084015254, 0.07864102731503876, 0.8650513004654263, 0.37802603703184157, 0.015751084876326732, 0.5985412253004158, 0.3316380175601058, 0.1105460058533686, 0.552730029266843, 0.042327532413207976, 0.9576604208488304, 0.2927009908616199, 0.005522660204936224, 0.7013778460269005, 0.08889331937505004, 0.9094470366832043, 0.5648387888994579, 0.5833172356776201, 0.19153980424280453, 0.7661592169712181, 0.4476155465512178, 0.4476155465512178, 0.3432144552390616, 0.5148216828585923, 0.4741574577483327, 0.4741574577483327, 0.7799779424210839, 0.19499448560527097, 0.4488051177278424, 0.4488051177278424, 0.4973511555210065, 0.4973511555210065, 0.17598912214268528, 0.35197824428537056, 0.43997280535671324, 0.18908762410301586, 0.029090403708156284, 0.7708956982661416, 0.6166251318758925, 0.9789112285999809, 0.877556521354763, 0.135036379941351, 0.8652331011056934, 0.39106066176259524, 0.6097895064772672, 0.42117591962305495, 0.42117591962305495, 0.12049508267252437, 0.8735893493758017, 0.9645581560915042, 0.9701611326134412, 0.061652812373200395, 0.924792185598006, 0.6276720978858862, 0.22536116792646896, 0.02817014599080862, 0.7042536497702154, 0.06473309407979658, 0.9321565547490708, 0.3923361597183635, 0.3923361597183635, 0.11506946590514076, 0.23013893181028153, 0.5753473295257038, 0.5179726436061087, 0.6347004718210809, 0.7554174265213707, 0.2518058088404569, 0.5256586766488558, 0.4947733143356568, 0.4947733143356568, 0.12949703363300502, 0.865585435336402, 0.6118394705572742, 0.67469224232799, 0.24172509029647102, 0.3625876354447065, 0.24172509029647102, 0.37554646465623054, 0.37554646465623054, 0.6006989344880386, 0.44524325689562827, 0.44524325689562827, 0.8396206447930582, 0.28031476317741505, 0.28031476317741505, 0.28031476317741505, 0.11111709586832239, 0.8333782190124179, 0.22198522917431848, 0.6659556875229555, 0.4062940918394304, 0.029021006559959314, 0.551399124639227, 0.46021882352473414, 0.15340627450824473, 0.30681254901648947, 0.45147192322059443, 0.03060826598105725, 0.5203405216779732, 0.17748171825086115, 0.8164159039539614, 0.0814721366294451, 0.0814721366294451, 0.896193502923896, 0.10414250005177023, 0.8678541670980852, 0.1807054408558811, 0.7228217634235244, 0.33566695924917045, 0.33566695924917045, 0.33566695924917045, 0.3459782149592922, 0.649591750535814, 0.4041184936572898, 0.2598317579174821, 0.5196635158349642, 0.12991587895874104, 0.6648115377919875, 0.020284919399665053, 0.9533912117842575, 0.5338735605998808, 0.4517969060471382, 0.4517969375564838, 0.2645258750166905, 0.738848133667308, 0.9379914342566203, 0.09623022510681405, 0.09623022510681405, 0.7698418008545124, 0.6844029364554853, 0.17110073411387133, 0.06520376835191577, 0.9314824050273681, 0.14516583358296967, 0.8494889520781188, 0.3543732227980722, 0.5173811457711261, 0.29570204215874, 0.29570204215874, 0.29570204215874, 0.529916387371202, 0.25496619365930134, 0.05665915414651141, 0.679909849758137, 0.4533590979645107, 0.22436924095867192, 0.6731077228760157, 0.11163997784964841, 0.8372998338723631, 0.9450134579106084, 0.3250741774722548, 0.17599343277793578, 0.8213026862970336, 0.21781967270116442, 0.7795651444041675, 0.16627927954072186, 0.8250010407981969, 0.14978633134446595, 0.8498515253586721, 0.14686110068341857, 0.8485308039486406, 0.7278434188165949, 0.5024112680285613, 0.38305165116103207, 0.5324367886746865, 0.5312072015554935, 0.212537271756324, 0.637611815268972, 0.08004214386858519, 0.8004214386858518, 0.16008428773717037, 0.2663570335119059, 0.39953555026785886, 0.2663570335119059, 0.4591325980660617, 0.4984790855735081, 0.4003537821905491, 0.4003537821905491, 0.46975002634650764, 0.46975002634650764, 0.8184430985062077, 0.15775174111858942, 0.8392392627508958, 0.5891768439580004, 0.4509671431425929, 0.4509671651829489, 0.5590140069680614, 0.05525816309574097, 0.9449145889371706, 0.01989025842139642, 0.9547324042270281, 0.13042446977242148, 0.8477590535207397, 0.11696877164545497, 0.23393754329090993, 0.5848438582272748, 0.49525561876421786, 0.49525561876421786, 0.389447949936223, 0.1947239749681115, 0.389447949936223, 0.3948707187908109, 0.3948707187908109, 0.6210751063544765, 0.31053755317723825, 0.24082605471771576, 0.7577210014289105, 0.9602316527576565, 0.7618300108588203, 0.32863405776626464, 0.16431702888313232, 0.32863405776626464, 0.49566727928284326, 0.5057931197811271, 0.4214942664842725, 0.26091360813468617, 0.5218272162693723, 0.8822635348401523, 0.20763825230606517, 0.20763825230606517, 0.20763825230606517, 0.41527650461213034, 0.3273892423016324, 0.6711479467183464, 0.17685286911472592, 0.8188530104216077, 0.33966923302351054, 0.5944211577911435, 0.7618299461138421, 0.44803718140912663, 0.44803718140912663, 0.5517524163083293, 0.15875567777987912, 0.7937783888993956, 0.01795836312144436, 0.19754199433588798, 0.7901679773435519, 0.882473947392086, 0.6648100720688026, 0.6006990568292004, 0.761831310861311, 0.551633224144183, 0.37387326857519326, 0.4952556237728881, 0.4952556237728881, 0.5306599660861835, 0.2026725992145059, 0.4053451984290118, 0.4053451984290118, 0.04902151006508921, 0.6863011409112488, 0.04902151006508921, 0.19608604026035684, 0.23065765560695753, 0.46131531121391506, 0.12116718804860341, 0.7270031282916204, 0.3851739523240025, 0.11057180622213118, 0.8889105990406625, 0.4800661538742899, 0.03892428274656405, 0.4800661538742899, 0.4572189331492028, 0.6202215816560966, 0.7406581740931603, 0.4998155830486156, 0.4998155830486156, 0.4536620982461301, 0.6375664759807765, 0.31878323799038827, 0.175338520910829, 0.8244452675150595, 0.09420438131497169, 0.8992236398247297, 0.23148466811458324, 0.4629693362291665, 0.23148466811458324, 0.4470690006030772, 0.4470690006030772, 0.002667402561347768, 0.9949411553827174, 0.015838909676528953, 0.9661734902682662, 0.2930182835418488, 0.2930182835418488, 0.43086219570524775, 0.43086219570524775, 0.6188460739738376, 0.482257582916463, 0.5090496708562665, 0.9849743541502856, 0.9661049616507807, 0.01822839550284492, 0.8390075924136102, 0.06539242253500706, 0.26156969014002823, 0.5885318028150636, 0.17908053778580213, 0.7163221511432085, 0.8301495015689178, 0.019204546611467088, 0.9602273305733544, 0.14194741141922276, 0.8516844685153366, 0.8759334724963997, 0.03720165906211228, 0.9566140901686013, 0.5589358136013843, 0.5125391380261327, 0.5125391380261327, 0.7618311187907103, 0.33349835704447195, 0.33349835704447195, 0.5125346175775941, 0.5125346175775941, 0.5589355668484243, 0.8176453275686006, 0.3599519526505538, 0.3599519526505538, 0.6648134986462804, 0.3919589693826852, 0.3919589693826852, 0.02879965235985891, 0.9791881802352029, 0.5324367289035914, 0.6283463181757489, 0.4282878775074932, 0.4282878775074932, 0.7618293511314794, 0.41934032137671645, 0.1892016171622296, 0.1892016171622296, 0.5676048514866888, 0.4631307623886896, 0.2315653811943448, 0.2315653811943448, 0.29421151457397093, 0.6864935340059322, 0.3772064514706849, 0.3772064514706849, 0.6648117363232857, 0.4226175717744746, 0.4226175717744746, 0.5260908145228983, 0.5260908145228983, 0.11643976610112326, 0.8150783627078628, 0.8041449022766225, 0.20103622556915562, 0.1840473002940772, 0.8098081212939396, 0.9773266933037693, 0.3784511513423155, 0.3784511513423155, 0.3635179515721706, 0.04797449202488082, 0.07196173803732123, 0.8875281024602952, 0.4293321454704579, 0.3714901176151629, 0.041722938419895314, 0.08344587683979063, 0.8344587683979063, 0.5017972269612678, 0.6059210159628511, 0.015494147035043555, 0.9761312632077439, 0.160356564028148, 0.013363047002345666, 0.8151458671430857, 0.49253491836352997, 0.49253491836352997, 0.04153199971518522, 0.9552359934492599, 0.20308176836655956, 0.6092453050996787, 0.40089768986068497, 0.40089768986068497, 0.15595843246221636, 0.7797921623110817, 0.23677408934252617, 0.07892469644750873, 0.07892469644750873, 0.6313975715800698, 0.342657349322422, 0.5139860239836329, 0.5291492923415104, 0.18400760227308727, 0.18400760227308727, 0.5520228068192617, 0.15077894150975815, 0.842991354804557, 0.1447453128119023, 0.8532355281543715, 0.5972533135947579, 0.37251139559649, 0.37251139559649, 0.23585992664605337, 0.01505488893485447, 0.7427078541194873, 0.3944837893257487, 0.6769825466079282, 0.516305795238725, 0.34420386349248333, 0.17210193174624167, 0.4412984730714367, 0.4412984730714367, 0.4202186501130389, 0.761829391894619, 0.4878284080856645, 0.06240679571014894, 0.9361019356522341, 0.7343910441909546, 0.32173898975466836, 0.6434779795093367, 0.6607161769584117, 0.33395797182957204, 0.030359815620870183, 0.6375561280382739, 0.08522787470127129, 0.34091149880508514, 0.5113672482076277, 0.1600813952782998, 0.8365543882285343, 0.32913768415252664, 0.32913768415252664, 0.32913768415252664, 0.1372025839833911, 0.7546142119086511, 0.06860129199169555, 0.7618025599644134, 0.675657239604104, 0.5028191378606682, 0.8234086391571614, 0.1176298055938802, 0.21435812755381475, 0.21435812755381475, 0.4287162551076295, 0.7042856004211758, 0.14088795169593396, 0.8520366602563625, 0.49879208272932785, 0.49879208272932785, 0.3425482022033743, 0.24613435729638478, 0.6153358932409619, 0.0899856619449369, 0.4499283097246845, 0.4499283097246845, 0.4861333104902142, 0.4701284431391038, 0.5204993477611506, 0.3829516822797735, 0.28824149301268587, 0.5764829860253717, 0.9457168466203095, 0.6324761764715493, 0.5753516293288926, 0.26561937742796393, 0.7279938492470123, 0.8449988123637006, 0.02728379661522876, 0.9685747798406209, 0.3340850216691954, 0.3340850216691954, 0.10727194158493114, 0.750903591094518, 0.7618306036359888, 0.041820303809811415, 0.20910151904905708, 0.08364060761962283, 0.6273045571471711, 0.9752304654898335, 0.7618291401927532, 0.9625485106254613, 0.31121068156810866, 0.31121068156810866, 0.31121068156810866, 0.5588324037371565, 0.06985405046714456, 0.3492702523357228, 0.5134527343322776, 0.5134527343322776, 0.544998977130741, 0.4845989222145698, 0.028804652950396577, 0.9793582003134836, 0.2931748644629433, 0.5863497289258865, 0.39345163521829124, 0.39345163521829124, 0.4535123448216474, 0.4535123448216474, 0.45086973228496585, 0.016013746924146015, 0.976838562372907, 0.19754622446445794, 0.19754622446445794, 0.5926386733933738, 0.24098938571443995, 0.4819787714288799, 0.24098938571443995, 0.08161985928823257, 0.8161985928823257, 0.08161985928823257, 0.3262590915774585, 0.16312954578872926, 0.48938863736618776, 0.673118679874878, 0.3059630363067627, 0.7528224653021489, 0.15056449306042977, 0.032598865914061255, 0.9616665444648071, 0.17477617928291714, 0.6991047171316686, 0.9847885982826935, 0.31343577207063983, 0.01741309844836888, 0.6616977410380174, 0.02819954530005851, 0.9587845402019892, 0.31113787391448544, 0.684503322611868, 0.5600236426212742, 0.012642684220719992, 0.9861293692161595, 0.26142723337729784, 0.7319962534564339, 0.19890069315382572, 0.7999267007273426, 0.21392747643345844, 0.7863280214851445, 0.9098215351907173, 0.08903440762818568, 0.9065321503960724, 0.4869695812718964, 0.4869695812718964, 0.620223568996679, 0.6202200774934704, 0.7618291117807529, 0.9627064891356973, 0.40166449568139617, 0.40166449568139617, 0.6202238066383451, 0.5878993276703124, 0.036743707979394524, 0.3674370797939452, 0.0832412515305345, 0.9156537668358795, 0.1001937681170663, 0.896470556836909, 0.9801533223751054, 0.022770101944866752, 0.3415515291730013, 0.637562854456269, 0.9668239465731582, 0.4536692182288459, 0.6096915895213182, 0.15242289738032955, 0.45018435904408594, 0.10431242754852384, 0.020862485509704768, 0.8762243914076002, 0.7251725411333463, 0.2071921546095275, 0.3356406009324871, 0.3356406009324871, 0.4945813631145287, 0.44110658611799974, 0.5180037142616032, 0.5996377858985983, 0.8740466288487996, 0.9452566929710386, 0.6006989846733086, 0.656642954801048, 0.328321477400524, 0.14660369529360853, 0.7330184764680427, 0.9251480549229243, 0.4639277222655023, 0.4639277222655023, 0.7555450873106297, 0.2518483624368766, 0.45907482316807036, 0.45907482316807036, 0.15433237619069184, 0.0004634605891612368, 0.8453521146300959, 0.7581801383072057, 0.5256114144874924, 0.8299661867064559, 0.5807063618555265, 0.9649198118166952, 0.5126659460055805, 0.5126659460055805, 0.019869239533478637, 0.9735927371404532, 0.3376033974906752, 0.3376033974906752, 0.5009779223540456, 0.5600257694215315, 0.32978817128722726, 0.6654654170617265, 0.737872068918371, 0.10541029555976729, 0.10541029555976729, 0.5604673174472068, 0.761829591741223, 0.4927947764633578, 0.4927947764633578], \"Term\": [\"action\", \"action\", \"action\", \"adaptive\", \"adaptive\", \"adaptive\", \"agent\", \"agent\", \"agent\", \"agent\", \"ai\", \"ai\", \"ai\", \"ai\", \"aigcbench\", \"aigcbench\", \"aigenerated\", \"aigenerated\", \"aigenerated\", \"algorithm\", \"algorithm\", \"algorithm\", \"aligned\", \"aligned\", \"alignment\", \"alignment\", \"alphatablets\", \"alternative\", \"alternative\", \"angle\", \"animation\", \"animation\", \"annotated\", \"annotated\", \"anonymizing\", \"appearance\", \"approach\", \"approach\", \"aqa\", \"assess\", \"assess\", \"assess\", \"assessment\", \"assessment\", \"assessment\", \"attention\", \"attention\", \"audio\", \"audio\", \"audiovideo\", \"audiovideo\", \"audiovisual\", \"audiovisual\", \"avatar\", \"avenue\", \"avenue\", \"benchmark\", \"benchmark\", \"benchmark\", \"bitrate\", \"bitrate\", \"blendergpt\", \"blendshapes\", \"bridging\", \"bridging\", \"cache\", \"cache\", \"camera\", \"captioning\", \"captioning\", \"captioning\", \"captioning\", \"categorized\", \"cavdm\", \"celebvhq\", \"cf\", \"cf\", \"chronomagicbench\", \"city\", \"city\", \"citywalkers\", \"coded\", \"codex\", \"coding\", \"coding\", \"coding\", \"comment\", \"commonsense\", \"commonsense\", \"compositional\", \"compositional\", \"comprehensive\", \"comprehensive\", \"comprehensive\", \"concern\", \"concern\", \"concern\", \"consistency\", \"consistency\", \"content\", \"content\", \"content\", \"control\", \"control\", \"copilot\", \"corner\", \"correction\", \"correction\", \"crafted\", \"crafted\", \"created\", \"created\", \"crossdomain\", \"crossdomain\", \"crossmodal\", \"crossmodal\", \"crossspecies\", \"crossspecies\", \"csvg\", \"csvg\", \"cue\", \"cue\", \"cue\", \"current\", \"current\", \"current\", \"curve\", \"customized\", \"dance\", \"data\", \"data\", \"dataset\", \"dataset\", \"demographic\", \"demographic\", \"demonstrate\", \"demonstrate\", \"denoising\", \"depth\", \"design\", \"design\", \"designer\", \"development\", \"development\", \"development\", \"diffusion\", \"diffusion\", \"diffusiongenerated\", \"diffusiongenerated\", \"disease\", \"disease\", \"disease\", \"disinformation\", \"domainspecific\", \"drift\", \"drift\", \"dualmodal\", \"dvd\", \"dvd\", \"dynamic\", \"dynamic\", \"echocardiography\", \"embodied\", \"emotion\", \"emotion\", \"emotion\", \"emotional\", \"emotional\", \"emotivetalk\", \"empower\", \"empower\", \"encourage\", \"endoscopy\", \"endoscopy\", \"endoscopy\", \"enhancement\", \"enhancement\", \"ethical\", \"ethical\", \"evaluate\", \"evaluate\", \"evaluate\", \"evaluates\", \"evaluates\", \"evaluates\", \"evaluation\", \"evaluation\", \"evaluation\", \"existing\", \"existing\", \"expression\", \"expression\", \"expression\", \"facial\", \"facial\", \"factor\", \"factor\", \"factual\", \"factual\", \"factual\", \"feature\", \"feature\", \"fetal\", \"ffa\", \"ffa\", \"ffa\", \"ffhquv\", \"fidelity\", \"fidelity\", \"filtering\", \"finevd\", \"finevq\", \"first\", \"first\", \"fm\", \"foreground\", \"foreground\", \"foreground\", \"forgery\", \"forgery\", \"frame\", \"frame\", \"framework\", \"framework\", \"freeform\", \"fullyunsupervised\", \"fundus\", \"fundus\", \"fundus\", \"fundusvideo\", \"future\", \"future\", \"future\", \"gaia\", \"gain\", \"gain\", \"game\", \"game\", \"gaussian\", \"genai\", \"generate\", \"generate\", \"generated\", \"generated\", \"generating\", \"generating\", \"generation\", \"generation\", \"generative\", \"generative\", \"genuine\", \"geometrically\", \"gfvc\", \"glsmec\", \"gptv\", \"graph\", \"graph\", \"grounded\", \"grounded\", \"grounded\", \"grounding\", \"grounding\", \"grounding\", \"gsvit\", \"guitar\", \"gvseg\", \"gvseg\", \"handobject\", \"handobject\", \"heart\", \"however\", \"however\", \"humanintheloop\", \"hyperglm\", \"hypergraph\", \"idol\", \"image\", \"image\", \"imagetovideo\", \"imagetovideo\", \"increase\", \"increase\", \"industry\", \"industry\", \"industry\", \"infilling\", \"infilling\", \"intelligent\", \"intelligent\", \"intelligent\", \"interactivities\", \"interactivities\", \"interface\", \"interface\", \"introduce\", \"introduce\", \"iv\", \"jersey\", \"keyframe\", \"keyframe\", \"keyframe\", \"kt\", \"label\", \"label\", \"latency\", \"latency\", \"latte\", \"law\", \"law\", \"law\", \"law\", \"learning\", \"learning\", \"less\", \"less\", \"level\", \"level\", \"library\", \"lidar\", \"lidar\", \"liftimaged\", \"lipsync\", \"lipsync\", \"llm\", \"llm\", \"llm\", \"lmms\", \"logistical\", \"longtime\", \"loudness\", \"lvdms\", \"marketing\", \"mavin\", \"mavin\", \"mcts\", \"measure\", \"measure\", \"measure\", \"medical\", \"medical\", \"medical\", \"medical\", \"meeting\", \"meeting\", \"mesh\", \"mesh\", \"message\", \"method\", \"method\", \"metric\", \"metric\", \"metric\", \"mha\", \"misaligned\", \"mixed\", \"mixer\", \"mixer\", \"mmsummary\", \"modality\", \"modality\", \"model\", \"model\", \"module\", \"module\", \"moment\", \"moment\", \"moment\", \"mora\", \"mora\", \"motion\", \"motion\", \"movement\", \"movement\", \"multiagent\", \"multiagent\", \"multicharacter\", \"multicharacter\", \"multilingual\", \"multimodal\", \"multimodal\", \"multiview\", \"music\", \"music\", \"narration\", \"narrative\", \"narrative\", \"narrative\", \"negative\", \"negative\", \"news\", \"noise\", \"noise\", \"novel\", \"novel\", \"nuanced\", \"object\", \"object\", \"objectlevel\", \"odv\", \"odv\", \"offscreen\", \"offset\", \"offset\", \"omnidirectional\", \"omnidirectional\", \"omnidrag\", \"onto\", \"openai\", \"openai\", \"opening\", \"opensora\", \"opensora\", \"optical\", \"optical\", \"oran\", \"pain\", \"panacea\", \"panacea\", \"panda\", \"pangea\", \"panorama\", \"panorama\", \"panorama\", \"panoramic\", \"panoramic\", \"panoramic\", \"participant\", \"participant\", \"patient\", \"patient\", \"patientcomputer\", \"pedestrian\", \"pedestrian\", \"pedgen\", \"pedgen\", \"people\", \"people\", \"perceptual\", \"perceptual\", \"performance\", \"performance\", \"personalized\", \"phase\", \"phase\", \"phygenbench\", \"physical\", \"physical\", \"physical\", \"plane\", \"playing\", \"point\", \"point\", \"point\", \"pom\", \"pool\", \"pose\", \"pose\", \"potential\", \"potential\", \"potential\", \"predictive\", \"predictive\", \"prior\", \"prior\", \"privacy\", \"privacy\", \"privacypreserving\", \"privacypreserving\", \"procedural\", \"procedural\", \"production\", \"production\", \"production\", \"production\", \"professional\", \"professional\", \"programmer\", \"progression\", \"progression\", \"progression\", \"prompt\", \"prompt\", \"propose\", \"propose\", \"pseudogeneralized\", \"qoe\", \"qoe\", \"quality\", \"quality\", \"quality\", \"radar\", \"raise\", \"reasoning\", \"reasoning\", \"reasoning\", \"recognizing\", \"recognizing\", \"recommendation\", \"red\", \"redesign\", \"reference\", \"reference\", \"reflecting\", \"reflection\", \"reflection\", \"replacement\", \"research\", \"research\", \"research\", \"response\", \"response\", \"response\", \"result\", \"result\", \"retinal\", \"retinal\", \"retinal\", \"retrieval\", \"retrieval\", \"retrieval\", \"rhythm\", \"rpm\", \"rpmspecific\", \"safety\", \"safety\", \"sam\", \"sam\", \"sam\", \"scaling\", \"scene\", \"scene\", \"scenespecific\", \"scenespecific\", \"scope\", \"search\", \"search\", \"segment\", \"segment\", \"segment\", \"sei\", \"semantic\", \"semantic\", \"server\", \"setup\", \"setup\", \"shape\", \"sharecaptionervideo\", \"sharegptvideo\", \"show\", \"show\", \"simulator\", \"single\", \"single\", \"skinning\", \"skinning\", \"small\", \"small\", \"song\", \"sora\", \"sora\", \"sora\", \"sora\", \"sound\", \"spagent\", \"spatialtemporal\", \"speaker\", \"speaker\", \"speaker\", \"speech\", \"speech\", \"speech\", \"spotting\", \"spotting\", \"ssmbased\", \"ssms\", \"stable\", \"stable\", \"stereoscopic\", \"stereoscopic\", \"stiv\", \"stiv\", \"storyagent\", \"storyagent\", \"storyeval\", \"subject\", \"subject\", \"surface\", \"surface\", \"surface\", \"surgery\", \"surgery\", \"surgery\", \"surgical\", \"surgical\", \"surgical\", \"survey\", \"survey\", \"survey\", \"synchronization\", \"synchronization\", \"synchronized\", \"synchronized\", \"synthesis\", \"synthesis\", \"synthesizes\", \"synthesizes\", \"synthetic\", \"system\", \"system\", \"system\", \"target\", \"target\", \"task\", \"task\", \"tasksaware\", \"technique\", \"technique\", \"technology\", \"technology\", \"temporal\", \"temporal\", \"text\", \"text\", \"texttoaudio\", \"texttovideo\", \"texttovideo\", \"textttdreamfactory\", \"textttdreamfactory\", \"textualdescribed\", \"textualvisual\", \"thumbnail\", \"ti\", \"tiv\", \"tiv\", \"tivdiffusion\", \"tool\", \"tool\", \"tool\", \"traditional\", \"traditional\", \"training\", \"training\", \"trajectory\", \"transformer\", \"transformer\", \"transformer\", \"transition\", \"transmitted\", \"tree\", \"tree\", \"tsvg\", \"tv\", \"tv\", \"tv\", \"ugc\", \"ugc\", \"ultrasound\", \"ultrasound\", \"unknown\", \"unsafe\", \"unsynchronized\", \"urban\", \"usergenerated\", \"va\", \"vaid\", \"vamp\", \"vamp\", \"varied\", \"varied\", \"vatt\", \"vertex\", \"vertex\", \"vgms\", \"vgms\", \"vi\", \"vi\", \"video\", \"video\", \"video\", \"videobased\", \"videodepth\", \"videomusic\", \"videophy\", \"videotoaudio\", \"vidu\", \"vidu\", \"view\", \"view\", \"viewing\", \"viewing\", \"viewport\", \"vimts\", \"visual\", \"visual\", \"vqa\", \"vqa\", \"vqa\", \"vsr\", \"vta\", \"world\", \"world\"]}, \"R\": 30, \"lambda.step\": 0.01, \"plot.opts\": {\"xlab\": \"PC1\", \"ylab\": \"PC2\"}, \"topic.order\": [1, 2, 3, 4, 5, 6, 7, 8, 9, 10]};\n",
              "\n",
              "function LDAvis_load_lib(url, callback){\n",
              "  var s = document.createElement('script');\n",
              "  s.src = url;\n",
              "  s.async = true;\n",
              "  s.onreadystatechange = s.onload = callback;\n",
              "  s.onerror = function(){console.warn(\"failed to load library \" + url);};\n",
              "  document.getElementsByTagName(\"head\")[0].appendChild(s);\n",
              "}\n",
              "\n",
              "if(typeof(LDAvis) !== \"undefined\"){\n",
              "   // already loaded: just create the visualization\n",
              "   !function(LDAvis){\n",
              "       new LDAvis(\"#\" + \"ldavis_el8371333167593017922507403572\", ldavis_el8371333167593017922507403572_data);\n",
              "   }(LDAvis);\n",
              "}else if(typeof define === \"function\" && define.amd){\n",
              "   // require.js is available: use it to load d3/LDAvis\n",
              "   require.config({paths: {d3: \"https://d3js.org/d3.v5\"}});\n",
              "   require([\"d3\"], function(d3){\n",
              "      window.d3 = d3;\n",
              "      LDAvis_load_lib(\"https://cdn.jsdelivr.net/gh/bmabey/pyLDAvis@3.4.0/pyLDAvis/js/ldavis.v3.0.0.js\", function(){\n",
              "        new LDAvis(\"#\" + \"ldavis_el8371333167593017922507403572\", ldavis_el8371333167593017922507403572_data);\n",
              "      });\n",
              "    });\n",
              "}else{\n",
              "    // require.js not available: dynamically load d3 & LDAvis\n",
              "    LDAvis_load_lib(\"https://d3js.org/d3.v5.js\", function(){\n",
              "         LDAvis_load_lib(\"https://cdn.jsdelivr.net/gh/bmabey/pyLDAvis@3.4.0/pyLDAvis/js/ldavis.v3.0.0.js\", function(){\n",
              "                 new LDAvis(\"#\" + \"ldavis_el8371333167593017922507403572\", ldavis_el8371333167593017922507403572_data);\n",
              "            })\n",
              "         });\n",
              "}\n",
              "</script>"
            ]
          },
          "metadata": {},
          "execution_count": 160
        }
      ]
    }
  ]
}