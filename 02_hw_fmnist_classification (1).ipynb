{
  "cells": [
    {
      "cell_type": "markdown",
      "metadata": {
        "id": "nDsVMGiVgSq2"
      },
      "source": [
        "## Классификация FashionMNIST"
      ]
    },
    {
      "cell_type": "code",
      "execution_count": null,
      "metadata": {
        "id": "3isBRG6PgSq6"
      },
      "outputs": [],
      "source": [
        "import json\n",
        "import os\n",
        "import re\n",
        "\n",
        "import numpy as np\n",
        "import torch\n",
        "import torchvision\n",
        "from IPython.display import clear_output\n",
        "from matplotlib import pyplot as plt\n",
        "from torch import nn\n",
        "from torch.nn import functional as F\n",
        "from torchvision.datasets import FashionMNIST"
      ]
    },
    {
      "cell_type": "code",
      "execution_count": null,
      "metadata": {
        "id": "Fzzzwz-f_R7d"
      },
      "outputs": [],
      "source": [
        "def get_predictions(model, eval_data, step=10):\n",
        "\n",
        "    predicted_labels = []\n",
        "    model.eval()\n",
        "    with torch.no_grad():\n",
        "        for idx in range(0, len(eval_data), step):\n",
        "            y_predicted = model(eval_data[idx : idx + step].to(device))\n",
        "            predicted_labels.append(y_predicted.argmax(dim=1).cpu())\n",
        "\n",
        "    predicted_labels = torch.cat(predicted_labels)\n",
        "    predicted_labels = \",\".join([str(x.item()) for x in list(predicted_labels)])\n",
        "    return predicted_labels\n",
        "\n",
        "\n",
        "def get_accuracy(model, data_loader):\n",
        "    predicted_labels = []\n",
        "    real_labels = []\n",
        "    model.eval()\n",
        "    with torch.no_grad():\n",
        "        for batch in data_loader:\n",
        "            y_predicted = model(batch[0].to(device))\n",
        "            predicted_labels.append(y_predicted.argmax(dim=1).cpu())\n",
        "            real_labels.append(batch[1])\n",
        "\n",
        "    predicted_labels = torch.cat(predicted_labels)\n",
        "    real_labels = torch.cat(real_labels)\n",
        "    accuracy_score = (predicted_labels == real_labels).type(torch.FloatTensor).mean()\n",
        "    return accuracy_score"
      ]
    },
    {
      "cell_type": "code",
      "execution_count": null,
      "metadata": {
        "colab": {
          "base_uri": "https://localhost:8080/"
        },
        "id": "cs7BEZ4W_R7e",
        "outputId": "a883903a-e4d5-4449-ad0f-ca7e4f45bffe"
      },
      "outputs": [
        {
          "output_type": "stream",
          "name": "stdout",
          "text": [
            "--2025-04-10 13:57:43--  https://github.com/girafe-ai/ml-course/raw/24f_ysda/homeworks/hw_overfitting/hw_overfitting_data_dict\n",
            "Resolving github.com (github.com)... 20.205.243.166\n",
            "Connecting to github.com (github.com)|20.205.243.166|:443... connected.\n",
            "HTTP request sent, awaiting response... 302 Found\n",
            "Location: https://raw.githubusercontent.com/girafe-ai/ml-course/24f_ysda/homeworks/hw_overfitting/hw_overfitting_data_dict [following]\n",
            "--2025-04-10 13:57:43--  https://raw.githubusercontent.com/girafe-ai/ml-course/24f_ysda/homeworks/hw_overfitting/hw_overfitting_data_dict\n",
            "Resolving raw.githubusercontent.com (raw.githubusercontent.com)... 185.199.108.133, 185.199.109.133, 185.199.110.133, ...\n",
            "Connecting to raw.githubusercontent.com (raw.githubusercontent.com)|185.199.108.133|:443... connected.\n",
            "HTTP request sent, awaiting response... 200 OK\n",
            "Length: 6272446 (6.0M) [application/octet-stream]\n",
            "Saving to: ‘hw_overfitting_data_dict.npy’\n",
            "\n",
            "hw_overfitting_data 100%[===================>]   5.98M  --.-KB/s    in 0.02s   \n",
            "\n",
            "2025-04-10 13:57:43 (296 MB/s) - ‘hw_overfitting_data_dict.npy’ saved [6272446/6272446]\n",
            "\n"
          ]
        }
      ],
      "source": [
        "!wget https://github.com/girafe-ai/ml-course/raw/24f_ysda/homeworks/hw_overfitting/hw_overfitting_data_dict -O hw_overfitting_data_dict.npy"
      ]
    },
    {
      "cell_type": "code",
      "execution_count": null,
      "metadata": {
        "id": "mDFB6w0X_R7g"
      },
      "outputs": [],
      "source": [
        "CUDA_DEVICE_ID = 0"
      ]
    },
    {
      "cell_type": "code",
      "execution_count": null,
      "metadata": {
        "id": "nPG1KbQAgl8b"
      },
      "outputs": [],
      "source": [
        "device = (\n",
        "    torch.device(f\"cuda:{CUDA_DEVICE_ID}\") if torch.cuda.is_available() else torch.device(\"cpu\")\n",
        ")"
      ]
    },
    {
      "cell_type": "code",
      "execution_count": null,
      "metadata": {
        "colab": {
          "base_uri": "https://localhost:8080/",
          "height": 539
        },
        "id": "aYcL28OsgSq8",
        "outputId": "a2a39c3b-c5b7-4291-b3a5-e19eb6557904"
      },
      "outputs": [
        {
          "output_type": "stream",
          "name": "stderr",
          "text": [
            "100%|██████████| 26.4M/26.4M [00:02<00:00, 10.3MB/s]\n",
            "100%|██████████| 29.5k/29.5k [00:00<00:00, 166kB/s]\n",
            "100%|██████████| 4.42M/4.42M [00:01<00:00, 3.13MB/s]\n",
            "100%|██████████| 5.15k/5.15k [00:00<00:00, 11.6MB/s]\n"
          ]
        },
        {
          "output_type": "execute_result",
          "data": {
            "text/plain": [
              "Text(0.5, 1.0, 'Image label: 2')"
            ]
          },
          "metadata": {},
          "execution_count": 7
        },
        {
          "output_type": "display_data",
          "data": {
            "text/plain": [
              "<Figure size 640x480 with 1 Axes>"
            ],
            "image/png": "[encoded data removed]"
          },
          "metadata": {}
        }
      ],
      "source": [
        "train_fmnist_data = FashionMNIST(\n",
        "    \".\", train=True, transform=torchvision.transforms.ToTensor(), download=True\n",
        ")\n",
        "test_fmnist_data = FashionMNIST(\n",
        "    \".\", train=False, transform=torchvision.transforms.ToTensor(), download=True\n",
        ")\n",
        "\n",
        "\n",
        "train_data_loader = torch.utils.data.DataLoader(\n",
        "    train_fmnist_data, batch_size=32, shuffle=True, num_workers=2\n",
        ")\n",
        "\n",
        "test_data_loader = torch.utils.data.DataLoader(\n",
        "    test_fmnist_data, batch_size=32, shuffle=False, num_workers=2\n",
        ")\n",
        "\n",
        "random_batch = next(iter(train_data_loader))\n",
        "_image, _label = random_batch[0][0], random_batch[1][0]\n",
        "plt.figure()\n",
        "plt.imshow(_image.reshape(28, 28))\n",
        "plt.title(f\"Image label: {_label}\")"
      ]
    },
    {
      "cell_type": "code",
      "source": [
        "random_batch[0].size()"
      ],
      "metadata": {
        "colab": {
          "base_uri": "https://localhost:8080/"
        },
        "id": "qn02reYMFgxd",
        "outputId": "dfa57b92-7616-4b76-96aa-6f7f28fab45e"
      },
      "execution_count": null,
      "outputs": [
        {
          "output_type": "execute_result",
          "data": {
            "text/plain": [
              "torch.Size([32, 1, 28, 28])"
            ]
          },
          "metadata": {},
          "execution_count": 14
        }
      ]
    },
    {
      "cell_type": "code",
      "source": [
        "import torch\n",
        "import torch.nn as nn\n",
        "import torch.nn.functional as F\n",
        "\n",
        "class FasionMNIST(nn.Module):\n",
        "    def __init__(self):\n",
        "        super().__init__()\n",
        "        self.conv1 = nn.Sequential(\n",
        "            nn.Conv2d(1, 64, kernel_size=3, padding=1),\n",
        "            nn.BatchNorm2d(64),\n",
        "            nn.ReLU(),\n",
        "        )\n",
        "        self.conv2 = nn.Sequential(\n",
        "            nn.Conv2d(64, 128, kernel_size=3, padding=1),\n",
        "            nn.BatchNorm2d(128),\n",
        "            nn.ReLU(),\n",
        "            nn.MaxPool2d(2),\n",
        "        )\n",
        "        self.conv3 = nn.Sequential(\n",
        "            nn.Conv2d(128, 256, kernel_size=3, padding=1),\n",
        "            nn.BatchNorm2d(256),\n",
        "            nn.ReLU(),\n",
        "            nn.MaxPool2d(2),\n",
        "        )\n",
        "        self.conv4 = nn.Sequential(\n",
        "            nn.Conv2d(256, 512, kernel_size=3, padding=1),\n",
        "            nn.BatchNorm2d(512),\n",
        "            nn.ReLU(),\n",
        "        )\n",
        "\n",
        "        self.global_pool = nn.AdaptiveAvgPool2d((1, 1))\n",
        "        self.flat = nn.Flatten()\n",
        "        self.dropout = nn.Dropout(0.3)\n",
        "        self.linear = nn.Linear(512, 10)\n",
        "\n",
        "    def forward(self, x):\n",
        "        if x.dim() == 3:\n",
        "            x = x.unsqueeze(0)\n",
        "        if x.size(1) != 1:\n",
        "            x = x.unsqueeze(1)\n",
        "\n",
        "        x = self.conv1(x)\n",
        "        x = self.conv2(x)\n",
        "        x = self.conv3(x)\n",
        "        x = self.conv4(x)\n",
        "        x = self.global_pool(x)\n",
        "        x = self.flat(x)\n",
        "        x = self.dropout(x)\n",
        "        x = self.linear(x)\n",
        "        return x\n",
        "\n",
        "model_task_1 = FasionMNIST()\n"
      ],
      "metadata": {
        "id": "44lvobxI07nT"
      },
      "execution_count": null,
      "outputs": []
    },
    {
      "cell_type": "code",
      "execution_count": null,
      "metadata": {
        "id": "Xas9SIXDoxvZ",
        "colab": {
          "base_uri": "https://localhost:8080/"
        },
        "outputId": "ff9ac963-829b-4ea2-9674-92af0e82df4b"
      },
      "outputs": [
        {
          "output_type": "execute_result",
          "data": {
            "text/plain": [
              "FasionMNIST(\n",
              "  (conv1): Sequential(\n",
              "    (0): Conv2d(1, 64, kernel_size=(3, 3), stride=(1, 1), padding=(1, 1))\n",
              "    (1): BatchNorm2d(64, eps=1e-05, momentum=0.1, affine=True, track_running_stats=True)\n",
              "    (2): ReLU()\n",
              "  )\n",
              "  (conv2): Sequential(\n",
              "    (0): Conv2d(64, 128, kernel_size=(3, 3), stride=(1, 1), padding=(1, 1))\n",
              "    (1): BatchNorm2d(128, eps=1e-05, momentum=0.1, affine=True, track_running_stats=True)\n",
              "    (2): ReLU()\n",
              "    (3): MaxPool2d(kernel_size=2, stride=2, padding=0, dilation=1, ceil_mode=False)\n",
              "  )\n",
              "  (conv3): Sequential(\n",
              "    (0): Conv2d(128, 256, kernel_size=(3, 3), stride=(1, 1), padding=(1, 1))\n",
              "    (1): BatchNorm2d(256, eps=1e-05, momentum=0.1, affine=True, track_running_stats=True)\n",
              "    (2): ReLU()\n",
              "    (3): MaxPool2d(kernel_size=2, stride=2, padding=0, dilation=1, ceil_mode=False)\n",
              "  )\n",
              "  (conv4): Sequential(\n",
              "    (0): Conv2d(256, 512, kernel_size=(3, 3), stride=(1, 1), padding=(1, 1))\n",
              "    (1): BatchNorm2d(512, eps=1e-05, momentum=0.1, affine=True, track_running_stats=True)\n",
              "    (2): ReLU()\n",
              "  )\n",
              "  (global_pool): AdaptiveAvgPool2d(output_size=(1, 1))\n",
              "  (flat): Flatten(start_dim=1, end_dim=-1)\n",
              "  (dropout): Dropout(p=0.3, inplace=False)\n",
              "  (linear): Linear(in_features=512, out_features=10, bias=True)\n",
              ")"
            ]
          },
          "metadata": {},
          "execution_count": 102
        }
      ],
      "source": [
        "model_task_1.to(device)"
      ]
    },
    {
      "cell_type": "code",
      "execution_count": null,
      "metadata": {
        "id": "YJnU14bdnZa_"
      },
      "outputs": [],
      "source": [
        "optimizer = torch.optim.Adam(model_task_1.parameters(), lr = 0.0001, weight_decay=1e-4)\n",
        "lss_fn = nn.CrossEntropyLoss()\n",
        "scheduler = torch.optim.lr_scheduler.StepLR(optimizer, step_size=10, gamma=0.7)"
      ]
    },
    {
      "cell_type": "code",
      "source": [
        "epoch = 10\n",
        "\n",
        "for i in range(epoch):\n",
        "  for batch, (X, y) in enumerate(iter(train_data_loader)):\n",
        "    X, y = X.to(device), y.to(device)\n",
        "    y_pred = model_task_1(X)\n",
        "    loss = lss_fn(y_pred, y)\n",
        "    loss.backward()\n",
        "    optimizer.step()\n",
        "    optimizer.zero_grad()\n",
        "\n",
        "    if batch % 100 == 0:\n",
        "      print('Epoch: %d | Batch: %d | Loss: %f' % (i+1, batch, loss.data))"
      ],
      "metadata": {
        "colab": {
          "base_uri": "https://localhost:8080/"
        },
        "id": "ib1KpclzJ-pu",
        "outputId": "902ffaf7-8a8e-4662-917d-7646e1127d45"
      },
      "execution_count": null,
      "outputs": [
        {
          "output_type": "stream",
          "name": "stdout",
          "text": [
            "Epoch: 1 | Batch: 0 | Loss: 0.129589\n",
            "Epoch: 1 | Batch: 100 | Loss: 0.233676\n",
            "Epoch: 1 | Batch: 200 | Loss: 0.317588\n",
            "Epoch: 1 | Batch: 300 | Loss: 0.103050\n",
            "Epoch: 1 | Batch: 400 | Loss: 0.214721\n",
            "Epoch: 1 | Batch: 500 | Loss: 0.100689\n",
            "Epoch: 1 | Batch: 600 | Loss: 0.260023\n",
            "Epoch: 1 | Batch: 700 | Loss: 0.082325\n",
            "Epoch: 1 | Batch: 800 | Loss: 0.311928\n",
            "Epoch: 1 | Batch: 900 | Loss: 0.471790\n",
            "Epoch: 1 | Batch: 1000 | Loss: 0.251287\n",
            "Epoch: 1 | Batch: 1100 | Loss: 0.072880\n",
            "Epoch: 1 | Batch: 1200 | Loss: 0.321515\n",
            "Epoch: 1 | Batch: 1300 | Loss: 0.164248\n",
            "Epoch: 1 | Batch: 1400 | Loss: 0.445201\n",
            "Epoch: 1 | Batch: 1500 | Loss: 0.102671\n",
            "Epoch: 1 | Batch: 1600 | Loss: 0.205697\n",
            "Epoch: 1 | Batch: 1700 | Loss: 0.167687\n",
            "Epoch: 1 | Batch: 1800 | Loss: 0.165683\n",
            "Epoch: 2 | Batch: 0 | Loss: 0.139170\n",
            "Epoch: 2 | Batch: 100 | Loss: 0.287804\n",
            "Epoch: 2 | Batch: 200 | Loss: 0.406774\n",
            "Epoch: 2 | Batch: 300 | Loss: 0.090776\n",
            "Epoch: 2 | Batch: 400 | Loss: 0.328537\n",
            "Epoch: 2 | Batch: 500 | Loss: 0.440019\n",
            "Epoch: 2 | Batch: 600 | Loss: 0.150772\n",
            "Epoch: 2 | Batch: 700 | Loss: 0.138834\n",
            "Epoch: 2 | Batch: 800 | Loss: 0.092715\n",
            "Epoch: 2 | Batch: 900 | Loss: 0.176277\n",
            "Epoch: 2 | Batch: 1000 | Loss: 0.207286\n",
            "Epoch: 2 | Batch: 1100 | Loss: 0.264062\n",
            "Epoch: 2 | Batch: 1200 | Loss: 0.183980\n",
            "Epoch: 2 | Batch: 1300 | Loss: 0.273035\n",
            "Epoch: 2 | Batch: 1400 | Loss: 0.121751\n",
            "Epoch: 2 | Batch: 1500 | Loss: 0.143600\n",
            "Epoch: 2 | Batch: 1600 | Loss: 0.158303\n",
            "Epoch: 2 | Batch: 1700 | Loss: 0.214842\n",
            "Epoch: 2 | Batch: 1800 | Loss: 0.111221\n",
            "Epoch: 3 | Batch: 0 | Loss: 0.300822\n",
            "Epoch: 3 | Batch: 100 | Loss: 0.081699\n",
            "Epoch: 3 | Batch: 200 | Loss: 0.123289\n",
            "Epoch: 3 | Batch: 300 | Loss: 0.350113\n",
            "Epoch: 3 | Batch: 400 | Loss: 0.037734\n",
            "Epoch: 3 | Batch: 500 | Loss: 0.203469\n",
            "Epoch: 3 | Batch: 600 | Loss: 0.042801\n",
            "Epoch: 3 | Batch: 700 | Loss: 0.044051\n",
            "Epoch: 3 | Batch: 800 | Loss: 0.138881\n",
            "Epoch: 3 | Batch: 900 | Loss: 0.175386\n",
            "Epoch: 3 | Batch: 1000 | Loss: 0.293878\n",
            "Epoch: 3 | Batch: 1100 | Loss: 0.228215\n",
            "Epoch: 3 | Batch: 1200 | Loss: 0.261351\n",
            "Epoch: 3 | Batch: 1300 | Loss: 0.103378\n",
            "Epoch: 3 | Batch: 1400 | Loss: 0.108139\n",
            "Epoch: 3 | Batch: 1500 | Loss: 0.226552\n",
            "Epoch: 3 | Batch: 1600 | Loss: 0.390075\n",
            "Epoch: 3 | Batch: 1700 | Loss: 0.200196\n",
            "Epoch: 3 | Batch: 1800 | Loss: 0.080829\n",
            "Epoch: 4 | Batch: 0 | Loss: 0.196522\n",
            "Epoch: 4 | Batch: 100 | Loss: 0.097049\n",
            "Epoch: 4 | Batch: 200 | Loss: 0.203832\n",
            "Epoch: 4 | Batch: 300 | Loss: 0.072243\n",
            "Epoch: 4 | Batch: 400 | Loss: 0.304991\n",
            "Epoch: 4 | Batch: 500 | Loss: 0.057092\n",
            "Epoch: 4 | Batch: 600 | Loss: 0.105641\n",
            "Epoch: 4 | Batch: 700 | Loss: 0.127329\n",
            "Epoch: 4 | Batch: 800 | Loss: 0.155347\n",
            "Epoch: 4 | Batch: 900 | Loss: 0.201010\n",
            "Epoch: 4 | Batch: 1000 | Loss: 0.054756\n",
            "Epoch: 4 | Batch: 1100 | Loss: 0.296303\n",
            "Epoch: 4 | Batch: 1200 | Loss: 0.062883\n",
            "Epoch: 4 | Batch: 1300 | Loss: 0.102782\n",
            "Epoch: 4 | Batch: 1400 | Loss: 0.284183\n",
            "Epoch: 4 | Batch: 1500 | Loss: 0.081220\n",
            "Epoch: 4 | Batch: 1600 | Loss: 0.147495\n",
            "Epoch: 4 | Batch: 1700 | Loss: 0.070323\n",
            "Epoch: 4 | Batch: 1800 | Loss: 0.053999\n",
            "Epoch: 5 | Batch: 0 | Loss: 0.346245\n",
            "Epoch: 5 | Batch: 100 | Loss: 0.113014\n",
            "Epoch: 5 | Batch: 200 | Loss: 0.096070\n",
            "Epoch: 5 | Batch: 300 | Loss: 0.232969\n",
            "Epoch: 5 | Batch: 400 | Loss: 0.160423\n",
            "Epoch: 5 | Batch: 500 | Loss: 0.070826\n",
            "Epoch: 5 | Batch: 600 | Loss: 0.169438\n",
            "Epoch: 5 | Batch: 700 | Loss: 0.227118\n",
            "Epoch: 5 | Batch: 800 | Loss: 0.467205\n",
            "Epoch: 5 | Batch: 900 | Loss: 0.293984\n",
            "Epoch: 5 | Batch: 1000 | Loss: 0.140078\n",
            "Epoch: 5 | Batch: 1100 | Loss: 0.222005\n",
            "Epoch: 5 | Batch: 1200 | Loss: 0.135837\n",
            "Epoch: 5 | Batch: 1300 | Loss: 0.040585\n",
            "Epoch: 5 | Batch: 1400 | Loss: 0.292514\n",
            "Epoch: 5 | Batch: 1500 | Loss: 0.150136\n",
            "Epoch: 5 | Batch: 1600 | Loss: 0.206770\n",
            "Epoch: 5 | Batch: 1700 | Loss: 0.028893\n",
            "Epoch: 5 | Batch: 1800 | Loss: 0.201784\n",
            "Epoch: 6 | Batch: 0 | Loss: 0.136928\n",
            "Epoch: 6 | Batch: 100 | Loss: 0.222779\n",
            "Epoch: 6 | Batch: 200 | Loss: 0.116742\n",
            "Epoch: 6 | Batch: 300 | Loss: 0.293427\n",
            "Epoch: 6 | Batch: 400 | Loss: 0.063716\n",
            "Epoch: 6 | Batch: 500 | Loss: 0.148894\n",
            "Epoch: 6 | Batch: 600 | Loss: 0.042879\n",
            "Epoch: 6 | Batch: 700 | Loss: 0.254062\n",
            "Epoch: 6 | Batch: 800 | Loss: 0.055287\n",
            "Epoch: 6 | Batch: 900 | Loss: 0.252003\n",
            "Epoch: 6 | Batch: 1000 | Loss: 0.097633\n",
            "Epoch: 6 | Batch: 1100 | Loss: 0.109994\n",
            "Epoch: 6 | Batch: 1200 | Loss: 0.089886\n",
            "Epoch: 6 | Batch: 1300 | Loss: 0.140545\n",
            "Epoch: 6 | Batch: 1400 | Loss: 0.057895\n",
            "Epoch: 6 | Batch: 1500 | Loss: 0.132678\n",
            "Epoch: 6 | Batch: 1600 | Loss: 0.290072\n",
            "Epoch: 6 | Batch: 1700 | Loss: 0.127076\n",
            "Epoch: 6 | Batch: 1800 | Loss: 0.455251\n",
            "Epoch: 7 | Batch: 0 | Loss: 0.216525\n",
            "Epoch: 7 | Batch: 100 | Loss: 0.141133\n",
            "Epoch: 7 | Batch: 200 | Loss: 0.143850\n",
            "Epoch: 7 | Batch: 300 | Loss: 0.225544\n",
            "Epoch: 7 | Batch: 400 | Loss: 0.180942\n",
            "Epoch: 7 | Batch: 500 | Loss: 0.158168\n",
            "Epoch: 7 | Batch: 600 | Loss: 0.130458\n",
            "Epoch: 7 | Batch: 700 | Loss: 0.123904\n",
            "Epoch: 7 | Batch: 800 | Loss: 0.090997\n",
            "Epoch: 7 | Batch: 900 | Loss: 0.187893\n",
            "Epoch: 7 | Batch: 1000 | Loss: 0.134487\n",
            "Epoch: 7 | Batch: 1100 | Loss: 0.191933\n",
            "Epoch: 7 | Batch: 1200 | Loss: 0.143628\n",
            "Epoch: 7 | Batch: 1300 | Loss: 0.141128\n",
            "Epoch: 7 | Batch: 1400 | Loss: 0.078767\n",
            "Epoch: 7 | Batch: 1500 | Loss: 0.171474\n",
            "Epoch: 7 | Batch: 1600 | Loss: 0.115800\n",
            "Epoch: 7 | Batch: 1700 | Loss: 0.081441\n",
            "Epoch: 7 | Batch: 1800 | Loss: 0.097421\n",
            "Epoch: 8 | Batch: 0 | Loss: 0.040488\n",
            "Epoch: 8 | Batch: 100 | Loss: 0.031824\n",
            "Epoch: 8 | Batch: 200 | Loss: 0.071481\n",
            "Epoch: 8 | Batch: 300 | Loss: 0.179914\n",
            "Epoch: 8 | Batch: 400 | Loss: 0.080864\n",
            "Epoch: 8 | Batch: 500 | Loss: 0.249255\n",
            "Epoch: 8 | Batch: 600 | Loss: 0.096877\n",
            "Epoch: 8 | Batch: 700 | Loss: 0.068570\n",
            "Epoch: 8 | Batch: 800 | Loss: 0.301965\n",
            "Epoch: 8 | Batch: 900 | Loss: 0.071127\n",
            "Epoch: 8 | Batch: 1000 | Loss: 0.085401\n",
            "Epoch: 8 | Batch: 1100 | Loss: 0.116570\n",
            "Epoch: 8 | Batch: 1200 | Loss: 0.103225\n",
            "Epoch: 8 | Batch: 1300 | Loss: 0.145451\n",
            "Epoch: 8 | Batch: 1400 | Loss: 0.208166\n",
            "Epoch: 8 | Batch: 1500 | Loss: 0.079279\n",
            "Epoch: 8 | Batch: 1600 | Loss: 0.044514\n",
            "Epoch: 8 | Batch: 1700 | Loss: 0.119835\n",
            "Epoch: 8 | Batch: 1800 | Loss: 0.064217\n",
            "Epoch: 9 | Batch: 0 | Loss: 0.064038\n",
            "Epoch: 9 | Batch: 100 | Loss: 0.064284\n",
            "Epoch: 9 | Batch: 200 | Loss: 0.028369\n",
            "Epoch: 9 | Batch: 300 | Loss: 0.121489\n",
            "Epoch: 9 | Batch: 400 | Loss: 0.074867\n",
            "Epoch: 9 | Batch: 500 | Loss: 0.074949\n",
            "Epoch: 9 | Batch: 600 | Loss: 0.068214\n",
            "Epoch: 9 | Batch: 700 | Loss: 0.056161\n",
            "Epoch: 9 | Batch: 800 | Loss: 0.213952\n",
            "Epoch: 9 | Batch: 900 | Loss: 0.324821\n",
            "Epoch: 9 | Batch: 1000 | Loss: 0.128583\n",
            "Epoch: 9 | Batch: 1100 | Loss: 0.077195\n",
            "Epoch: 9 | Batch: 1200 | Loss: 0.034268\n",
            "Epoch: 9 | Batch: 1300 | Loss: 0.024410\n",
            "Epoch: 9 | Batch: 1400 | Loss: 0.304911\n",
            "Epoch: 9 | Batch: 1500 | Loss: 0.101956\n",
            "Epoch: 9 | Batch: 1600 | Loss: 0.126494\n",
            "Epoch: 9 | Batch: 1700 | Loss: 0.122362\n",
            "Epoch: 9 | Batch: 1800 | Loss: 0.188820\n",
            "Epoch: 10 | Batch: 0 | Loss: 0.074253\n",
            "Epoch: 10 | Batch: 100 | Loss: 0.187635\n",
            "Epoch: 10 | Batch: 200 | Loss: 0.055992\n",
            "Epoch: 10 | Batch: 300 | Loss: 0.149136\n",
            "Epoch: 10 | Batch: 400 | Loss: 0.040949\n",
            "Epoch: 10 | Batch: 500 | Loss: 0.062821\n",
            "Epoch: 10 | Batch: 600 | Loss: 0.123072\n",
            "Epoch: 10 | Batch: 700 | Loss: 0.024962\n",
            "Epoch: 10 | Batch: 800 | Loss: 0.129327\n",
            "Epoch: 10 | Batch: 900 | Loss: 0.072882\n",
            "Epoch: 10 | Batch: 1000 | Loss: 0.253502\n",
            "Epoch: 10 | Batch: 1100 | Loss: 0.087173\n",
            "Epoch: 10 | Batch: 1200 | Loss: 0.101545\n",
            "Epoch: 10 | Batch: 1300 | Loss: 0.148464\n",
            "Epoch: 10 | Batch: 1400 | Loss: 0.041627\n",
            "Epoch: 10 | Batch: 1500 | Loss: 0.075927\n",
            "Epoch: 10 | Batch: 1600 | Loss: 0.065782\n",
            "Epoch: 10 | Batch: 1700 | Loss: 0.096765\n",
            "Epoch: 10 | Batch: 1800 | Loss: 0.042249\n"
          ]
        }
      ]
    },
    {
      "cell_type": "markdown",
      "metadata": {
        "id": "usswrWYOgSq-"
      },
      "source": [
        "Оценим качество классификации:"
      ]
    },
    {
      "cell_type": "code",
      "execution_count": null,
      "metadata": {
        "id": "Xua3TVZHgSq-",
        "colab": {
          "base_uri": "https://localhost:8080/"
        },
        "outputId": "24cf73ac-227e-4fe5-8f69-664361d83520"
      },
      "outputs": [
        {
          "output_type": "stream",
          "name": "stdout",
          "text": [
            "Neural network accuracy on train set: 0.95013\n"
          ]
        }
      ],
      "source": [
        "train_acc_task_1 = get_accuracy(model_task_1, train_data_loader)\n",
        "print(f\"Neural network accuracy on train set: {train_acc_task_1:3.5}\")"
      ]
    },
    {
      "cell_type": "code",
      "execution_count": null,
      "metadata": {
        "id": "l9KEKXBxgSq-",
        "colab": {
          "base_uri": "https://localhost:8080/"
        },
        "outputId": "4fcbdfc8-dbb6-4b3b-d79a-e2d9d55aa24f"
      },
      "outputs": [
        {
          "output_type": "stream",
          "name": "stdout",
          "text": [
            "Neural network accuracy on test set: 0.9064\n"
          ]
        }
      ],
      "source": [
        "test_acc_task_1 = get_accuracy(model_task_1, test_data_loader)\n",
        "print(f\"Neural network accuracy on test set: {test_acc_task_1:3.5}\")"
      ]
    }
  ],
  "metadata": {
    "accelerator": "GPU",
    "colab": {
      "gpuType": "T4",
      "provenance": []
    },
    "kernelspec": {
      "display_name": "Python 3 (ipykernel)",
      "language": "python",
      "name": "python3"
    },
    "language_info": {
      "codemirror_mode": {
        "name": "ipython",
        "version": 3
      },
      "file_extension": ".py",
      "mimetype": "text/x-python",
      "name": "python",
      "nbconvert_exporter": "python",
      "pygments_lexer": "ipython3",
      "version": "3.8.19"
    },
    "toc": {
      "base_numbering": 1,
      "nav_menu": {},
      "number_sections": true,
      "sideBar": true,
      "skip_h1_title": false,
      "title_cell": "Table of Contents",
      "title_sidebar": "Contents",
      "toc_cell": false,
      "toc_position": {},
      "toc_section_display": true,
      "toc_window_display": false
    },
    "vscode": {
      "interpreter": {
        "hash": "21499ab2a6726e29f7050b76af0e9680227e613293d630ba279de7ebdfad9cae"
      }
    }
  },
  "nbformat": 4,
  "nbformat_minor": 0
}