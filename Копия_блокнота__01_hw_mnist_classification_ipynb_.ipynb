{
  "cells": [
    {
      "cell_type": "markdown",
      "metadata": {
        "id": "2QZdFJf8-ZNO"
      },
      "source": [
        "## Классификация MNIST"
      ]
    },
    {
      "cell_type": "code",
      "execution_count": null,
      "metadata": {
        "id": "qBHaxooU-ZNV"
      },
      "outputs": [],
      "source": [
        "import numpy as np\n",
        "\n",
        "import torch\n",
        "from torch import nn\n",
        "from torch.nn import functional as F\n",
        "\n",
        "import torchvision\n",
        "from torchvision.datasets import MNIST\n",
        "\n",
        "from matplotlib import pyplot as plt\n",
        "from IPython.display import clear_output"
      ]
    },
    {
      "cell_type": "code",
      "execution_count": null,
      "metadata": {
        "id": "JkiGwt4G-ZNY",
        "colab": {
          "base_uri": "https://localhost:8080/",
          "height": 539
        },
        "outputId": "485313e1-c958-4606-87a7-bcb80fbe5a58"
      },
      "outputs": [
        {
          "output_type": "stream",
          "name": "stderr",
          "text": [
            "100%|██████████| 9.91M/9.91M [00:00<00:00, 16.0MB/s]\n",
            "100%|██████████| 28.9k/28.9k [00:00<00:00, 502kB/s]\n",
            "100%|██████████| 1.65M/1.65M [00:00<00:00, 4.43MB/s]\n",
            "100%|██████████| 4.54k/4.54k [00:00<00:00, 4.93MB/s]\n"
          ]
        },
        {
          "output_type": "execute_result",
          "data": {
            "text/plain": [
              "Text(0.5, 1.0, 'Image label: 1')"
            ]
          },
          "metadata": {},
          "execution_count": 2
        },
        {
          "output_type": "display_data",
          "data": {
            "text/plain": [
              "<Figure size 640x480 with 1 Axes>"
            ],
            "image/png": "[encoded data removed]"
          },
          "metadata": {}
        }
      ],
      "source": [
        "train_mnist_data = MNIST('.', train=True, transform=torchvision.transforms.ToTensor(), download=True)\n",
        "test_mnist_data = MNIST('.', train=False, transform=torchvision.transforms.ToTensor(), download=True)\n",
        "\n",
        "\n",
        "train_data_loader = torch.utils.data.DataLoader(\n",
        "    train_mnist_data,\n",
        "    batch_size=32,\n",
        "    shuffle=True,\n",
        "    num_workers=2\n",
        ")\n",
        "\n",
        "test_data_loader = torch.utils.data.DataLoader(\n",
        "    test_mnist_data,\n",
        "    batch_size=32,\n",
        "    shuffle=False,\n",
        "    num_workers=2\n",
        ")\n",
        "\n",
        "random_batch = next(iter(train_data_loader))\n",
        "_image, _label = random_batch[0][0], random_batch[1][0]\n",
        "plt.figure()\n",
        "plt.imshow(_image.reshape(28, 28))\n",
        "plt.title(f'Image label: {_label}')"
      ]
    },
    {
      "cell_type": "code",
      "source": [
        "class ClassMNIST(nn.Module):\n",
        "  def __init__(self):\n",
        "    super().__init__()\n",
        "    self.Linear1 = nn.Linear(28*28, 1024)\n",
        "    self.Linear2 = nn.Linear(1024, 576)\n",
        "    self.Linear3 = nn.Linear(576, 128)\n",
        "    self.Linear4 = nn.Linear(128, 10)\n",
        "\n",
        "\n",
        "  def forward(self, x):\n",
        "    x = x.view(x.size(0), -1)  # # преобразуем (B, 1, 28, 28) → (B, 784)\n",
        "    x = F.relu(self.Linear1(x))\n",
        "    x = F.relu(self.Linear2(x))\n",
        "    x = F.relu(self.Linear3(x))\n",
        "    x = self.Linear4(x)\n",
        "    return x"
      ],
      "metadata": {
        "id": "GgisBmQIToAp"
      },
      "execution_count": null,
      "outputs": []
    },
    {
      "cell_type": "code",
      "source": [
        "model = ClassMNIST()"
      ],
      "metadata": {
        "id": "IGxAMzdaTnbe"
      },
      "execution_count": null,
      "outputs": []
    },
    {
      "cell_type": "code",
      "execution_count": null,
      "metadata": {
        "id": "S3YwKnGm-ZNd"
      },
      "outputs": [],
      "source": [
        "device = torch.accelerator.current_accelerator().type if torch.accelerator.is_available() else \"cpu\"\n",
        "criterion = nn.CrossEntropyLoss()\n",
        "optimizer = torch.optim.Adam(model.parameters(), lr = 5e-4)"
      ]
    },
    {
      "cell_type": "code",
      "source": [
        "def train_loop(dataloader, model, loss_fn, optimizer):\n",
        "    size = len(dataloader.dataset)\n",
        "    model.train()\n",
        "    for batch, (X, y) in enumerate(iter(train_data_loader)):\n",
        "        pred = model(X)\n",
        "        loss = loss_fn(pred, y)\n",
        "\n",
        "        # Backpropagation\n",
        "        loss.backward()\n",
        "        optimizer.step()\n",
        "        optimizer.zero_grad()\n",
        "\n",
        "        if batch % 100 == 0:\n",
        "            loss, current = loss.item(), batch * train_data_loader.batch_size + len(X)\n",
        "            print(f\"loss: {loss:>7f}  [{current:>5d}/{size:>5d}]\")\n",
        "\n",
        "epochs = 5\n",
        "for t in range(epochs):\n",
        "    print(f\"Epoch {t+1}\\n-------------------------------\")\n",
        "    train_loop(train_data_loader, model, criterion, optimizer)\n",
        "print(\"Done!\")"
      ],
      "metadata": {
        "colab": {
          "base_uri": "https://localhost:8080/"
        },
        "id": "sV1ojZC7YEo4",
        "outputId": "b0a4b7f6-b81a-415d-8a11-5bfd6cbe5758"
      },
      "execution_count": null,
      "outputs": [
        {
          "output_type": "stream",
          "name": "stdout",
          "text": [
            "Epoch 1\n",
            "-------------------------------\n",
            "loss: 2.296500  [   32/60000]\n",
            "loss: 0.584694  [ 3232/60000]\n",
            "loss: 0.556654  [ 6432/60000]\n",
            "loss: 0.105121  [ 9632/60000]\n",
            "loss: 0.137361  [12832/60000]\n",
            "loss: 0.121429  [16032/60000]\n",
            "loss: 0.230022  [19232/60000]\n",
            "loss: 0.062237  [22432/60000]\n",
            "loss: 0.078840  [25632/60000]\n",
            "loss: 0.263498  [28832/60000]\n",
            "loss: 0.461905  [32032/60000]\n",
            "loss: 0.032182  [35232/60000]\n",
            "loss: 0.172071  [38432/60000]\n",
            "loss: 0.170668  [41632/60000]\n",
            "loss: 0.115714  [44832/60000]\n",
            "loss: 0.155364  [48032/60000]\n",
            "loss: 0.306398  [51232/60000]\n",
            "loss: 0.098108  [54432/60000]\n",
            "loss: 0.080009  [57632/60000]\n",
            "Epoch 2\n",
            "-------------------------------\n",
            "loss: 0.026709  [   32/60000]\n",
            "loss: 0.015591  [ 3232/60000]\n",
            "loss: 0.103972  [ 6432/60000]\n",
            "loss: 0.023646  [ 9632/60000]\n",
            "loss: 0.068516  [12832/60000]\n",
            "loss: 0.119807  [16032/60000]\n",
            "loss: 0.169045  [19232/60000]\n",
            "loss: 0.065234  [22432/60000]\n",
            "loss: 0.013390  [25632/60000]\n",
            "loss: 0.397437  [28832/60000]\n",
            "loss: 0.009508  [32032/60000]\n",
            "loss: 0.173303  [35232/60000]\n",
            "loss: 0.062287  [38432/60000]\n",
            "loss: 0.012406  [41632/60000]\n",
            "loss: 0.015126  [44832/60000]\n",
            "loss: 0.111782  [48032/60000]\n",
            "loss: 0.079781  [51232/60000]\n",
            "loss: 0.002992  [54432/60000]\n",
            "loss: 0.206391  [57632/60000]\n",
            "Epoch 3\n",
            "-------------------------------\n",
            "loss: 0.120876  [   32/60000]\n",
            "loss: 0.013892  [ 3232/60000]\n",
            "loss: 0.004371  [ 6432/60000]\n",
            "loss: 0.011003  [ 9632/60000]\n",
            "loss: 0.100030  [12832/60000]\n",
            "loss: 0.066112  [16032/60000]\n",
            "loss: 0.017288  [19232/60000]\n",
            "loss: 0.006241  [22432/60000]\n",
            "loss: 0.006676  [25632/60000]\n",
            "loss: 0.271514  [28832/60000]\n",
            "loss: 0.011445  [32032/60000]\n",
            "loss: 0.215365  [35232/60000]\n",
            "loss: 0.038473  [38432/60000]\n",
            "loss: 0.023463  [41632/60000]\n",
            "loss: 0.012615  [44832/60000]\n",
            "loss: 0.008295  [48032/60000]\n",
            "loss: 0.034968  [51232/60000]\n",
            "loss: 0.025937  [54432/60000]\n",
            "loss: 0.006944  [57632/60000]\n",
            "Epoch 4\n",
            "-------------------------------\n",
            "loss: 0.024961  [   32/60000]\n",
            "loss: 0.008200  [ 3232/60000]\n",
            "loss: 0.002283  [ 6432/60000]\n",
            "loss: 0.000607  [ 9632/60000]\n",
            "loss: 0.013807  [12832/60000]\n",
            "loss: 0.006385  [16032/60000]\n",
            "loss: 0.195869  [19232/60000]\n",
            "loss: 0.133409  [22432/60000]\n",
            "loss: 0.040024  [25632/60000]\n",
            "loss: 0.144675  [28832/60000]\n",
            "loss: 0.011246  [32032/60000]\n",
            "loss: 0.084434  [35232/60000]\n",
            "loss: 0.003958  [38432/60000]\n",
            "loss: 0.152344  [41632/60000]\n",
            "loss: 0.107337  [44832/60000]\n",
            "loss: 0.100777  [48032/60000]\n",
            "loss: 0.015849  [51232/60000]\n",
            "loss: 0.038881  [54432/60000]\n",
            "loss: 0.070557  [57632/60000]\n",
            "Epoch 5\n",
            "-------------------------------\n",
            "loss: 0.009183  [   32/60000]\n",
            "loss: 0.007514  [ 3232/60000]\n",
            "loss: 0.071135  [ 6432/60000]\n",
            "loss: 0.053359  [ 9632/60000]\n",
            "loss: 0.013404  [12832/60000]\n",
            "loss: 0.000944  [16032/60000]\n",
            "loss: 0.040626  [19232/60000]\n",
            "loss: 0.023531  [22432/60000]\n",
            "loss: 0.001006  [25632/60000]\n",
            "loss: 0.041355  [28832/60000]\n",
            "loss: 0.002873  [32032/60000]\n",
            "loss: 0.002449  [35232/60000]\n",
            "loss: 0.041931  [38432/60000]\n",
            "loss: 0.007971  [41632/60000]\n",
            "loss: 0.144012  [44832/60000]\n",
            "loss: 0.044454  [48032/60000]\n",
            "loss: 0.005065  [51232/60000]\n",
            "loss: 0.012796  [54432/60000]\n",
            "loss: 0.008509  [57632/60000]\n",
            "Done!\n"
          ]
        }
      ]
    },
    {
      "cell_type": "markdown",
      "metadata": {
        "id": "LOGymc5W-ZNe"
      },
      "source": [
        "Оценим качество классификации:"
      ]
    },
    {
      "cell_type": "code",
      "execution_count": null,
      "metadata": {
        "id": "_RTr8TbJ-ZNe"
      },
      "outputs": [],
      "source": [
        "predicted_labels = []\n",
        "real_labels = []\n",
        "model.eval()\n",
        "with torch.no_grad():\n",
        "    for batch in train_data_loader:\n",
        "        y_predicted = model(batch[0].reshape(-1, 784))\n",
        "        predicted_labels.append(y_predicted.argmax(dim=1))\n",
        "        real_labels.append(batch[1])\n",
        "\n",
        "predicted_labels = torch.cat(predicted_labels)\n",
        "real_labels = torch.cat(real_labels)\n",
        "train_acc = (predicted_labels == real_labels).type(torch.FloatTensor).mean()"
      ]
    },
    {
      "cell_type": "code",
      "execution_count": null,
      "metadata": {
        "id": "zXtRVUH9-ZNf",
        "colab": {
          "base_uri": "https://localhost:8080/"
        },
        "outputId": "c3c461f8-56ea-4a05-cf5d-8e1e5348c456"
      },
      "outputs": [
        {
          "output_type": "stream",
          "name": "stdout",
          "text": [
            "Neural network accuracy on train set: 0.99217\n"
          ]
        }
      ],
      "source": [
        "print(f'Neural network accuracy on train set: {train_acc:3.5}')"
      ]
    },
    {
      "cell_type": "markdown",
      "source": [
        " 0.99042"
      ],
      "metadata": {
        "id": "1UmqUnVU-K9F"
      }
    },
    {
      "cell_type": "code",
      "execution_count": null,
      "metadata": {
        "id": "epMmzbSn-ZNf"
      },
      "outputs": [],
      "source": [
        "predicted_labels = []\n",
        "real_labels = []\n",
        "model.eval()\n",
        "with torch.no_grad():\n",
        "    for batch in test_data_loader:\n",
        "        y_predicted = model(batch[0].reshape(-1, 784))\n",
        "        predicted_labels.append(y_predicted.argmax(dim=1))\n",
        "        real_labels.append(batch[1])\n",
        "\n",
        "predicted_labels = torch.cat(predicted_labels)\n",
        "real_labels = torch.cat(real_labels)\n",
        "test_acc = (predicted_labels == real_labels).type(torch.FloatTensor).mean()"
      ]
    },
    {
      "cell_type": "code",
      "execution_count": null,
      "metadata": {
        "id": "aetD1IFk-ZNf",
        "colab": {
          "base_uri": "https://localhost:8080/"
        },
        "outputId": "64f10467-8c77-45f5-8977-7078d86fe1ee"
      },
      "outputs": [
        {
          "output_type": "stream",
          "name": "stdout",
          "text": [
            "Neural network accuracy on test set: 0.9797\n"
          ]
        }
      ],
      "source": [
        "print(f'Neural network accuracy on test set: {test_acc:3.5}')"
      ]
    }
  ],
  "metadata": {
    "kernelspec": {
      "display_name": "facelv_1.13+cu117",
      "language": "python",
      "name": "python3"
    },
    "language_info": {
      "codemirror_mode": {
        "name": "ipython",
        "version": 3
      },
      "file_extension": ".py",
      "mimetype": "text/x-python",
      "name": "python",
      "nbconvert_exporter": "python",
      "pygments_lexer": "ipython3",
      "version": "3.8.18"
    },
    "vscode": {
      "interpreter": {
        "hash": "21499ab2a6726e29f7050b76af0e9680227e613293d630ba279de7ebdfad9cae"
      }
    },
    "colab": {
      "provenance": []
    }
  },
  "nbformat": 4,
  "nbformat_minor": 0
}